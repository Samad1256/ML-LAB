{
  "cells": [
    {
      "cell_type": "markdown",
      "metadata": {
        "id": "1Z64VMDD-P1_"
      },
      "source": [
        "<h2 align=\"center\"> Logistic Regression </h2>"
      ]
    },
    {
      "cell_type": "markdown",
      "metadata": {
        "id": "5A1wkFUg-P2B"
      },
      "source": []
    },
    {
      "cell_type": "markdown",
      "metadata": {
        "id": "Mw1AeVWL-P2B"
      },
      "source": [
        "### Task 2: Load the Data and Libraries\n",
        "---"
      ]
    },
    {
      "cell_type": "code",
      "execution_count": null,
      "metadata": {
        "id": "BSJj-y52-P2B"
      },
      "outputs": [],
      "source": [
        "import numpy as np\n",
        "import matplotlib.pyplot as plt\n",
        "import seaborn as sns\n",
        "import pandas as pd\n",
        "plt.style.use(\"ggplot\")\n",
        "%matplotlib inline"
      ]
    },
    {
      "cell_type": "code",
      "execution_count": null,
      "metadata": {
        "id": "m2ebAg4M-P2B"
      },
      "outputs": [],
      "source": [
        "from pylab import rcParams\n",
        "rcParams['figure.figsize'] = 12, 8"
      ]
    },
    {
      "cell_type": "code",
      "execution_count": null,
      "metadata": {
        "id": "Tn5g0oyG-P2C"
      },
      "outputs": [],
      "source": [
        "a = pd.read_csv(\"/content/DMV_Written_Tests.csv\")"
      ]
    },
    {
      "cell_type": "code",
      "execution_count": null,
      "metadata": {
        "colab": {
          "base_uri": "https://localhost:8080/"
        },
        "id": "x1ep659x-P2C",
        "outputId": "ce42794f-7482-4ce7-cae7-24928b06a190"
      },
      "outputs": [
        {
          "output_type": "stream",
          "name": "stdout",
          "text": [
            "    DMV_Test_1  DMV_Test_2  Results\n",
            "0    34.623660   78.024693        0\n",
            "1    30.286711   43.894998        0\n",
            "2    35.847409   72.902198        0\n",
            "3    60.182599   86.308552        1\n",
            "4    79.032736   75.344376        1\n",
            "..         ...         ...      ...\n",
            "95   83.489163   48.380286        1\n",
            "96   42.261701   87.103851        1\n",
            "97   99.315009   68.775409        1\n",
            "98   55.340018   64.931938        1\n",
            "99   74.775893   89.529813        1\n",
            "\n",
            "[100 rows x 3 columns]\n"
          ]
        }
      ],
      "source": [
        "print(a)"
      ]
    },
    {
      "cell_type": "code",
      "execution_count": null,
      "metadata": {
        "id": "e4UeZBLl-P2C"
      },
      "outputs": [],
      "source": []
    },
    {
      "cell_type": "markdown",
      "metadata": {
        "id": "oJ7LHrzn-P2C"
      },
      "source": [
        "### Task 3: Visualize the Data\n",
        "---"
      ]
    },
    {
      "cell_type": "code",
      "execution_count": null,
      "metadata": {
        "id": "sS_B-Ez4-P2C"
      },
      "outputs": [],
      "source": []
    },
    {
      "cell_type": "markdown",
      "metadata": {
        "id": "poGt2Xa2-P2C"
      },
      "source": [
        "### Task 4: Define the Logistic Sigmoid Function $\\sigma(z)$\n",
        "---\n",
        "\n",
        "$$ \\sigma(z) = \\frac{1}{1+e^{-z}}$$"
      ]
    },
    {
      "cell_type": "code",
      "execution_count": null,
      "metadata": {
        "id": "l6IX1kLz-P2C"
      },
      "outputs": [],
      "source": []
    },
    {
      "cell_type": "code",
      "execution_count": null,
      "metadata": {
        "id": "Wh5IpkzR-P2D"
      },
      "outputs": [],
      "source": []
    },
    {
      "cell_type": "markdown",
      "metadata": {
        "id": "dR9ZaH_e-P2D"
      },
      "source": [
        "### Task 5: Compute the Cost Function $J(\\theta)$ and Gradient\n",
        "---"
      ]
    },
    {
      "cell_type": "markdown",
      "metadata": {
        "id": "JoF3TP7G-P2D"
      },
      "source": [
        "The objective of logistic regression is to minimize the cost function\n",
        "\n",
        "$$J(\\theta) = -\\frac{1}{m} \\sum_{i=1}^{m} [ y^{(i)}log(h_{\\theta}(x^{(i)})) + (1 - y^{(i)})log(1 - (h_{\\theta}(x^{(i)}))]$$\n",
        "\n",
        "where the gradient of the cost function is given by\n",
        "\n",
        "$$ \\frac{\\partial J(\\theta)}{\\partial \\theta_j} = \\frac{1}{m} \\sum_{i=1}^{m} (h_{\\theta}(x^{(i)}) - y^{(i)})x_j^{(i)}$$"
      ]
    },
    {
      "cell_type": "code",
      "execution_count": null,
      "metadata": {
        "id": "JsyyvMuX-P2D"
      },
      "outputs": [],
      "source": []
    },
    {
      "cell_type": "markdown",
      "metadata": {
        "id": "3LCu4xTd-P2D"
      },
      "source": []
    },
    {
      "cell_type": "markdown",
      "metadata": {
        "id": "n4YnZFcG-P2D"
      },
      "source": [
        "### Task 6: Cost and Gradient at Initialization\n",
        "---"
      ]
    },
    {
      "cell_type": "code",
      "execution_count": null,
      "metadata": {
        "id": "Nl6Qno_E-P2D"
      },
      "outputs": [],
      "source": []
    },
    {
      "cell_type": "code",
      "execution_count": null,
      "metadata": {
        "id": "LiVJtsOJ-P2D"
      },
      "outputs": [],
      "source": []
    },
    {
      "cell_type": "markdown",
      "metadata": {
        "id": "eM7cZbFF-P2D"
      },
      "source": []
    },
    {
      "cell_type": "markdown",
      "metadata": {
        "id": "J69R8i6q-P2D"
      },
      "source": [
        "### Task 7: Gradient Descent\n",
        "---"
      ]
    },
    {
      "cell_type": "markdown",
      "metadata": {
        "id": "Urw_GT8H-P2D"
      },
      "source": [
        "Minimize the cost function $J(\\theta)$ by updating the below equation and repeat until convergence\n",
        "$\\theta_j := \\theta_j - \\alpha \\frac{\\partial J(\\theta)}{\\partial \\theta_j}$ (simultaneously update $\\theta_j$ for all $j$)"
      ]
    },
    {
      "cell_type": "code",
      "execution_count": null,
      "metadata": {
        "id": "bkQzzyBo-P2D"
      },
      "outputs": [],
      "source": []
    },
    {
      "cell_type": "code",
      "execution_count": null,
      "metadata": {
        "id": "CzEpyql3-P2D"
      },
      "outputs": [],
      "source": []
    },
    {
      "cell_type": "code",
      "execution_count": null,
      "metadata": {
        "id": "hbedPKPz-P2D"
      },
      "outputs": [],
      "source": []
    },
    {
      "cell_type": "markdown",
      "metadata": {
        "id": "qWEvvGaY-P2D"
      },
      "source": []
    },
    {
      "cell_type": "markdown",
      "metadata": {
        "id": "Jp8l5Rt8-P2D"
      },
      "source": [
        "### Task 8: Plotting the Convergence of $J(\\theta)$\n",
        "---"
      ]
    },
    {
      "cell_type": "markdown",
      "metadata": {
        "id": "gCdvpx9V-P2D"
      },
      "source": [
        "Plot $J(\\theta)$ against the number of iterations of gradient descent:"
      ]
    },
    {
      "cell_type": "code",
      "execution_count": null,
      "metadata": {
        "id": "p2bHc64B-P2D"
      },
      "outputs": [],
      "source": []
    },
    {
      "cell_type": "code",
      "execution_count": null,
      "metadata": {
        "id": "7F_yXZSo-P2D"
      },
      "outputs": [],
      "source": []
    },
    {
      "cell_type": "markdown",
      "metadata": {
        "id": "6yanoXIp-P2D"
      },
      "source": []
    },
    {
      "cell_type": "markdown",
      "metadata": {
        "id": "UMGPlSxn-P2D"
      },
      "source": [
        "### Task 9: Plotting the decision boundary\n",
        "---"
      ]
    },
    {
      "cell_type": "markdown",
      "metadata": {
        "id": "d9Hdi2bx-P2D"
      },
      "source": [
        "$h_\\theta(x) = \\sigma(z)$, where $\\sigma$ is the logistic sigmoid function and $z = \\theta^Tx$\n",
        "\n",
        "When $h_\\theta(x) \\geq 0.5$ the model predicts class \"1\":\n",
        "\n",
        "$\\implies \\sigma(\\theta^Tx) \\geq 0.5$\n",
        "\n",
        "$\\implies \\theta^Tx \\geq 0$ predict class \"1\"\n",
        "\n",
        "Hence, $\\theta_1 + \\theta_2x_2 + \\theta_3x_3 = 0$ is the equation for the decision boundary, giving us\n",
        "\n",
        "$ x_3 = \\frac{-(\\theta_1+\\theta_2x_2)}{\\theta_3}$"
      ]
    },
    {
      "cell_type": "code",
      "execution_count": null,
      "metadata": {
        "id": "osMKVVJw-P2E"
      },
      "outputs": [],
      "source": []
    },
    {
      "cell_type": "code",
      "execution_count": null,
      "metadata": {
        "id": "Uy0LA6bw-P2E"
      },
      "outputs": [],
      "source": []
    },
    {
      "cell_type": "markdown",
      "metadata": {
        "id": "wSNABKTs-P2E"
      },
      "source": []
    },
    {
      "cell_type": "markdown",
      "metadata": {
        "id": "zxIUGOoN-P2E"
      },
      "source": [
        "### Task 10: Predictions using the optimized $\\theta$ values\n",
        "---"
      ]
    },
    {
      "cell_type": "markdown",
      "metadata": {
        "id": "5oroJqWp-P2E"
      },
      "source": [
        "$h_\\theta(x) = x\\theta$"
      ]
    },
    {
      "cell_type": "code",
      "execution_count": null,
      "metadata": {
        "id": "exKY5WDd-P2H"
      },
      "outputs": [],
      "source": []
    },
    {
      "cell_type": "code",
      "execution_count": null,
      "metadata": {
        "id": "C4SWhfAO-P2I"
      },
      "outputs": [],
      "source": []
    },
    {
      "cell_type": "code",
      "execution_count": null,
      "metadata": {
        "id": "em6p5oaj-P2I"
      },
      "outputs": [],
      "source": []
    }
  ],
  "metadata": {
    "kernelspec": {
      "display_name": "Python 3 (ipykernel)",
      "language": "python",
      "name": "python3"
    },
    "language_info": {
      "codemirror_mode": {
        "name": "ipython",
        "version": 3
      },
      "file_extension": ".py",
      "mimetype": "text/x-python",
      "name": "python",
      "nbconvert_exporter": "python",
      "pygments_lexer": "ipython3",
      "version": "3.10.6"
    },
    "colab": {
      "provenance": []
    }
  },
  "nbformat": 4,
  "nbformat_minor": 0
}