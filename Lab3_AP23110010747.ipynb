{
  "cells": [
    {
      "cell_type": "markdown",
      "id": "7b5d3ee0",
      "metadata": {
        "id": "7b5d3ee0"
      },
      "source": [
        "# 🎯 Feature Engineering — Part A: Individual Concepts (Colab-Ready)\n",
        "\n",
        "**Updated:** 2025-08-22\n",
        "\n",
        "This notebook is designed for **first-time learners**. You will practice each feature engineering step **individually** (no pipelines yet), so you can clearly see *what each step does* and *why it matters*.\n",
        "\n",
        "**What you'll practice:**\n",
        "- Dataset loading & quick audit\n",
        "- Handling missing values (drop, impute)\n",
        "- Scaling & normalization (standardization, min-max, per-row normalization)\n",
        "- Encoding categorical variables (ordinal vs one-hot)\n",
        "- Feature transformations (log, power, polynomial)\n",
        "- Simple dimensionality reduction (PCA) for visualization\n",
        "- Short exercises after each section\n",
        "\n",
        "> Use this Part A first. After you are comfortable, move to **Part B (Pipelines)** to automate and combine steps."
      ]
    },
    {
      "cell_type": "markdown",
      "id": "04499a3f",
      "metadata": {
        "id": "04499a3f"
      },
      "source": [
        "## 0) Setup"
      ]
    },
    {
      "cell_type": "code",
      "execution_count": null,
      "id": "d1cd58db",
      "metadata": {
        "id": "d1cd58db"
      },
      "outputs": [],
      "source": [
        "# If running in Google Colab, you can install optional packages here:\n",
        "# !pip install -q statsmodels==0.14.2\n",
        "\n",
        "import numpy as np\n",
        "import pandas as pd\n",
        "import matplotlib.pyplot as plt\n",
        "\n",
        "from sklearn.impute import SimpleImputer, KNNImputer\n",
        "from sklearn.preprocessing import StandardScaler, MinMaxScaler, Normalizer, OrdinalEncoder\n",
        "from sklearn.preprocessing import PolynomialFeatures, PowerTransformer\n",
        "from sklearn.decomposition import PCA\n",
        "from sklearn.metrics import mean_squared_error\n",
        "\n",
        "pd.set_option('display.max_columns', 100)"
      ]
    },
    {
      "cell_type": "markdown",
      "id": "3de06ce7",
      "metadata": {
        "id": "3de06ce7"
      },
      "source": [
        "## 1) Dataset Setup & Quick Audit"
      ]
    },
    {
      "cell_type": "code",
      "execution_count": null,
      "id": "8fda59e9",
      "metadata": {
        "id": "8fda59e9"
      },
      "outputs": [],
      "source": [
        "# Option A: Load Titanic from a stable GitHub mirror (recommended for first run)\n",
        "URL = \"https://raw.githubusercontent.com/datasciencedojo/datasets/master/titanic.csv\"\n",
        "df = pd.read_csv(URL)\n",
        "print(\"Shape:\", df.shape)\n",
        "df.head()"
      ]
    },
    {
      "cell_type": "code",
      "execution_count": null,
      "id": "bd6588cc",
      "metadata": {
        "id": "bd6588cc"
      },
      "outputs": [],
      "source": [
        "# Option B: Upload your own CSV (uncomment to use in Colab)\n",
        "# from google.colab import files\n",
        "# up = files.upload()  # pick file\n",
        "# import io\n",
        "# df = pd.read_csv(io.BytesIO(up[list(up.keys())[0]]))\n",
        "# print(\"Shape:\", df.shape)\n",
        "# df.head()"
      ]
    },
    {
      "cell_type": "code",
      "execution_count": null,
      "id": "1020b508",
      "metadata": {
        "id": "1020b508"
      },
      "outputs": [],
      "source": [
        "# Quick audit\n",
        "print(\"\\nInfo:\")\n",
        "df.info()\n",
        "print(\"\\nMissing values per column:\")\n",
        "print(df.isna().sum().sort_values(ascending=False))\n",
        "print(\"\\nNumeric describe:\")\n",
        "df.describe().T"
      ]
    },
    {
      "cell_type": "markdown",
      "id": "84781f19",
      "metadata": {
        "id": "84781f19"
      },
      "source": [
        "## 2) Handling Missing Values (Individually)\n",
        "\n",
        "**Goal:** Learn when to **drop** vs **impute**.\n",
        "\n",
        "**Common choices**\n",
        "- Numeric: mean/median\n",
        "- Categorical: most frequent\n",
        "\n",
        "We'll practice on Titanic columns like `Age`, `Embarked`, and `Cabin`."
      ]
    },
    {
      "cell_type": "code",
      "execution_count": null,
      "id": "865e4694",
      "metadata": {
        "id": "865e4694"
      },
      "outputs": [],
      "source": [
        "# View null counts\n",
        "df.isna().sum().sort_values(ascending=False).head(10)"
      ]
    },
    {
      "cell_type": "code",
      "execution_count": null,
      "id": "32ae03bb",
      "metadata": {
        "id": "32ae03bb"
      },
      "outputs": [],
      "source": [
        "# 2.1 DROP example (use cautiously)\n",
        "df_drop_rows = df.dropna(subset=['Age', 'Embarked'])  # drop rows where these are null\n",
        "print(\"Original:\", df.shape, \"After drop:\", df_drop_rows.shape)"
      ]
    },
    {
      "cell_type": "code",
      "execution_count": null,
      "id": "1613fc7c",
      "metadata": {
        "id": "1613fc7c"
      },
      "outputs": [],
      "source": [
        "# 2.2 SIMPLE IMPUTE example\n",
        "df_imp = df.copy()\n",
        "# Numeric (Age): median\n",
        "df_imp['Age'] = df_imp['Age'].fillna(df_imp['Age'].median())\n",
        "# Categorical (Embarked): most frequent\n",
        "df_imp['Embarked'] = df_imp['Embarked'].fillna(df_imp['Embarked'].mode()[0])\n",
        "\n",
        "# 'Cabin' is very sparse; we can fill with \"Unknown\"\n",
        "df_imp['Cabin'] = df_imp['Cabin'].fillna('Unknown')\n",
        "\n",
        "df_imp.isna().sum().head(10)"
      ]
    },
    {
      "cell_type": "code",
      "execution_count": null,
      "id": "346a57b5",
      "metadata": {
        "id": "346a57b5"
      },
      "outputs": [],
      "source": [
        "# 2.3 KNN Imputation (numeric only demonstration)\n",
        "num_cols = df.select_dtypes(include=['number']).columns.tolist()\n",
        "knn_df = df[num_cols].copy()\n",
        "imputer = KNNImputer(n_neighbors=3)\n",
        "knn_imputed = imputer.fit_transform(knn_df)\n",
        "knn_imputed_df = pd.DataFrame(knn_imputed, columns=num_cols)\n",
        "knn_imputed_df.head()"
      ]
    },
    {
      "cell_type": "markdown",
      "id": "9902aff5",
      "metadata": {
        "id": "9902aff5"
      },
      "source": [
        "**📝 Exercise 2**\n",
        "1) Compare **mean vs median** imputation for `Age`. Which preserves the original distribution better?  \n",
        "2) For `Embarked`, try filling with a new category (`'Unknown'`) vs mode. What changes in `value_counts()`?"
      ]
    },
    {
      "cell_type": "code",
      "source": [
        "import pandas as pd\n",
        "import matplotlib.pyplot as plt\n",
        "\n",
        "# Exercise 2, Part 1: Compare mean vs median imputation for Age\n",
        "URL = \"https://raw.githubusercontent.com/datasciencedojo/datasets/master/titanic.csv\"\n",
        "df = pd.read_csv(URL)\n",
        "\n",
        "df_age_mean = df.copy()\n",
        "df_age_median = df.copy()\n",
        "\n",
        "# Impute with mean\n",
        "mean_age = df_age_mean['Age'].mean()\n",
        "df_age_mean['Age_mean_imputed'] = df_age_mean['Age'].fillna(mean_age)\n",
        "\n",
        "# Impute with median\n",
        "median_age = df_age_median['Age'].median()\n",
        "df_age_median['Age_median_imputed'] = df_age_median['Age'].fillna(median_age)\n",
        "\n",
        "# Compare distributions visually\n",
        "fig, axes = plt.subplots(1, 3, figsize=(15, 5))\n",
        "axes[0].hist(df['Age'].dropna(), bins=30, alpha=0.7)\n",
        "axes[0].set_title('Original Age Distribution')\n",
        "axes[1].hist(df_age_mean['Age_mean_imputed'], bins=30, alpha=0.7)\n",
        "axes[1].set_title('Age Distribution after Mean Imputation')\n",
        "axes[2].hist(df_age_median['Age_median_imputed'], bins=30, alpha=0.7)\n",
        "axes[2].set_title('Age Distribution after Median Imputation')\n",
        "plt.show()\n",
        "\n",
        "# Compare mean and median values after imputation\n",
        "print(\"Original Age Mean:\", df['Age'].mean())\n",
        "print(\"Age Mean after Mean Imputation:\", df_age_mean['Age_mean_imputed'].mean())\n",
        "print(\"Age Mean after Median Imputation:\", df_age_median['Age_median_imputed'].mean())\n",
        "print(\"\\nOriginal Age Median:\", df['Age'].median())\n",
        "print(\"Age Median after Median Imputation:\", df_age_median['Age_median_imputed'].median())"
      ],
      "metadata": {
        "colab": {
          "base_uri": "https://localhost:8080/",
          "height": 572
        },
        "id": "Q_2J745PF3gF",
        "outputId": "3ec58941-ff7f-4af7-9077-43cf31acf4cc"
      },
      "id": "Q_2J745PF3gF",
      "execution_count": 8,
      "outputs": [
        {
          "output_type": "display_data",
          "data": {
            "text/plain": [
              "<Figure size 1500x500 with 3 Axes>"
            ],
            "image/png": "[encoded data removed]"
          },
          "metadata": {}
        },
        {
          "output_type": "stream",
          "name": "stdout",
          "text": [
            "Original Age Mean: 29.69911764705882\n",
            "Age Mean after Mean Imputation: 29.69911764705882\n",
            "Age Mean after Median Imputation: 29.36158249158249\n",
            "\n",
            "Original Age Median: 28.0\n",
            "Age Median after Median Imputation: 28.0\n"
          ]
        }
      ]
    },
    {
      "cell_type": "code",
      "source": [
        "import pandas as pd\n",
        "\n",
        "# Exercise 2, Part 2: Compare filling Embarked with 'Unknown' vs mode\n",
        "URL = \"https://raw.githubusercontent.com/datasciencedojo/datasets/master/titanic.csv\"\n",
        "df = pd.read_csv(URL)\n",
        "\n",
        "df_embarked_unknown = df.copy()\n",
        "df_embarked_mode = df.copy()\n",
        "\n",
        "# Fill with 'Unknown'\n",
        "df_embarked_unknown['Embarked_filled'] = df_embarked_unknown['Embarked'].fillna('Unknown')\n",
        "\n",
        "# Fill with mode\n",
        "mode_embarked = df_embarked_mode['Embarked'].mode()[0]\n",
        "df_embarked_mode['Embarked_filled'] = df_embarked_mode['Embarked'].fillna(mode_embarked)\n",
        "\n",
        "# Compare value counts\n",
        "print(\"Original Embarked Value Counts:\\n\", df['Embarked'].value_counts(dropna=False))\n",
        "print(\"\\nEmbarked Value Counts after Filling with 'Unknown':\\n\", df_embarked_unknown['Embarked_filled'].value_counts(dropna=False))\n",
        "print(\"\\nEmbarked Value Counts after Filling with Mode:\\n\", df_embarked_mode['Embarked_filled'].value_counts(dropna=False))"
      ],
      "metadata": {
        "colab": {
          "base_uri": "https://localhost:8080/"
        },
        "id": "B_a1fXPBGcXd",
        "outputId": "d2b62524-e061-4575-b8c9-43c02c13c151"
      },
      "id": "B_a1fXPBGcXd",
      "execution_count": 6,
      "outputs": [
        {
          "output_type": "stream",
          "name": "stdout",
          "text": [
            "Original Embarked Value Counts:\n",
            " Embarked\n",
            "S      644\n",
            "C      168\n",
            "Q       77\n",
            "NaN      2\n",
            "Name: count, dtype: int64\n",
            "\n",
            "Embarked Value Counts after Filling with 'Unknown':\n",
            " Embarked_filled\n",
            "S          644\n",
            "C          168\n",
            "Q           77\n",
            "Unknown      2\n",
            "Name: count, dtype: int64\n",
            "\n",
            "Embarked Value Counts after Filling with Mode:\n",
            " Embarked_filled\n",
            "S    646\n",
            "C    168\n",
            "Q     77\n",
            "Name: count, dtype: int64\n"
          ]
        }
      ]
    },
    {
      "cell_type": "markdown",
      "id": "acba27c3",
      "metadata": {
        "id": "acba27c3"
      },
      "source": [
        "## 3) Scaling & Normalization (Individually)\n",
        "\n",
        "- **Standardization**: z = (x - mean)/std (good for many ML models)\n",
        "- **MinMax scaling**: maps to [0,1] (useful when features have different units)\n",
        "- **Per-row Normalization**: scales each *row vector* to unit norm (useful for text-like frequency vectors)\n",
        "\n",
        "We'll demonstrate on `Fare` and `Age`."
      ]
    },
    {
      "cell_type": "code",
      "execution_count": null,
      "id": "4c5f5268",
      "metadata": {
        "id": "4c5f5268"
      },
      "outputs": [],
      "source": [
        "fig, axes = plt.subplots(1, 2, figsize=(10,4))\n",
        "axes[0].hist(df_imp['Age'].dropna(), bins=30)\n",
        "axes[0].set_title('Age - Raw')\n",
        "axes[1].hist(df_imp['Fare'].dropna(), bins=30)\n",
        "axes[1].set_title('Fare - Raw')\n",
        "plt.show()"
      ]
    },
    {
      "cell_type": "code",
      "execution_count": null,
      "id": "2196adb4",
      "metadata": {
        "id": "2196adb4"
      },
      "outputs": [],
      "source": [
        "sc_std = StandardScaler()\n",
        "sc_mm  = MinMaxScaler()\n",
        "\n",
        "age_std = sc_std.fit_transform(df_imp[['Age']])\n",
        "fare_mm = sc_mm.fit_transform(df_imp[['Fare']])\n",
        "\n",
        "fig, axes = plt.subplots(1, 2, figsize=(10,4))\n",
        "axes[0].hist(age_std.flatten(), bins=30)\n",
        "axes[0].set_title('Age - Standardized')\n",
        "axes[1].hist(fare_mm.flatten(), bins=30)\n",
        "axes[1].set_title('Fare - MinMax [0,1]')\n",
        "plt.show()"
      ]
    },
    {
      "cell_type": "markdown",
      "id": "34d456b1",
      "metadata": {
        "id": "34d456b1"
      },
      "source": [
        "**📝 Exercise 3**\n",
        "1) Standardize `Fare` and plot the histogram.  \n",
        "2) Apply **Normalizer** on `[Age, Fare]` rows and check the first 5 normalized vectors."
      ]
    },
    {
      "cell_type": "code",
      "source": [
        "import pandas as pd\n",
        "import matplotlib.pyplot as plt\n",
        "from sklearn.preprocessing import StandardScaler\n",
        "\n",
        "# Exercise 3, Part 1: Standardize Fare and plot the histogram\n",
        "URL = \"https://raw.githubusercontent.com/datasciencedojo/datasets/master/titanic.csv\"\n",
        "df = pd.read_csv(URL)\n",
        "df_imp = df.copy() # Assuming df_imp from section 2 is the starting point\n",
        "\n",
        "# Impute Fare with median to handle potential NaNs before scaling\n",
        "df_imp['Fare'] = df_imp['Fare'].fillna(df_imp['Fare'].median())\n",
        "\n",
        "sc_std = StandardScaler()\n",
        "fare_std = sc_std.fit_transform(df_imp[['Fare']])\n",
        "\n",
        "plt.figure(figsize=(6, 4))\n",
        "plt.hist(fare_std.flatten(), bins=30)\n",
        "plt.title('Fare - Standardized')\n",
        "plt.show()"
      ],
      "metadata": {
        "colab": {
          "base_uri": "https://localhost:8080/",
          "height": 391
        },
        "id": "_Al_OU5jG6_E",
        "outputId": "2cbe38cf-cdd8-4afa-c8c5-f8a00114d21c"
      },
      "id": "_Al_OU5jG6_E",
      "execution_count": 11,
      "outputs": [
        {
          "output_type": "display_data",
          "data": {
            "text/plain": [
              "<Figure size 600x400 with 1 Axes>"
            ],
            "image/png": "[encoded data removed]"
          },
          "metadata": {}
        }
      ]
    },
    {
      "cell_type": "code",
      "source": [
        "import pandas as pd\n",
        "from sklearn.preprocessing import Normalizer\n",
        "\n",
        "# Exercise 3, Part 2: Apply Normalizer on [Age, Fare] rows and check the first 5 normalized vectors.\n",
        "URL = \"https://raw.githubusercontent.com/datasciencedojo/datasets/master/titanic.csv\"\n",
        "df = pd.read_csv(URL)\n",
        "df_imp = df.copy() # Assuming df_imp from section 2 is the starting point\n",
        "\n",
        "# Impute Age and Fare with median to handle potential NaNs before normalization\n",
        "df_imp['Age'] = df_imp['Age'].fillna(df_imp['Age'].median())\n",
        "df_imp['Fare'] = df_imp['Fare'].fillna(df_imp['Fare'].median())\n",
        "\n",
        "\n",
        "norm = Normalizer()\n",
        "age_fare = df_imp[['Age', 'Fare']]\n",
        "age_fare_normalized = norm.fit_transform(age_fare)\n",
        "\n",
        "print(\"First 5 normalized [Age, Fare] vectors:\")\n",
        "print(age_fare_normalized[:5])"
      ],
      "metadata": {
        "colab": {
          "base_uri": "https://localhost:8080/"
        },
        "id": "-gWIrTp4G7Ph",
        "outputId": "dbb7d78b-3d68-469e-9586-7585c0478418"
      },
      "id": "-gWIrTp4G7Ph",
      "execution_count": 12,
      "outputs": [
        {
          "output_type": "stream",
          "name": "stdout",
          "text": [
            "First 5 normalized [Age, Fare] vectors:\n",
            "[[0.94975704 0.31298812]\n",
            " [0.47041706 0.88244422]\n",
            " [0.95655127 0.29156418]\n",
            " [0.55033828 0.83494178]\n",
            " [0.97455519 0.22414769]]\n"
          ]
        }
      ]
    },
    {
      "cell_type": "markdown",
      "id": "fdf2e146",
      "metadata": {
        "id": "fdf2e146"
      },
      "source": [
        "## 4) Encoding Categorical Variables (Individually)\n",
        "\n",
        "- **Ordinal/Label encoding**: map categories to integers (assumes order or used with tree models).  \n",
        "- **One-Hot encoding**: binary column per category (no order assumption).\n",
        "\n",
        "We'll use `Sex` and `Embarked` as examples."
      ]
    },
    {
      "cell_type": "code",
      "execution_count": null,
      "id": "8a961c29",
      "metadata": {
        "id": "8a961c29"
      },
      "outputs": [],
      "source": [
        "# 4.1 Ordinal encoding demo (note: no real order in Sex/Embarked; this is just to illustrate)\n",
        "enc = OrdinalEncoder()\n",
        "ord_demo = df_imp[['Sex','Embarked']].copy()\n",
        "ord_vals = enc.fit_transform(ord_demo)\n",
        "pd.DataFrame(ord_vals, columns=['Sex_ord','Embarked_ord']).head()"
      ]
    },
    {
      "cell_type": "code",
      "execution_count": null,
      "id": "fb67c353",
      "metadata": {
        "id": "fb67c353"
      },
      "outputs": [],
      "source": [
        "# 4.2 One-Hot encoding demo with pandas\n",
        "ohe_embarked = pd.get_dummies(df_imp['Embarked'], prefix='Embarked')\n",
        "ohe_sex = pd.get_dummies(df_imp['Sex'], prefix='Sex')\n",
        "encoded_df = pd.concat([df_imp[['Survived','Age','Fare']], ohe_sex, ohe_embarked], axis=1)\n",
        "encoded_df.head()"
      ]
    },
    {
      "cell_type": "markdown",
      "id": "5be0cd1f",
      "metadata": {
        "id": "5be0cd1f"
      },
      "source": [
        "**📝 Exercise 4**\n",
        "1) Compare the **number of features** produced by ordinal vs one-hot for `Embarked`.  \n",
        "2) Why might one-hot be safer for linear models?"
      ]
    },
    {
      "cell_type": "code",
      "source": [
        "import pandas as pd\n",
        "from sklearn.preprocessing import OrdinalEncoder\n",
        "\n",
        "# Exercise 4, Part 1: Compare the number of features produced by ordinal vs one-hot for Embarked.\n",
        "URL = \"https://raw.githubusercontent.com/datasciencedojo/datasets/master/titanic.csv\"\n",
        "df = pd.read_csv(URL)\n",
        "df_imp = df.copy() # Assuming df_imp from section 2 is the starting point\n",
        "\n",
        "# Impute Embarked with mode to handle potential NaNs\n",
        "df_imp['Embarked'] = df_imp['Embarked'].fillna(df_imp['Embarked'].mode()[0])\n",
        "\n",
        "# Ordinal Encoding\n",
        "ord_enc = OrdinalEncoder()\n",
        "embarked_ord = ord_enc.fit_transform(df_imp[['Embarked']])\n",
        "num_features_ordinal = embarked_ord.shape[1]\n",
        "\n",
        "# One-Hot Encoding\n",
        "embarked_ohe = pd.get_dummies(df_imp['Embarked'], prefix='Embarked')\n",
        "num_features_onehot = embarked_ohe.shape[1]\n",
        "\n",
        "print(f\"Number of features after Ordinal Encoding (Embarked): {num_features_ordinal}\")\n",
        "print(f\"Number of features after One-Hot Encoding (Embarked): {num_features_onehot}\")"
      ],
      "metadata": {
        "colab": {
          "base_uri": "https://localhost:8080/"
        },
        "id": "Yv80NE3VIVlX",
        "outputId": "ca5c6f91-b3e7-4961-92e4-a49714f0cce0"
      },
      "id": "Yv80NE3VIVlX",
      "execution_count": 13,
      "outputs": [
        {
          "output_type": "stream",
          "name": "stdout",
          "text": [
            "Number of features after Ordinal Encoding (Embarked): 1\n",
            "Number of features after One-Hot Encoding (Embarked): 3\n"
          ]
        }
      ]
    },
    {
      "cell_type": "code",
      "source": [
        "# Exercise 4, Part 2: Why might one-hot be safer for linear models?\n",
        "\n",
        "print(\"One-hot encoding is generally safer for linear models because it prevents the model from assuming an ordinal relationship between categories that doesn't exist. Linear models interpret numerical values as having a magnitude and order. If you use ordinal encoding on a categorical variable where there's no inherent order (like 'Embarked' - S, C, Q), the model might incorrectly assign higher importance or weight to categories with higher numerical labels. One-hot encoding creates separate binary features for each category, treating each category as an independent entity without implying any order or magnitude relationship between them.\")"
      ],
      "metadata": {
        "colab": {
          "base_uri": "https://localhost:8080/"
        },
        "id": "xdhgqI-yIVzl",
        "outputId": "d3e8f998-7aa2-47c0-baa0-713621e0671c"
      },
      "id": "xdhgqI-yIVzl",
      "execution_count": 14,
      "outputs": [
        {
          "output_type": "stream",
          "name": "stdout",
          "text": [
            "One-hot encoding is generally safer for linear models because it prevents the model from assuming an ordinal relationship between categories that doesn't exist. Linear models interpret numerical values as having a magnitude and order. If you use ordinal encoding on a categorical variable where there's no inherent order (like 'Embarked' - S, C, Q), the model might incorrectly assign higher importance or weight to categories with higher numerical labels. One-hot encoding creates separate binary features for each category, treating each category as an independent entity without implying any order or magnitude relationship between them.\n"
          ]
        }
      ]
    },
    {
      "cell_type": "markdown",
      "id": "8c161dfa",
      "metadata": {
        "id": "8c161dfa"
      },
      "source": [
        "## 5) Feature Transformation (Individually)\n",
        "\n",
        "- **Log transform**: t = log1p(x) for right-skewed positive data (e.g., Fare).\n",
        "- **Power transform**: Yeo-Johnson can handle zero/negative values; stabilizes variance.\n",
        "- **Polynomial features**: create interactions/quadratics for simple non-linear modeling.\n",
        "\n",
        "We'll use `Fare` and `Age`."
      ]
    },
    {
      "cell_type": "code",
      "execution_count": null,
      "id": "1c5012b4",
      "metadata": {
        "id": "1c5012b4"
      },
      "outputs": [],
      "source": [
        "# 5.1 Log transform on Fare (positive values)\n",
        "fare_raw = df_imp['Fare'].dropna().values.reshape(-1,1)\n",
        "fare_log = np.log1p(fare_raw)\n",
        "\n",
        "fig, axes = plt.subplots(1, 2, figsize=(10,4))\n",
        "axes[0].hist(fare_raw.flatten(), bins=30)\n",
        "axes[0].set_title('Fare - Raw')\n",
        "axes[1].hist(fare_log.flatten(), bins=30)\n",
        "axes[1].set_title('Fare - log1p')\n",
        "plt.show()"
      ]
    },
    {
      "cell_type": "code",
      "execution_count": null,
      "id": "c8c34a54",
      "metadata": {
        "id": "c8c34a54"
      },
      "outputs": [],
      "source": [
        "# 5.2 Power transform (Yeo-Johnson) on [Age, Fare]\n",
        "pt = PowerTransformer(method='yeo-johnson')\n",
        "af = df_imp[['Age','Fare']].dropna()\n",
        "af_pt = pt.fit_transform(af)\n",
        "\n",
        "fig, axes = plt.subplots(1, 2, figsize=(10,4))\n",
        "axes[0].hist(af['Age'].values, bins=30)\n",
        "axes[0].set_title('Age - Raw')\n",
        "axes[1].hist(af_pt[:,0], bins=30)\n",
        "axes[1].set_title('Age - Yeo-Johnson')\n",
        "plt.show()"
      ]
    },
    {
      "cell_type": "code",
      "execution_count": null,
      "id": "b4d9c780",
      "metadata": {
        "id": "b4d9c780"
      },
      "outputs": [],
      "source": [
        "# 5.3 Polynomial features on [Age, Fare] (degree=2)\n",
        "poly = PolynomialFeatures(degree=2, include_bias=False)\n",
        "af_poly = poly.fit_transform(af[['Age','Fare']])\n",
        "print(\"Original shape:\", af[['Age','Fare']].shape, \" -> With poly:\", af_poly.shape)\n",
        "poly.get_feature_names_out(['Age','Fare'])[:6]"
      ]
    },
    {
      "cell_type": "markdown",
      "id": "86f15002",
      "metadata": {
        "id": "86f15002"
      },
      "source": [
        "**📝 Exercise 5**\n",
        "1) Identify one numeric column that is **skewed**. Try both **log** and **power** transforms and compare histograms.  \n",
        "2) With `PolynomialFeatures(2)`, which new terms are created from `Age` and `Fare`?"
      ]
    },
    {
      "cell_type": "code",
      "source": [
        "import pandas as pd\n",
        "import numpy as np\n",
        "import matplotlib.pyplot as plt\n",
        "from sklearn.preprocessing import PowerTransformer\n",
        "\n",
        "# Exercise 5, Part 1: Identify one skewed numeric column, apply log and power transforms, and compare histograms.\n",
        "URL = \"https://raw.githubusercontent.com/datasciencedojo/datasets/master/titanic.csv\"\n",
        "df = pd.read_csv(URL)\n",
        "df_imp = df.copy() # Assuming df_imp from section 2 is the starting point\n",
        "\n",
        "# Impute Fare with median to handle potential NaNs before transformation\n",
        "df_imp['Fare'] = df_imp['Fare'].fillna(df_imp['Fare'].median())\n",
        "\n",
        "# 'Fare' is a skewed numeric column (as seen in previous plots)\n",
        "fare_raw = df_imp['Fare'].values.reshape(-1, 1)\n",
        "\n",
        "# Log transform (using log1p to handle potential zero values)\n",
        "fare_log = np.log1p(fare_raw)\n",
        "\n",
        "# Power transform (Yeo-Johnson handles zero/negative, but Fare is non-negative after imputation)\n",
        "pt = PowerTransformer(method='yeo-johnson')\n",
        "fare_pt = pt.fit_transform(fare_raw)\n",
        "\n",
        "# Compare histograms\n",
        "fig, axes = plt.subplots(1, 3, figsize=(15, 4))\n",
        "axes[0].hist(fare_raw.flatten(), bins=30)\n",
        "axes[0].set_title('Fare - Raw')\n",
        "axes[1].hist(fare_log.flatten(), bins=30)\n",
        "axes[1].set_title('Fare - log1p')\n",
        "axes[2].hist(fare_pt.flatten(), bins=30)\n",
        "axes[2].set_title('Fare - Yeo-Johnson Power Transform')\n",
        "plt.show()"
      ],
      "metadata": {
        "colab": {
          "base_uri": "https://localhost:8080/",
          "height": 391
        },
        "id": "xkTN-efrIoCm",
        "outputId": "1386dae0-552f-4b89-9f7b-3b1d3f04149d"
      },
      "id": "xkTN-efrIoCm",
      "execution_count": 15,
      "outputs": [
        {
          "output_type": "display_data",
          "data": {
            "text/plain": [
              "<Figure size 1500x400 with 3 Axes>"
            ],
            "image/png": "[encoded data removed]"
          },
          "metadata": {}
        }
      ]
    },
    {
      "cell_type": "code",
      "source": [
        "import pandas as pd\n",
        "from sklearn.preprocessing import PolynomialFeatures\n",
        "\n",
        "# Exercise 5, Part 2: With PolynomialFeatures(2), which new terms are created from Age and Fare?\n",
        "URL = \"https://raw.githubusercontent.com/datasciencedojo/datasets/master/titanic.csv\"\n",
        "df = pd.read_csv(URL)\n",
        "df_imp = df.copy() # Assuming df_imp from section 2 is the starting point\n",
        "\n",
        "# Impute Age and Fare with median to handle potential NaNs before creating polynomial features\n",
        "df_imp['Age'] = df_imp['Age'].fillna(df_imp['Age'].median())\n",
        "df_imp['Fare'] = df_imp['Fare'].fillna(df_imp['Fare'].median())\n",
        "\n",
        "af = df_imp[['Age','Fare']]\n",
        "\n",
        "poly = PolynomialFeatures(degree=2, include_bias=False)\n",
        "af_poly = poly.fit_transform(af)\n",
        "\n",
        "print(\"Original features:\", af.columns.tolist())\n",
        "print(\"New features created by PolynomialFeatures(degree=2):\")\n",
        "print(poly.get_feature_names_out(af.columns))"
      ],
      "metadata": {
        "colab": {
          "base_uri": "https://localhost:8080/"
        },
        "id": "8SvczHhUIoO2",
        "outputId": "3c78ac2e-77d2-4d3c-86f2-c51521800b2b"
      },
      "id": "8SvczHhUIoO2",
      "execution_count": 16,
      "outputs": [
        {
          "output_type": "stream",
          "name": "stdout",
          "text": [
            "Original features: ['Age', 'Fare']\n",
            "New features created by PolynomialFeatures(degree=2):\n",
            "['Age' 'Fare' 'Age^2' 'Age Fare' 'Fare^2']\n"
          ]
        }
      ]
    },
    {
      "cell_type": "markdown",
      "id": "8b550f5f",
      "metadata": {
        "id": "8b550f5f"
      },
      "source": [
        "## 6) Simple Dimensionality Reduction (PCA) — Visualization Only\n",
        "\n",
        "We will apply PCA to **numeric** features to reduce to 2D and make a scatter plot colored by `Survived` (if present).\n",
        "\n",
        "> Note: This is for **intuition/visualization** only in Part A."
      ]
    },
    {
      "cell_type": "code",
      "execution_count": null,
      "id": "888f66b0",
      "metadata": {
        "id": "888f66b0"
      },
      "outputs": [],
      "source": [
        "# Prepare a numeric-only frame (drop NA for simplicity here)\n",
        "num_only = df_imp.select_dtypes(include=['number']).dropna()\n",
        "y = df_imp.loc[num_only.index, 'Survived'] if 'Survived' in df_imp.columns else None\n",
        "\n",
        "pca = PCA(n_components=2, random_state=42)\n",
        "Z = pca.fit_transform(num_only.values)\n",
        "\n",
        "print(\"Explained variance ratios:\", pca.explained_variance_ratio_)\n",
        "\n",
        "# Plot\n",
        "plt.figure(figsize=(6,5))\n",
        "if y is not None:\n",
        "    # Color by Survived (0/1). Using a simple split to avoid specifying colors.\n",
        "    idx0 = (y.values == 0)\n",
        "    idx1 = (y.values == 1)\n",
        "    plt.scatter(Z[idx0,0], Z[idx0,1], s=10, label='Survived=0')\n",
        "    plt.scatter(Z[idx1,0], Z[idx1,1], s=10, label='Survived=1')\n",
        "    plt.legend()\n",
        "else:\n",
        "    plt.scatter(Z[:,0], Z[:,1], s=10)\n",
        "plt.xlabel('PC1'); plt.ylabel('PC2'); plt.title('PCA (numeric only)')\n",
        "plt.show()"
      ]
    },
    {
      "cell_type": "markdown",
      "id": "ade92af5",
      "metadata": {
        "id": "ade92af5"
      },
      "source": [
        "**📝 Exercise 6**\n",
        "1) Which **two numeric columns** contribute the most variance before PCA (use `df.var()`)?  \n",
        "2) Try PCA with `n_components=3` and print the cumulative explained variance."
      ]
    },
    {
      "cell_type": "code",
      "source": [
        "import pandas as pd\n",
        "\n",
        "# Exercise 6, Part 1: Which two numeric columns contribute the most variance before PCA?\n",
        "URL = \"https://raw.githubusercontent.com/datasciencedojo/datasets/master/titanic.csv\"\n",
        "df = pd.read_csv(URL)\n",
        "\n",
        "# Select only numeric columns and drop non-numeric ones for variance calculation\n",
        "numeric_df = df.select_dtypes(include=['number'])\n",
        "\n",
        "# Calculate variance for each numeric column\n",
        "variance_per_column = numeric_df.var().sort_values(ascending=False)\n",
        "\n",
        "print(\"Variance per numeric column (sorted descending):\\n\", variance_per_column)\n",
        "print(\"\\nTop 2 numeric columns with most variance:\")\n",
        "print(variance_per_column.head(2))"
      ],
      "metadata": {
        "colab": {
          "base_uri": "https://localhost:8080/"
        },
        "id": "Vgi-SD00I0me",
        "outputId": "056a589a-65e5-4f31-fd42-2b95dbef28a1"
      },
      "id": "Vgi-SD00I0me",
      "execution_count": 17,
      "outputs": [
        {
          "output_type": "stream",
          "name": "stdout",
          "text": [
            "Variance per numeric column (sorted descending):\n",
            " PassengerId    66231.000000\n",
            "Fare            2469.436846\n",
            "Age              211.019125\n",
            "SibSp              1.216043\n",
            "Pclass             0.699015\n",
            "Parch              0.649728\n",
            "Survived           0.236772\n",
            "dtype: float64\n",
            "\n",
            "Top 2 numeric columns with most variance:\n",
            "PassengerId    66231.000000\n",
            "Fare            2469.436846\n",
            "dtype: float64\n"
          ]
        }
      ]
    },
    {
      "cell_type": "code",
      "source": [
        "import pandas as pd\n",
        "from sklearn.decomposition import PCA\n",
        "import numpy as np\n",
        "\n",
        "# Exercise 6, Part 2: Try PCA with n_components=3 and print the cumulative explained variance.\n",
        "URL = \"https://raw.githubusercontent.com/datasciencedojo/datasets/master/titanic.csv\"\n",
        "df = pd.read_csv(URL)\n",
        "df_imp = df.copy() # Assuming df_imp from section 2 is the starting point\n",
        "\n",
        "# Impute numeric columns with median to handle potential NaNs before PCA\n",
        "numeric_cols = df_imp.select_dtypes(include=['number']).columns\n",
        "for col in numeric_cols:\n",
        "    df_imp[col] = df_imp[col].fillna(df_imp[col].median())\n",
        "\n",
        "# Select numeric columns for PCA\n",
        "num_only = df_imp.select_dtypes(include=['number'])\n",
        "\n",
        "\n",
        "pca = PCA(n_components=3, random_state=42)\n",
        "pca.fit(num_only)\n",
        "\n",
        "explained_variance_ratio_cumulative = np.cumsum(pca.explained_variance_ratio_)\n",
        "\n",
        "print(\"Explained variance ratios per component:\", pca.explained_variance_ratio_)\n",
        "print(\"Cumulative explained variance ratio with 3 components:\", explained_variance_ratio_cumulative[-1])"
      ],
      "metadata": {
        "colab": {
          "base_uri": "https://localhost:8080/"
        },
        "id": "9FsSEbuGI0yZ",
        "outputId": "9ad24bc7-cbbe-46d5-cc09-58b13ccc63c4"
      },
      "id": "9FsSEbuGI0yZ",
      "execution_count": 18,
      "outputs": [
        {
          "output_type": "stream",
          "name": "stdout",
          "text": [
            "Explained variance ratios per component: [0.96165195 0.03587775 0.0024362 ]\n",
            "Cumulative explained variance ratio with 3 components: 0.9999659003439996\n"
          ]
        }
      ]
    },
    {
      "cell_type": "markdown",
      "id": "2d52dd9c",
      "metadata": {
        "id": "2d52dd9c"
      },
      "source": [
        "## 7) Consolidated Practice (No Pipelines Yet)\n",
        "\n",
        "Using the operations you've learned, perform a **clean preprocessing** (manually):\n",
        "1) Impute: `Age` (median), `Embarked` (mode), `Cabin` ('Unknown').  \n",
        "2) Scale: standardize `Age` and min-max scale `Fare`.  \n",
        "3) Encode: one-hot `Sex` and `Embarked`.  \n",
        "4) Transform: log1p `Fare`.  \n",
        "5) (Optional) PCA on numeric subset for 2D visualization.\n",
        "\n",
        "Then, answer:\n",
        "- Which step **changed the data distribution** the most?\n",
        "- Which encoding produced **more features**, ordinal or one-hot? Why?\n",
        "- If you trained a simple logistic regression on your manually processed features, what **accuracy** do you get on a 75/25 split? (Optional challenge)"
      ]
    },
    {
      "cell_type": "markdown",
      "id": "6e7413b3",
      "metadata": {
        "id": "6e7413b3"
      },
      "source": [
        "## ✅ What You Should Take Away from Part A\n",
        "\n",
        "- Each step (imputation, scaling, encoding, transforms) has a **clear purpose** and **visible effect**.  \n",
        "- You can now apply them **manually** and reason about their impact.  \n",
        "- Next: move to **Part B (Pipelines)** to **combine & automate** these steps safely (avoid leakage, enable cross-validation, and reproducibility)."
      ]
    }
  ],
  "metadata": {
    "colab": {
      "provenance": []
    },
    "language_info": {
      "name": "python"
    },
    "kernelspec": {
      "name": "python3",
      "display_name": "Python 3"
    }
  },
  "nbformat": 4,
  "nbformat_minor": 5
}