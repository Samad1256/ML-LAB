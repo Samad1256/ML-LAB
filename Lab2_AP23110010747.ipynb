{
  "cells": [
    {
      "cell_type": "markdown",
      "metadata": {
        "id": "XuI_quAW06Vy"
      },
      "source": [
        "# 🧑‍🎓 Student Version — Solutions Removed\n",
        "- Use the reflection prompts and hints.\n",
        "- Your instructor will share solutions separately."
      ],
      "id": "XuI_quAW06Vy"
    },
    {
      "cell_type": "code",
      "metadata": {
        "id": "7YD2i29v06V1"
      },
      "source": [
        "REVEAL_SOLUTIONS = False\n",
        "print('Solutions are hidden in the Student Version.')"
      ],
      "outputs": [],
      "execution_count": null,
      "id": "7YD2i29v06V1"
    },
    {
      "cell_type": "markdown",
      "metadata": {
        "id": "w_0t1z-n06V2"
      },
      "source": [
        "# Pandas in Google Colab — 2-Hour Hands-On (+ Advanced & Capstone)\n",
        "**With Reflection Prompts After Each Section**\n",
        "**Last updated:** 2025-08-15\n",
        "\n",
        "Run top-to-bottom. Attempt **Exercises**, then write your **✍️ Analysis** under each section."
      ],
      "id": "w_0t1z-n06V2"
    },
    {
      "cell_type": "markdown",
      "metadata": {
        "id": "q6jgDJKI06V3"
      },
      "source": [
        "## 0) Setup & Load the **tips** dataset (10m)"
      ],
      "id": "q6jgDJKI06V3"
    },
    {
      "cell_type": "code",
      "metadata": {
        "id": "97M7weLA06V3"
      },
      "source": [
        "import pandas as pd, numpy as np, matplotlib.pyplot as plt\n",
        "pd.set_option('display.max_rows', 10); pd.set_option('display.precision', 3)\n",
        "url = \"https://raw.githubusercontent.com/mwaskom/seaborn-data/master/tips.csv\"\n",
        "tips = pd.read_csv(url); tips.head()"
      ],
      "outputs": [],
      "execution_count": null,
      "id": "97M7weLA06V3"
    },
    {
      "cell_type": "code",
      "metadata": {
        "id": "fTExHwtP06V3"
      },
      "source": [
        "print(\"Shape:\", tips.shape)\n",
        "print(\"\\nInfo:\"); print(tips.info())\n",
        "print(\"\\nDescribe:\"); display(tips.describe(include='all'))"
      ],
      "outputs": [],
      "execution_count": null,
      "id": "fTExHwtP06V3"
    },
    {
      "cell_type": "markdown",
      "metadata": {
        "id": "8waV_xz_06V4"
      },
      "source": [
        "**Columns**: `total_bill` (float), `tip` (float), `sex` (str), `smoker` (str), `day` (str), `time` (str), `size` (int)"
      ],
      "id": "8waV_xz_06V4"
    },
    {
      "cell_type": "markdown",
      "metadata": {
        "id": "q9d1x4EV06V4"
      },
      "source": [
        "### ✅ Exercise 0\n",
        "1) Unique `day`, `time`. 2) Count duplicates. 3) Averages of `total_bill`, `tip`."
      ],
      "id": "q9d1x4EV06V4"
    },
    {
      "cell_type": "markdown",
      "metadata": {
        "id": "lNW3stSe06V4"
      },
      "source": [
        "**Hints:**\n",
        "- Concept: inspect levels and duplicates.\n",
        "- API: `unique`, `duplicated`, `mean`.\n"
      ],
      "id": "lNW3stSe06V4"
    },
    {
      "cell_type": "code",
      "metadata": {
        "colab": {
          "base_uri": "https://localhost:8080/"
        },
        "id": "3F092VuI06V4",
        "outputId": "50746149-3306-47cf-c666-21f9bb85cb0a"
      },
      "source": [
        "# YOUR WORK: Exercise 0\n",
        "\n",
        "import pandas as pd\n",
        "\n",
        "# Load the dataset\n",
        "url = \"https://raw.githubusercontent.com/mwaskom/seaborn-data/master/tips.csv\"\n",
        "tips = pd.read_csv(url)\n",
        "\n",
        "# Exercise 0 code:\n",
        "# 1) Unique day and time values\n",
        "unique_days = tips['day'].unique()\n",
        "unique_times = tips['time'].unique()\n",
        "\n",
        "# 2) Count duplicates (number of duplicate rows)\n",
        "duplicates_count = tips.duplicated().sum()\n",
        "\n",
        "# 3) Averages of total_bill and tip\n",
        "avg_total_bill = tips['total_bill'].mean()\n",
        "avg_tip = tips['tip'].mean()\n",
        "\n",
        "# Display results\n",
        "print(\"1) Unique days:\", unique_days)\n",
        "print(\"   Unique times:\", unique_times)\n",
        "print(\"2) Number of duplicates:\", duplicates_count)\n",
        "print(\"3) Average total_bill:\", avg_total_bill)\n",
        "print(\"   Average tip:\", avg_tip)\n"
      ],
      "outputs": [
        {
          "output_type": "stream",
          "name": "stdout",
          "text": [
            "1) Unique days: ['Sun' 'Sat' 'Thur' 'Fri']\n",
            "   Unique times: ['Dinner' 'Lunch']\n",
            "2) Number of duplicates: 1\n",
            "3) Average total_bill: 19.78594262295082\n",
            "   Average tip: 2.99827868852459\n"
          ]
        }
      ],
      "execution_count": 1,
      "id": "3F092VuI06V4"
    },
    {
      "cell_type": "markdown",
      "metadata": {
        "id": "LppjLCJY06V4"
      },
      "source": [
        "### ✍️ Analysis (Setup & Load) — 3–5 sentences\n",
        "- What columns and dtypes did you observe? Any surprises?\n",
        "- Is the dataset balanced across `day` and `time`? Cite one count.\n",
        "- One risk if you skip an initial audit here.\n",
        "\n",
        "### 🔎 Quick checks\n",
        "- Report the shape (rows, cols).\n",
        "- Name 1 non-numeric dtype and why it matters.\n",
        "\n",
        "### ➕ Extension (pick one)\n",
        "- Tweak display options and note the effect.\n",
        "- Compute `value_counts()` on `day` or `time`.\n",
        "\n",
        "**Rubric (10 pts):** Correctness 3 • Evidence 2 • Clarity 2 • Reproducibility 2 • Exploration 1"
      ],
      "id": "LppjLCJY06V4"
    },
    {
      "cell_type": "markdown",
      "metadata": {
        "id": "5cVvaiVD06V4"
      },
      "source": [
        "## 1) Import & Core Manipulation (20m)"
      ],
      "id": "5cVvaiVD06V4"
    },
    {
      "cell_type": "code",
      "metadata": {
        "id": "YNaF1R2K06V5"
      },
      "source": [
        "tips[['total_bill','tip']].head()"
      ],
      "outputs": [],
      "execution_count": null,
      "id": "YNaF1R2K06V5"
    },
    {
      "cell_type": "code",
      "metadata": {
        "id": "GTzI7HlY06V5"
      },
      "source": [
        "tips.iloc[0:5]"
      ],
      "outputs": [],
      "execution_count": null,
      "id": "GTzI7HlY06V5"
    },
    {
      "cell_type": "code",
      "metadata": {
        "id": "XEW3VpDy06V5"
      },
      "source": [
        "tips.loc[tips['day']=='Sun', ['total_bill','tip','size']].head()"
      ],
      "outputs": [],
      "execution_count": null,
      "id": "XEW3VpDy06V5"
    },
    {
      "cell_type": "code",
      "metadata": {
        "id": "Zwem_SG906V5"
      },
      "source": [
        "tips.query(\"time=='Lunch' and smoker=='Yes'\").head()"
      ],
      "outputs": [],
      "execution_count": null,
      "id": "Zwem_SG906V5"
    },
    {
      "cell_type": "code",
      "metadata": {
        "id": "1Ntx8q0z06V5"
      },
      "source": [
        "tips.sort_values(['total_bill','tip'], ascending=[False, True]).head()"
      ],
      "outputs": [],
      "execution_count": null,
      "id": "1Ntx8q0z06V5"
    },
    {
      "cell_type": "code",
      "metadata": {
        "id": "QaoLWGYq06V5"
      },
      "source": [
        "tips = tips.assign(tip_pct = tips['tip']/tips['total_bill'],\n",
        "                         tip_per_person = tips['tip']/tips['size']); tips.head()"
      ],
      "outputs": [],
      "execution_count": null,
      "id": "QaoLWGYq06V5"
    },
    {
      "cell_type": "markdown",
      "metadata": {
        "id": "9qOh9gAW06V5"
      },
      "source": [
        "### ✅ Exercise 1\n",
        "Filter `day='Sat' & size≥3`, add `bill_per_person`, sort desc, show top 5."
      ],
      "id": "9qOh9gAW06V5"
    },
    {
      "cell_type": "markdown",
      "metadata": {
        "id": "-6JT-Z4c06V5"
      },
      "source": [
        "**Hints:**\n",
        "- Concept: filter → compute → sort.\n",
        "- API: boolean mask / `.query`, `.assign`, `.sort_values`.\n"
      ],
      "id": "-6JT-Z4c06V5"
    },
    {
      "cell_type": "code",
      "metadata": {
        "id": "bbx_Ed5606V5"
      },
      "source": [
        "# YOUR WORK: Exercise 1\n",
        "filtered_sorted = (\n",
        "    tips.query(\"day == 'Sat' & size >= 3\")\n",
        "    .assign(bill_per_person = lambda df: df['total_bill'] / df['size'])\n",
        "    .sort_values('bill_per_person', ascending=False)\n",
        "    .head(5)\n",
        ")\n"
      ],
      "outputs": [],
      "execution_count": 3,
      "id": "bbx_Ed5606V5"
    },
    {
      "cell_type": "markdown",
      "metadata": {
        "id": "JFDXKEBG06V5"
      },
      "source": [
        "### ✍️ Analysis (Import & Manipulation) — 3–5 sentences\n",
        "- Which 2 columns seem most associated with `tip`? Support with a stat.\n",
        "- Explain one filter you wrote in plain English.\n",
        "- One thing you might compute next.\n",
        "\n",
        "### 🔎 Quick checks\n",
        "- Show first 3 rows of your filtered frame.\n",
        "- Name one new column and its formula.\n",
        "\n",
        "### ➕ Extension (pick one)\n",
        "- Rewrite a filter via `.query` vs mask; compare readability.\n",
        "- Change a sort order and predict effect.\n",
        "\n",
        "**Rubric (10 pts):** Correctness 3 • Evidence 2 • Clarity 2 • Reproducibility 2 • Exploration 1"
      ],
      "id": "JFDXKEBG06V5"
    },
    {
      "cell_type": "markdown",
      "metadata": {
        "id": "TBMtlg6u06V5"
      },
      "source": [
        "## 2) Cleaning & Preprocessing (15m)"
      ],
      "id": "TBMtlg6u06V5"
    },
    {
      "cell_type": "code",
      "metadata": {
        "id": "OQAbQ6rv06V6"
      },
      "source": [
        "tips['sex']=tips['sex'].astype('category')\n",
        "tips['smoker']=tips['smoker'].astype('category')\n",
        "tips['day']=tips['day'].astype('category')\n",
        "tips['time']=tips['time'].astype('category'); tips.dtypes"
      ],
      "outputs": [],
      "execution_count": null,
      "id": "OQAbQ6rv06V6"
    },
    {
      "cell_type": "code",
      "metadata": {
        "id": "k7GzRoDn06V6"
      },
      "source": [
        "tips['server_name'] = [' Alice ', 'Bob', 'ALICE', 'bob', ' Alice ', 'Bob'] * (len(tips)//6) + ['Alice']*(len(tips)%6)\n",
        "tips['server_name'] = tips['server_name'].str.strip().str.title()\n",
        "tips['server_name'].head()"
      ],
      "outputs": [],
      "execution_count": null,
      "id": "k7GzRoDn06V6"
    },
    {
      "cell_type": "code",
      "metadata": {
        "id": "_QfNV7KN06V6"
      },
      "source": [
        "demo = tips.copy()\n",
        "demo = pd.concat([demo, demo.iloc[0:2]], ignore_index=True)\n",
        "print(\"Before:\", demo.shape, \"After:\", demo.drop_duplicates().shape)"
      ],
      "outputs": [],
      "execution_count": null,
      "id": "_QfNV7KN06V6"
    },
    {
      "cell_type": "markdown",
      "metadata": {
        "id": "JDEAdxxu06V6"
      },
      "source": [
        "### ✅ Exercise 2\n",
        "1) Ensure `size` is int64. 2) Build `tips_clean` with selected cols. 3) Verify no duplicates."
      ],
      "id": "JDEAdxxu06V6"
    },
    {
      "cell_type": "markdown",
      "metadata": {
        "id": "waUOct3q06V6"
      },
      "source": [
        "**Hints:**\n",
        "- Concept: enforce types, subset columns, dedup.\n",
        "- API: `.astype`, column lists, `.drop_duplicates`.\n"
      ],
      "id": "waUOct3q06V6"
    },
    {
      "cell_type": "code",
      "metadata": {
        "colab": {
          "base_uri": "https://localhost:8080/"
        },
        "id": "Lguv2JFX06V6",
        "outputId": "45838833-ebb5-484f-e609-839ae3a221b1"
      },
      "source": [
        "# YOUR WORK: Exercise 2\n",
        "\n",
        "import pandas as pd\n",
        "\n",
        "# Load the dataset\n",
        "url = \"https://raw.githubusercontent.com/mwaskom/seaborn-data/master/tips.csv\"\n",
        "tips = pd.read_csv(url)\n",
        "\n",
        "# Exercise 2: 1) Ensure 'size' is int64\n",
        "# 2) Build 'tips_clean' with selected columns\n",
        "# 3) Verify no duplicates\n",
        "\n",
        "# 1) Enforce 'size' dtype\n",
        "tips['size'] = tips['size'].astype('int64')\n",
        "\n",
        "# 2) Select relevant columns for tips_clean\n",
        "selected_cols = ['total_bill', 'tip', 'sex', 'smoker', 'day', 'time', 'size']\n",
        "tips_clean = tips[selected_cols].copy()\n",
        "\n",
        "# 3) Check duplicates and remove them\n",
        "duplicates_before = tips_clean.duplicated().sum()\n",
        "tips_clean = tips_clean.drop_duplicates()\n",
        "duplicates_after = tips_clean.duplicated().sum()\n",
        "\n",
        "print(\"Data types:\", tips_clean.dtypes)\n",
        "print(f\"Duplicates before: {duplicates_before}\")\n",
        "print(f\"Duplicates after: {duplicates_after}\")\n",
        "print(f\"Final shape: {tips_clean.shape}\")\n"
      ],
      "outputs": [
        {
          "output_type": "stream",
          "name": "stdout",
          "text": [
            "Data types: total_bill    float64\n",
            "tip           float64\n",
            "sex            object\n",
            "smoker         object\n",
            "day            object\n",
            "time           object\n",
            "size            int64\n",
            "dtype: object\n",
            "Duplicates before: 1\n",
            "Duplicates after: 0\n",
            "Final shape: (243, 7)\n"
          ]
        }
      ],
      "execution_count": 4,
      "id": "Lguv2JFX06V6"
    },
    {
      "cell_type": "markdown",
      "metadata": {
        "id": "Y6Zzvh5M06V6"
      },
      "source": [
        "### ✍️ Analysis (Cleaning & Preprocessing) — 3–5 sentences\n",
        "- Which dtype changes did you apply and why?\n",
        "- Did you handle duplicates? How many?\n",
        "- One naming or string normalization you made.\n",
        "\n",
        "### 🔎 Quick checks\n",
        "- Print memory usage pre/post for 1 cast.\n",
        "- Confirm duplicates=0 in `tips_clean`.\n",
        "\n",
        "### ➕ Extension (pick one)\n",
        "- Cast another column and report memory delta.\n",
        "- Show `.value_counts()` pre/post string cleanup.\n",
        "\n",
        "**Rubric (10 pts):** Correctness 3 • Evidence 2 • Clarity 2 • Reproducibility 2 • Exploration 1"
      ],
      "id": "Y6Zzvh5M06V6"
    },
    {
      "cell_type": "markdown",
      "metadata": {
        "id": "p32dX6T006V6"
      },
      "source": [
        "## 3) Handling Missing Data (15m)"
      ],
      "id": "p32dX6T006V6"
    },
    {
      "cell_type": "code",
      "metadata": {
        "id": "5Wa7CxWZ06V6"
      },
      "source": [
        "rng = np.random.default_rng(42)\n",
        "tips_na = tips_clean.copy()\n",
        "mask = rng.choice([True, False], size=len(tips_na), p=[0.1, 0.9])\n",
        "tips_na.loc[mask, 'tip'] = np.nan; tips_na.loc[mask, 'size'] = np.nan\n",
        "tips_na.isna().sum()"
      ],
      "outputs": [],
      "execution_count": null,
      "id": "5Wa7CxWZ06V6"
    },
    {
      "cell_type": "code",
      "metadata": {
        "id": "3xrTtXyc06V6"
      },
      "source": [
        "dropped = tips_na.dropna(); dropped.shape"
      ],
      "outputs": [],
      "execution_count": null,
      "id": "3xrTtXyc06V6"
    },
    {
      "cell_type": "code",
      "metadata": {
        "id": "1TyFYqCC06V6"
      },
      "source": [
        "filled = tips_na.fillna({'tip': tips_na['tip'].median(), 'size': tips_na['size'].median()}); filled.isna().sum()"
      ],
      "outputs": [],
      "execution_count": null,
      "id": "1TyFYqCC06V6"
    },
    {
      "cell_type": "code",
      "metadata": {
        "id": "mo06KCTs06V6"
      },
      "source": [
        "tips_group_fill = tips_na.copy()\n",
        "tips_group_fill['tip'] = tips_group_fill.groupby(['day','time'])['tip'].transform(lambda s: s.fillna(s.median()))\n",
        "tips_group_fill.isna().sum()"
      ],
      "outputs": [],
      "execution_count": null,
      "id": "mo06KCTs06V6"
    },
    {
      "cell_type": "code",
      "metadata": {
        "id": "cFxaU4oD06V7"
      },
      "source": [
        "tips_interp = tips_na.sort_values('total_bill').interpolate(numeric_only=True); tips_interp.isna().sum()"
      ],
      "outputs": [],
      "execution_count": null,
      "id": "cFxaU4oD06V7"
    },
    {
      "cell_type": "markdown",
      "metadata": {
        "id": "lgxWmgU906V7"
      },
      "source": [
        "### ✅ Exercise 3\n",
        "Drop rows where both `tip` & `size` are NaN; fill `size` by rounded mean per `day`."
      ],
      "id": "lgxWmgU906V7"
    },
    {
      "cell_type": "markdown",
      "metadata": {
        "id": "C_MG2OGv06V7"
      },
      "source": [
        "**Hints:**\n",
        "- Concept: selective drop, grouped fill.\n",
        "- API: boolean masks, `groupby().transform`, `.fillna`.\n"
      ],
      "id": "C_MG2OGv06V7"
    },
    {
      "cell_type": "code",
      "metadata": {
        "colab": {
          "base_uri": "https://localhost:8080/"
        },
        "id": "v4N3wEaC06V7",
        "outputId": "6caf4309-1cbe-4c85-d635-c9ffae0dd225"
      },
      "source": [
        "# YOUR WORK: Exercise 3\n",
        "\n",
        "import numpy as np\n",
        "\n",
        "# Recreate tips_na with missing values for the exercise\n",
        "rng = np.random.default_rng(42)\n",
        "tips_na = tips_clean.copy()\n",
        "mask = rng.choice([True, False], size=len(tips_na), p=[0.1, 0.9])\n",
        "tips_na.loc[mask, 'tip'] = np.nan\n",
        "tips_na.loc[mask, 'size'] = np.nan\n",
        "\n",
        "# Drop rows where both 'tip' and 'size' are NaN\n",
        "tips_dropped_both = tips_na.dropna(subset=['tip', 'size'], how='all').copy()\n",
        "\n",
        "# Fill NaN in 'size' with rounded mean per 'day'\n",
        "tips_filled_size = tips_dropped_both.copy()\n",
        "tips_filled_size['size'] = tips_filled_size.groupby('day')['size'].transform(lambda x: x.fillna(round(x.mean())))\n",
        "\n",
        "# Verify the changes\n",
        "print(\"NaN counts after dropping rows with both NaN in tip and size:\")\n",
        "print(tips_dropped_both.isna().sum())\n",
        "print(\"\\nNaN counts after filling size NaN with rounded mean per day:\")\n",
        "print(tips_filled_size.isna().sum())"
      ],
      "outputs": [
        {
          "output_type": "stream",
          "name": "stdout",
          "text": [
            "NaN counts after dropping rows with both NaN in tip and size:\n",
            "total_bill    0\n",
            "tip           0\n",
            "sex           0\n",
            "smoker        0\n",
            "day           0\n",
            "time          0\n",
            "size          0\n",
            "dtype: int64\n",
            "\n",
            "NaN counts after filling size NaN with rounded mean per day:\n",
            "total_bill    0\n",
            "tip           0\n",
            "sex           0\n",
            "smoker        0\n",
            "day           0\n",
            "time          0\n",
            "size          0\n",
            "dtype: int64\n"
          ]
        }
      ],
      "execution_count": 8,
      "id": "v4N3wEaC06V7"
    },
    {
      "cell_type": "markdown",
      "metadata": {
        "id": "0sZw4-tC06WF"
      },
      "source": [
        "### ✍️ Analysis (Missing Data) — 3–5 sentences\n",
        "- Compare `dropna` vs groupwise fill—who shifts distribution more?\n",
        "- What assumption does your fill strategy make?\n",
        "- When would interpolation be inappropriate here?\n",
        "\n",
        "### 🔎 Quick checks\n",
        "- Report NaN counts before vs after.\n",
        "- Cite one numeric change for `tip`.\n",
        "\n",
        "### ➕ Extension (pick one)\n",
        "- Try a different group key for fill and compare MAE.\n",
        "- Plot hist pre/post fill for `tip`.\n",
        "\n",
        "**Rubric (10 pts):** Correctness 3 • Evidence 2 • Clarity 2 • Reproducibility 2 • Exploration 1"
      ],
      "id": "0sZw4-tC06WF"
    },
    {
      "cell_type": "markdown",
      "metadata": {
        "id": "c6uZSe8s06WF"
      },
      "source": [
        "## 4) Analysis & Visualization (20m)"
      ],
      "id": "c6uZSe8s06WF"
    },
    {
      "cell_type": "code",
      "metadata": {
        "id": "2jPCAtQS06WG"
      },
      "source": [
        "print(\"Overall tip %:\", (tips['tip'].sum()/tips['total_bill'].sum()).round(3))"
      ],
      "outputs": [],
      "execution_count": null,
      "id": "2jPCAtQS06WG"
    },
    {
      "cell_type": "code",
      "metadata": {
        "id": "p5LoOQa006WG"
      },
      "source": [
        "plt.figure(); plt.hist(tips['total_bill'].dropna(), bins=20)\n",
        "plt.title('Histogram: total_bill'); plt.xlabel('total_bill'); plt.ylabel('Frequency'); plt.show()"
      ],
      "outputs": [],
      "execution_count": null,
      "id": "p5LoOQa006WG"
    },
    {
      "cell_type": "code",
      "metadata": {
        "id": "mDz4Qw2706WG"
      },
      "source": [
        "plt.figure()\n",
        "data = [tips.loc[tips['day']==d, 'tip'].dropna().values for d in tips['day'].cat.categories]\n",
        "plt.boxplot(data, labels=list(tips['day'].cat.categories))\n",
        "plt.title('Boxplot: tip by day'); plt.xlabel('day'); plt.ylabel('tip'); plt.show()"
      ],
      "outputs": [],
      "execution_count": null,
      "id": "mDz4Qw2706WG"
    },
    {
      "cell_type": "code",
      "metadata": {
        "id": "YB7s5nBD06WG"
      },
      "source": [
        "plt.figure(); plt.scatter(tips['total_bill'], tips['tip'], s=tips['size']*10, alpha=0.6)\n",
        "plt.title('Scatter: total_bill vs tip'); plt.xlabel('total_bill'); plt.ylabel('tip'); plt.show()"
      ],
      "outputs": [],
      "execution_count": null,
      "id": "YB7s5nBD06WG"
    },
    {
      "cell_type": "code",
      "metadata": {
        "id": "rUIdOUbT06WG"
      },
      "source": [
        "avg_tip_pct = tips.groupby('day')['tip_pct'].mean()\n",
        "plt.figure(); plt.bar(avg_tip_pct.index.astype(str), avg_tip_pct.values)\n",
        "plt.title('Average tip_pct by day'); plt.xlabel('day'); plt.ylabel('mean tip_pct'); plt.show()"
      ],
      "outputs": [],
      "execution_count": null,
      "id": "rUIdOUbT06WG"
    },
    {
      "cell_type": "markdown",
      "metadata": {
        "id": "zye5_-_p06WG"
      },
      "source": [
        "### ✅ Exercise 4\n",
        "1) Scatter: `total_bill` vs `tip_pct`. 2) Bar: median `total_bill` by `time`."
      ],
      "id": "zye5_-_p06WG"
    },
    {
      "cell_type": "markdown",
      "metadata": {
        "id": "bONOtk3p06WG"
      },
      "source": [
        "**Hints:**\n",
        "- Concept: relate vars via scatter; summarize via bar.\n",
        "- API: `plt.scatter`, `groupby().median` + `plt.bar`.\n"
      ],
      "id": "bONOtk3p06WG"
    },
    {
      "cell_type": "code",
      "metadata": {
        "colab": {
          "base_uri": "https://localhost:8080/",
          "height": 927
        },
        "id": "1ekAXWxd06WG",
        "outputId": "5f4430a7-84fa-4d16-802f-b8ce6e6e1a1b"
      },
      "source": [
        "# YOUR WORK: Exercise 4\n",
        "\n",
        "import matplotlib.pyplot as plt\n",
        "\n",
        "# Calculate tip_pct\n",
        "tips = tips.assign(tip_pct = tips['tip']/tips['total_bill'])\n",
        "\n",
        "# 1) Scatter plot: total_bill vs tip_pct\n",
        "plt.figure()\n",
        "plt.scatter(tips['total_bill'], tips['tip_pct'])\n",
        "plt.title('Scatter Plot: total_bill vs tip_pct')\n",
        "plt.xlabel('total_bill')\n",
        "plt.ylabel('tip_pct')\n",
        "plt.show()\n",
        "\n",
        "# 2) Bar plot: median total_bill by time\n",
        "median_total_bill_by_time = tips.groupby('time')['total_bill'].median()\n",
        "plt.figure()\n",
        "plt.bar(median_total_bill_by_time.index.astype(str), median_total_bill_by_time.values)\n",
        "plt.title('Median total_bill by Time')\n",
        "plt.xlabel('Time')\n",
        "plt.ylabel('Median total_bill')\n",
        "plt.show()"
      ],
      "outputs": [
        {
          "output_type": "display_data",
          "data": {
            "text/plain": [
              "<Figure size 640x480 with 1 Axes>"
            ],
            "image/png": "[encoded data removed]"
          },
          "metadata": {}
        },
        {
          "output_type": "display_data",
          "data": {
            "text/plain": [
              "<Figure size 640x480 with 1 Axes>"
            ],
            "image/png": "[encoded data removed]"
          },
          "metadata": {}
        }
      ],
      "execution_count": 11,
      "id": "1ekAXWxd06WG"
    },
    {
      "cell_type": "markdown",
      "metadata": {
        "id": "xoTLs6Mf06WG"
      },
      "source": [
        "### ✍️ Analysis (Analysis & Visualization) — 3–5 sentences\n",
        "- State one pattern that holds across days and one that differs Lunch vs Dinner.\n",
        "- Interpret scatter: linear? heteroscedastic?\n",
        "- What would you plot next?\n",
        "\n",
        "### 🔎 Quick checks\n",
        "- Quote one `.describe()` stat that supports your claim.\n",
        "- Ensure axes labels/titles are informative.\n",
        "\n",
        "### ➕ Extension (pick one)\n",
        "- Add a follow-up chart (e.g., tip% by party size) and describe it.\n",
        "- Bucket `total_bill` and compare medians.\n",
        "\n",
        "**Rubric (10 pts):** Correctness 3 • Evidence 2 • Clarity 2 • Reproducibility 2 • Exploration 1"
      ],
      "id": "xoTLs6Mf06WG"
    },
    {
      "cell_type": "markdown",
      "metadata": {
        "id": "06uu-vfB06WG"
      },
      "source": [
        "## 5) Grouping & Merging (20m)"
      ],
      "id": "06uu-vfB06WG"
    },
    {
      "cell_type": "code",
      "metadata": {
        "id": "Zs9X0g-i06WG"
      },
      "source": [
        "g = (tips.groupby(['day','time'])\n",
        "       .agg(count=('total_bill','size'), avg_bill=('total_bill','mean'),\n",
        "            avg_tip=('tip','mean'), avg_tip_pct=('tip_pct','mean'))); g.head()"
      ],
      "outputs": [],
      "execution_count": null,
      "id": "Zs9X0g-i06WG"
    },
    {
      "cell_type": "code",
      "metadata": {
        "id": "lXjx5wOc06WG"
      },
      "source": [
        "def pct_above_20(s): return (s>0.20).mean()\n",
        "\n",
        "tips.groupby('day')['tip_pct'].apply(pct_above_20)"
      ],
      "outputs": [],
      "execution_count": null,
      "id": "lXjx5wOc06WG"
    },
    {
      "cell_type": "code",
      "metadata": {
        "id": "Ch2kmZ3906WG"
      },
      "source": [
        "day_lookup = pd.DataFrame({'day':['Thur','Fri','Sat','Sun'],'is_weekend':[False,False,True,True]})\n",
        "tips_merge = tips.merge(day_lookup, on='day', how='left')\n",
        "tips_merge[['day','is_weekend']].drop_duplicates().sort_values('day')"
      ],
      "outputs": [],
      "execution_count": null,
      "id": "Ch2kmZ3906WG"
    },
    {
      "cell_type": "markdown",
      "metadata": {
        "id": "QhD1EEEa06WH"
      },
      "source": [
        "### ✅ Exercise 5\n",
        "1) Sum `total_bill` & `tip` by `smoker,sex`. 2) Map `time`→L/D and show pairs."
      ],
      "id": "QhD1EEEa06WH"
    },
    {
      "cell_type": "markdown",
      "metadata": {
        "id": "RwkQqdRc06WH"
      },
      "source": [
        "**Hints:**\n",
        "- Concept: summarize by groups; enrich via merge.\n",
        "- API: `groupby().agg`, `.merge`.\n"
      ],
      "id": "RwkQqdRc06WH"
    },
    {
      "cell_type": "code",
      "metadata": {
        "colab": {
          "base_uri": "https://localhost:8080/",
          "height": 353
        },
        "id": "n9cuV85u06WH",
        "outputId": "50b3e959-0bd1-44d6-dfdd-9c019fa3be0b"
      },
      "source": [
        "# YOUR WORK: Exercise 5\n",
        "\n",
        "# 1. Sum total_bill & tip by smoker,sex\n",
        "sum_by_smoker_sex = tips.groupby(['smoker', 'sex']).agg(\n",
        "    total_bill_sum=('total_bill', 'sum'),\n",
        "    tip_sum=('tip', 'sum')\n",
        ")\n",
        "print(\"Sum of total_bill and tip by smoker and sex:\")\n",
        "display(sum_by_smoker_sex)\n",
        "\n",
        "# 2. Map time -> L/D and show pairs\n",
        "tips['time_mapped'] = tips['time'].map({'Lunch': 'L', 'Dinner': 'D'})\n",
        "print(\"\\nOriginal time and mapped time pairs:\")\n",
        "display(tips[['time', 'time_mapped']].drop_duplicates().sort_values('time'))"
      ],
      "outputs": [
        {
          "output_type": "stream",
          "name": "stdout",
          "text": [
            "Sum of total_bill and tip by smoker and sex:\n"
          ]
        },
        {
          "output_type": "display_data",
          "data": {
            "text/plain": [
              "               total_bill_sum  tip_sum\n",
              "smoker sex                            \n",
              "No     Female          977.68   149.77\n",
              "       Male           1919.75   302.00\n",
              "Yes    Female          593.27    96.74\n",
              "       Male           1337.07   183.07"
            ],
            "text/html": [
              "\n",
              "  <div id=\"df-b0f6f5cf-a00e-4a81-9121-1c2e8d2e0ffe\" class=\"colab-df-container\">\n",
              "    <div>\n",
              "<style scoped>\n",
              "    .dataframe tbody tr th:only-of-type {\n",
              "        vertical-align: middle;\n",
              "    }\n",
              "\n",
              "    .dataframe tbody tr th {\n",
              "        vertical-align: top;\n",
              "    }\n",
              "\n",
              "    .dataframe thead th {\n",
              "        text-align: right;\n",
              "    }\n",
              "</style>\n",
              "<table border=\"1\" class=\"dataframe\">\n",
              "  <thead>\n",
              "    <tr style=\"text-align: right;\">\n",
              "      <th></th>\n",
              "      <th></th>\n",
              "      <th>total_bill_sum</th>\n",
              "      <th>tip_sum</th>\n",
              "    </tr>\n",
              "    <tr>\n",
              "      <th>smoker</th>\n",
              "      <th>sex</th>\n",
              "      <th></th>\n",
              "      <th></th>\n",
              "    </tr>\n",
              "  </thead>\n",
              "  <tbody>\n",
              "    <tr>\n",
              "      <th rowspan=\"2\" valign=\"top\">No</th>\n",
              "      <th>Female</th>\n",
              "      <td>977.68</td>\n",
              "      <td>149.77</td>\n",
              "    </tr>\n",
              "    <tr>\n",
              "      <th>Male</th>\n",
              "      <td>1919.75</td>\n",
              "      <td>302.00</td>\n",
              "    </tr>\n",
              "    <tr>\n",
              "      <th rowspan=\"2\" valign=\"top\">Yes</th>\n",
              "      <th>Female</th>\n",
              "      <td>593.27</td>\n",
              "      <td>96.74</td>\n",
              "    </tr>\n",
              "    <tr>\n",
              "      <th>Male</th>\n",
              "      <td>1337.07</td>\n",
              "      <td>183.07</td>\n",
              "    </tr>\n",
              "  </tbody>\n",
              "</table>\n",
              "</div>\n",
              "    <div class=\"colab-df-buttons\">\n",
              "\n",
              "  <div class=\"colab-df-container\">\n",
              "    <button class=\"colab-df-convert\" onclick=\"convertToInteractive('df-b0f6f5cf-a00e-4a81-9121-1c2e8d2e0ffe')\"\n",
              "            title=\"Convert this dataframe to an interactive table.\"\n",
              "            style=\"display:none;\">\n",
              "\n",
              "  <svg xmlns=\"http://www.w3.org/2000/svg\" height=\"24px\" viewBox=\"0 -960 960 960\">\n",
              "    <path d=\"M120-120v-720h720v720H120Zm60-500h600v-160H180v160Zm220 220h160v-160H400v160Zm0 220h160v-160H400v160ZM180-400h160v-160H180v160Zm440 0h160v-160H620v160ZM180-180h160v-160H180v160Zm440 0h160v-160H620v160Z\"/>\n",
              "  </svg>\n",
              "    </button>\n",
              "\n",
              "  <style>\n",
              "    .colab-df-container {\n",
              "      display:flex;\n",
              "      gap: 12px;\n",
              "    }\n",
              "\n",
              "    .colab-df-convert {\n",
              "      background-color: #E8F0FE;\n",
              "      border: none;\n",
              "      border-radius: 50%;\n",
              "      cursor: pointer;\n",
              "      display: none;\n",
              "      fill: #1967D2;\n",
              "      height: 32px;\n",
              "      padding: 0 0 0 0;\n",
              "      width: 32px;\n",
              "    }\n",
              "\n",
              "    .colab-df-convert:hover {\n",
              "      background-color: #E2EBFA;\n",
              "      box-shadow: 0px 1px 2px rgba(60, 64, 67, 0.3), 0px 1px 3px 1px rgba(60, 64, 67, 0.15);\n",
              "      fill: #174EA6;\n",
              "    }\n",
              "\n",
              "    .colab-df-buttons div {\n",
              "      margin-bottom: 4px;\n",
              "    }\n",
              "\n",
              "    [theme=dark] .colab-df-convert {\n",
              "      background-color: #3B4455;\n",
              "      fill: #D2E3FC;\n",
              "    }\n",
              "\n",
              "    [theme=dark] .colab-df-convert:hover {\n",
              "      background-color: #434B5C;\n",
              "      box-shadow: 0px 1px 3px 1px rgba(0, 0, 0, 0.15);\n",
              "      filter: drop-shadow(0px 1px 2px rgba(0, 0, 0, 0.3));\n",
              "      fill: #FFFFFF;\n",
              "    }\n",
              "  </style>\n",
              "\n",
              "    <script>\n",
              "      const buttonEl =\n",
              "        document.querySelector('#df-b0f6f5cf-a00e-4a81-9121-1c2e8d2e0ffe button.colab-df-convert');\n",
              "      buttonEl.style.display =\n",
              "        google.colab.kernel.accessAllowed ? 'block' : 'none';\n",
              "\n",
              "      async function convertToInteractive(key) {\n",
              "        const element = document.querySelector('#df-b0f6f5cf-a00e-4a81-9121-1c2e8d2e0ffe');\n",
              "        const dataTable =\n",
              "          await google.colab.kernel.invokeFunction('convertToInteractive',\n",
              "                                                    [key], {});\n",
              "        if (!dataTable) return;\n",
              "\n",
              "        const docLinkHtml = 'Like what you see? Visit the ' +\n",
              "          '<a target=\"_blank\" href=https://colab.research.google.com/notebooks/data_table.ipynb>data table notebook</a>'\n",
              "          + ' to learn more about interactive tables.';\n",
              "        element.innerHTML = '';\n",
              "        dataTable['output_type'] = 'display_data';\n",
              "        await google.colab.output.renderOutput(dataTable, element);\n",
              "        const docLink = document.createElement('div');\n",
              "        docLink.innerHTML = docLinkHtml;\n",
              "        element.appendChild(docLink);\n",
              "      }\n",
              "    </script>\n",
              "  </div>\n",
              "\n",
              "\n",
              "    <div id=\"df-3c8651bd-5dff-4c5c-99d7-0ef516b59e89\">\n",
              "      <button class=\"colab-df-quickchart\" onclick=\"quickchart('df-3c8651bd-5dff-4c5c-99d7-0ef516b59e89')\"\n",
              "                title=\"Suggest charts\"\n",
              "                style=\"display:none;\">\n",
              "\n",
              "<svg xmlns=\"http://www.w3.org/2000/svg\" height=\"24px\"viewBox=\"0 0 24 24\"\n",
              "     width=\"24px\">\n",
              "    <g>\n",
              "        <path d=\"M19 3H5c-1.1 0-2 .9-2 2v14c0 1.1.9 2 2 2h14c1.1 0 2-.9 2-2V5c0-1.1-.9-2-2-2zM9 17H7v-7h2v7zm4 0h-2V7h2v10zm4 0h-2v-4h2v4z\"/>\n",
              "    </g>\n",
              "</svg>\n",
              "      </button>\n",
              "\n",
              "<style>\n",
              "  .colab-df-quickchart {\n",
              "      --bg-color: #E8F0FE;\n",
              "      --fill-color: #1967D2;\n",
              "      --hover-bg-color: #E2EBFA;\n",
              "      --hover-fill-color: #174EA6;\n",
              "      --disabled-fill-color: #AAA;\n",
              "      --disabled-bg-color: #DDD;\n",
              "  }\n",
              "\n",
              "  [theme=dark] .colab-df-quickchart {\n",
              "      --bg-color: #3B4455;\n",
              "      --fill-color: #D2E3FC;\n",
              "      --hover-bg-color: #434B5C;\n",
              "      --hover-fill-color: #FFFFFF;\n",
              "      --disabled-bg-color: #3B4455;\n",
              "      --disabled-fill-color: #666;\n",
              "  }\n",
              "\n",
              "  .colab-df-quickchart {\n",
              "    background-color: var(--bg-color);\n",
              "    border: none;\n",
              "    border-radius: 50%;\n",
              "    cursor: pointer;\n",
              "    display: none;\n",
              "    fill: var(--fill-color);\n",
              "    height: 32px;\n",
              "    padding: 0;\n",
              "    width: 32px;\n",
              "  }\n",
              "\n",
              "  .colab-df-quickchart:hover {\n",
              "    background-color: var(--hover-bg-color);\n",
              "    box-shadow: 0 1px 2px rgba(60, 64, 67, 0.3), 0 1px 3px 1px rgba(60, 64, 67, 0.15);\n",
              "    fill: var(--button-hover-fill-color);\n",
              "  }\n",
              "\n",
              "  .colab-df-quickchart-complete:disabled,\n",
              "  .colab-df-quickchart-complete:disabled:hover {\n",
              "    background-color: var(--disabled-bg-color);\n",
              "    fill: var(--disabled-fill-color);\n",
              "    box-shadow: none;\n",
              "  }\n",
              "\n",
              "  .colab-df-spinner {\n",
              "    border: 2px solid var(--fill-color);\n",
              "    border-color: transparent;\n",
              "    border-bottom-color: var(--fill-color);\n",
              "    animation:\n",
              "      spin 1s steps(1) infinite;\n",
              "  }\n",
              "\n",
              "  @keyframes spin {\n",
              "    0% {\n",
              "      border-color: transparent;\n",
              "      border-bottom-color: var(--fill-color);\n",
              "      border-left-color: var(--fill-color);\n",
              "    }\n",
              "    20% {\n",
              "      border-color: transparent;\n",
              "      border-left-color: var(--fill-color);\n",
              "      border-top-color: var(--fill-color);\n",
              "    }\n",
              "    30% {\n",
              "      border-color: transparent;\n",
              "      border-left-color: var(--fill-color);\n",
              "      border-top-color: var(--fill-color);\n",
              "      border-right-color: var(--fill-color);\n",
              "    }\n",
              "    40% {\n",
              "      border-color: transparent;\n",
              "      border-right-color: var(--fill-color);\n",
              "      border-top-color: var(--fill-color);\n",
              "    }\n",
              "    60% {\n",
              "      border-color: transparent;\n",
              "      border-right-color: var(--fill-color);\n",
              "    }\n",
              "    80% {\n",
              "      border-color: transparent;\n",
              "      border-right-color: var(--fill-color);\n",
              "      border-bottom-color: var(--fill-color);\n",
              "    }\n",
              "    90% {\n",
              "      border-color: transparent;\n",
              "      border-bottom-color: var(--fill-color);\n",
              "    }\n",
              "  }\n",
              "</style>\n",
              "\n",
              "      <script>\n",
              "        async function quickchart(key) {\n",
              "          const quickchartButtonEl =\n",
              "            document.querySelector('#' + key + ' button');\n",
              "          quickchartButtonEl.disabled = true;  // To prevent multiple clicks.\n",
              "          quickchartButtonEl.classList.add('colab-df-spinner');\n",
              "          try {\n",
              "            const charts = await google.colab.kernel.invokeFunction(\n",
              "                'suggestCharts', [key], {});\n",
              "          } catch (error) {\n",
              "            console.error('Error during call to suggestCharts:', error);\n",
              "          }\n",
              "          quickchartButtonEl.classList.remove('colab-df-spinner');\n",
              "          quickchartButtonEl.classList.add('colab-df-quickchart-complete');\n",
              "        }\n",
              "        (() => {\n",
              "          let quickchartButtonEl =\n",
              "            document.querySelector('#df-3c8651bd-5dff-4c5c-99d7-0ef516b59e89 button');\n",
              "          quickchartButtonEl.style.display =\n",
              "            google.colab.kernel.accessAllowed ? 'block' : 'none';\n",
              "        })();\n",
              "      </script>\n",
              "    </div>\n",
              "\n",
              "  <div id=\"id_22a08905-e6b5-4b62-bcfe-cb3feb37650b\">\n",
              "    <style>\n",
              "      .colab-df-generate {\n",
              "        background-color: #E8F0FE;\n",
              "        border: none;\n",
              "        border-radius: 50%;\n",
              "        cursor: pointer;\n",
              "        display: none;\n",
              "        fill: #1967D2;\n",
              "        height: 32px;\n",
              "        padding: 0 0 0 0;\n",
              "        width: 32px;\n",
              "      }\n",
              "\n",
              "      .colab-df-generate:hover {\n",
              "        background-color: #E2EBFA;\n",
              "        box-shadow: 0px 1px 2px rgba(60, 64, 67, 0.3), 0px 1px 3px 1px rgba(60, 64, 67, 0.15);\n",
              "        fill: #174EA6;\n",
              "      }\n",
              "\n",
              "      [theme=dark] .colab-df-generate {\n",
              "        background-color: #3B4455;\n",
              "        fill: #D2E3FC;\n",
              "      }\n",
              "\n",
              "      [theme=dark] .colab-df-generate:hover {\n",
              "        background-color: #434B5C;\n",
              "        box-shadow: 0px 1px 3px 1px rgba(0, 0, 0, 0.15);\n",
              "        filter: drop-shadow(0px 1px 2px rgba(0, 0, 0, 0.3));\n",
              "        fill: #FFFFFF;\n",
              "      }\n",
              "    </style>\n",
              "    <button class=\"colab-df-generate\" onclick=\"generateWithVariable('sum_by_smoker_sex')\"\n",
              "            title=\"Generate code using this dataframe.\"\n",
              "            style=\"display:none;\">\n",
              "\n",
              "  <svg xmlns=\"http://www.w3.org/2000/svg\" height=\"24px\"viewBox=\"0 0 24 24\"\n",
              "       width=\"24px\">\n",
              "    <path d=\"M7,19H8.4L18.45,9,17,7.55,7,17.6ZM5,21V16.75L18.45,3.32a2,2,0,0,1,2.83,0l1.4,1.43a1.91,1.91,0,0,1,.58,1.4,1.91,1.91,0,0,1-.58,1.4L9.25,21ZM18.45,9,17,7.55Zm-12,3A5.31,5.31,0,0,0,4.9,8.1,5.31,5.31,0,0,0,1,6.5,5.31,5.31,0,0,0,4.9,4.9,5.31,5.31,0,0,0,6.5,1,5.31,5.31,0,0,0,8.1,4.9,5.31,5.31,0,0,0,12,6.5,5.46,5.46,0,0,0,6.5,12Z\"/>\n",
              "  </svg>\n",
              "    </button>\n",
              "    <script>\n",
              "      (() => {\n",
              "      const buttonEl =\n",
              "        document.querySelector('#id_22a08905-e6b5-4b62-bcfe-cb3feb37650b button.colab-df-generate');\n",
              "      buttonEl.style.display =\n",
              "        google.colab.kernel.accessAllowed ? 'block' : 'none';\n",
              "\n",
              "      buttonEl.onclick = () => {\n",
              "        google.colab.notebook.generateWithVariable('sum_by_smoker_sex');\n",
              "      }\n",
              "      })();\n",
              "    </script>\n",
              "  </div>\n",
              "\n",
              "    </div>\n",
              "  </div>\n"
            ],
            "application/vnd.google.colaboratory.intrinsic+json": {
              "type": "dataframe",
              "variable_name": "sum_by_smoker_sex",
              "summary": "{\n  \"name\": \"sum_by_smoker_sex\",\n  \"rows\": 4,\n  \"fields\": [\n    {\n      \"column\": \"total_bill_sum\",\n      \"properties\": {\n        \"dtype\": \"number\",\n        \"std\": 563.9689499357803,\n        \"min\": 593.27,\n        \"max\": 1919.75,\n        \"num_unique_values\": 4,\n        \"samples\": [\n          1919.75,\n          1337.07,\n          977.6800000000001\n        ],\n        \"semantic_type\": \"\",\n        \"description\": \"\"\n      }\n    },\n    {\n      \"column\": \"tip_sum\",\n      \"properties\": {\n        \"dtype\": \"number\",\n        \"std\": 86.99804844554465,\n        \"min\": 96.74,\n        \"max\": 302.0,\n        \"num_unique_values\": 4,\n        \"samples\": [\n          302.0,\n          183.07,\n          149.77\n        ],\n        \"semantic_type\": \"\",\n        \"description\": \"\"\n      }\n    }\n  ]\n}"
            }
          },
          "metadata": {}
        },
        {
          "output_type": "stream",
          "name": "stdout",
          "text": [
            "\n",
            "Original time and mapped time pairs:\n"
          ]
        },
        {
          "output_type": "display_data",
          "data": {
            "text/plain": [
              "      time time_mapped\n",
              "0   Dinner           D\n",
              "77   Lunch           L"
            ],
            "text/html": [
              "\n",
              "  <div id=\"df-757a416f-fd9c-4011-9c1a-73275f60d704\" class=\"colab-df-container\">\n",
              "    <div>\n",
              "<style scoped>\n",
              "    .dataframe tbody tr th:only-of-type {\n",
              "        vertical-align: middle;\n",
              "    }\n",
              "\n",
              "    .dataframe tbody tr th {\n",
              "        vertical-align: top;\n",
              "    }\n",
              "\n",
              "    .dataframe thead th {\n",
              "        text-align: right;\n",
              "    }\n",
              "</style>\n",
              "<table border=\"1\" class=\"dataframe\">\n",
              "  <thead>\n",
              "    <tr style=\"text-align: right;\">\n",
              "      <th></th>\n",
              "      <th>time</th>\n",
              "      <th>time_mapped</th>\n",
              "    </tr>\n",
              "  </thead>\n",
              "  <tbody>\n",
              "    <tr>\n",
              "      <th>0</th>\n",
              "      <td>Dinner</td>\n",
              "      <td>D</td>\n",
              "    </tr>\n",
              "    <tr>\n",
              "      <th>77</th>\n",
              "      <td>Lunch</td>\n",
              "      <td>L</td>\n",
              "    </tr>\n",
              "  </tbody>\n",
              "</table>\n",
              "</div>\n",
              "    <div class=\"colab-df-buttons\">\n",
              "\n",
              "  <div class=\"colab-df-container\">\n",
              "    <button class=\"colab-df-convert\" onclick=\"convertToInteractive('df-757a416f-fd9c-4011-9c1a-73275f60d704')\"\n",
              "            title=\"Convert this dataframe to an interactive table.\"\n",
              "            style=\"display:none;\">\n",
              "\n",
              "  <svg xmlns=\"http://www.w3.org/2000/svg\" height=\"24px\" viewBox=\"0 -960 960 960\">\n",
              "    <path d=\"M120-120v-720h720v720H120Zm60-500h600v-160H180v160Zm220 220h160v-160H400v160Zm0 220h160v-160H400v160ZM180-400h160v-160H180v160Zm440 0h160v-160H620v160ZM180-180h160v-160H180v160Zm440 0h160v-160H620v160Z\"/>\n",
              "  </svg>\n",
              "    </button>\n",
              "\n",
              "  <style>\n",
              "    .colab-df-container {\n",
              "      display:flex;\n",
              "      gap: 12px;\n",
              "    }\n",
              "\n",
              "    .colab-df-convert {\n",
              "      background-color: #E8F0FE;\n",
              "      border: none;\n",
              "      border-radius: 50%;\n",
              "      cursor: pointer;\n",
              "      display: none;\n",
              "      fill: #1967D2;\n",
              "      height: 32px;\n",
              "      padding: 0 0 0 0;\n",
              "      width: 32px;\n",
              "    }\n",
              "\n",
              "    .colab-df-convert:hover {\n",
              "      background-color: #E2EBFA;\n",
              "      box-shadow: 0px 1px 2px rgba(60, 64, 67, 0.3), 0px 1px 3px 1px rgba(60, 64, 67, 0.15);\n",
              "      fill: #174EA6;\n",
              "    }\n",
              "\n",
              "    .colab-df-buttons div {\n",
              "      margin-bottom: 4px;\n",
              "    }\n",
              "\n",
              "    [theme=dark] .colab-df-convert {\n",
              "      background-color: #3B4455;\n",
              "      fill: #D2E3FC;\n",
              "    }\n",
              "\n",
              "    [theme=dark] .colab-df-convert:hover {\n",
              "      background-color: #434B5C;\n",
              "      box-shadow: 0px 1px 3px 1px rgba(0, 0, 0, 0.15);\n",
              "      filter: drop-shadow(0px 1px 2px rgba(0, 0, 0, 0.3));\n",
              "      fill: #FFFFFF;\n",
              "    }\n",
              "  </style>\n",
              "\n",
              "    <script>\n",
              "      const buttonEl =\n",
              "        document.querySelector('#df-757a416f-fd9c-4011-9c1a-73275f60d704 button.colab-df-convert');\n",
              "      buttonEl.style.display =\n",
              "        google.colab.kernel.accessAllowed ? 'block' : 'none';\n",
              "\n",
              "      async function convertToInteractive(key) {\n",
              "        const element = document.querySelector('#df-757a416f-fd9c-4011-9c1a-73275f60d704');\n",
              "        const dataTable =\n",
              "          await google.colab.kernel.invokeFunction('convertToInteractive',\n",
              "                                                    [key], {});\n",
              "        if (!dataTable) return;\n",
              "\n",
              "        const docLinkHtml = 'Like what you see? Visit the ' +\n",
              "          '<a target=\"_blank\" href=https://colab.research.google.com/notebooks/data_table.ipynb>data table notebook</a>'\n",
              "          + ' to learn more about interactive tables.';\n",
              "        element.innerHTML = '';\n",
              "        dataTable['output_type'] = 'display_data';\n",
              "        await google.colab.output.renderOutput(dataTable, element);\n",
              "        const docLink = document.createElement('div');\n",
              "        docLink.innerHTML = docLinkHtml;\n",
              "        element.appendChild(docLink);\n",
              "      }\n",
              "    </script>\n",
              "  </div>\n",
              "\n",
              "\n",
              "    <div id=\"df-cb52e189-5253-464f-a825-2231c5f45a64\">\n",
              "      <button class=\"colab-df-quickchart\" onclick=\"quickchart('df-cb52e189-5253-464f-a825-2231c5f45a64')\"\n",
              "                title=\"Suggest charts\"\n",
              "                style=\"display:none;\">\n",
              "\n",
              "<svg xmlns=\"http://www.w3.org/2000/svg\" height=\"24px\"viewBox=\"0 0 24 24\"\n",
              "     width=\"24px\">\n",
              "    <g>\n",
              "        <path d=\"M19 3H5c-1.1 0-2 .9-2 2v14c0 1.1.9 2 2 2h14c1.1 0 2-.9 2-2V5c0-1.1-.9-2-2-2zM9 17H7v-7h2v7zm4 0h-2V7h2v10zm4 0h-2v-4h2v4z\"/>\n",
              "    </g>\n",
              "</svg>\n",
              "      </button>\n",
              "\n",
              "<style>\n",
              "  .colab-df-quickchart {\n",
              "      --bg-color: #E8F0FE;\n",
              "      --fill-color: #1967D2;\n",
              "      --hover-bg-color: #E2EBFA;\n",
              "      --hover-fill-color: #174EA6;\n",
              "      --disabled-fill-color: #AAA;\n",
              "      --disabled-bg-color: #DDD;\n",
              "  }\n",
              "\n",
              "  [theme=dark] .colab-df-quickchart {\n",
              "      --bg-color: #3B4455;\n",
              "      --fill-color: #D2E3FC;\n",
              "      --hover-bg-color: #434B5C;\n",
              "      --hover-fill-color: #FFFFFF;\n",
              "      --disabled-bg-color: #3B4455;\n",
              "      --disabled-fill-color: #666;\n",
              "  }\n",
              "\n",
              "  .colab-df-quickchart {\n",
              "    background-color: var(--bg-color);\n",
              "    border: none;\n",
              "    border-radius: 50%;\n",
              "    cursor: pointer;\n",
              "    display: none;\n",
              "    fill: var(--fill-color);\n",
              "    height: 32px;\n",
              "    padding: 0;\n",
              "    width: 32px;\n",
              "  }\n",
              "\n",
              "  .colab-df-quickchart:hover {\n",
              "    background-color: var(--hover-bg-color);\n",
              "    box-shadow: 0 1px 2px rgba(60, 64, 67, 0.3), 0 1px 3px 1px rgba(60, 64, 67, 0.15);\n",
              "    fill: var(--button-hover-fill-color);\n",
              "  }\n",
              "\n",
              "  .colab-df-quickchart-complete:disabled,\n",
              "  .colab-df-quickchart-complete:disabled:hover {\n",
              "    background-color: var(--disabled-bg-color);\n",
              "    fill: var(--disabled-fill-color);\n",
              "    box-shadow: none;\n",
              "  }\n",
              "\n",
              "  .colab-df-spinner {\n",
              "    border: 2px solid var(--fill-color);\n",
              "    border-color: transparent;\n",
              "    border-bottom-color: var(--fill-color);\n",
              "    animation:\n",
              "      spin 1s steps(1) infinite;\n",
              "  }\n",
              "\n",
              "  @keyframes spin {\n",
              "    0% {\n",
              "      border-color: transparent;\n",
              "      border-bottom-color: var(--fill-color);\n",
              "      border-left-color: var(--fill-color);\n",
              "    }\n",
              "    20% {\n",
              "      border-color: transparent;\n",
              "      border-left-color: var(--fill-color);\n",
              "      border-top-color: var(--fill-color);\n",
              "    }\n",
              "    30% {\n",
              "      border-color: transparent;\n",
              "      border-left-color: var(--fill-color);\n",
              "      border-top-color: var(--fill-color);\n",
              "      border-right-color: var(--fill-color);\n",
              "    }\n",
              "    40% {\n",
              "      border-color: transparent;\n",
              "      border-right-color: var(--fill-color);\n",
              "      border-top-color: var(--fill-color);\n",
              "    }\n",
              "    60% {\n",
              "      border-color: transparent;\n",
              "      border-right-color: var(--fill-color);\n",
              "    }\n",
              "    80% {\n",
              "      border-color: transparent;\n",
              "      border-right-color: var(--fill-color);\n",
              "      border-bottom-color: var(--fill-color);\n",
              "    }\n",
              "    90% {\n",
              "      border-color: transparent;\n",
              "      border-bottom-color: var(--fill-color);\n",
              "    }\n",
              "  }\n",
              "</style>\n",
              "\n",
              "      <script>\n",
              "        async function quickchart(key) {\n",
              "          const quickchartButtonEl =\n",
              "            document.querySelector('#' + key + ' button');\n",
              "          quickchartButtonEl.disabled = true;  // To prevent multiple clicks.\n",
              "          quickchartButtonEl.classList.add('colab-df-spinner');\n",
              "          try {\n",
              "            const charts = await google.colab.kernel.invokeFunction(\n",
              "                'suggestCharts', [key], {});\n",
              "          } catch (error) {\n",
              "            console.error('Error during call to suggestCharts:', error);\n",
              "          }\n",
              "          quickchartButtonEl.classList.remove('colab-df-spinner');\n",
              "          quickchartButtonEl.classList.add('colab-df-quickchart-complete');\n",
              "        }\n",
              "        (() => {\n",
              "          let quickchartButtonEl =\n",
              "            document.querySelector('#df-cb52e189-5253-464f-a825-2231c5f45a64 button');\n",
              "          quickchartButtonEl.style.display =\n",
              "            google.colab.kernel.accessAllowed ? 'block' : 'none';\n",
              "        })();\n",
              "      </script>\n",
              "    </div>\n",
              "\n",
              "    </div>\n",
              "  </div>\n"
            ],
            "application/vnd.google.colaboratory.intrinsic+json": {
              "type": "dataframe",
              "summary": "{\n  \"name\": \"display(tips[['time', 'time_mapped']]\",\n  \"rows\": 2,\n  \"fields\": [\n    {\n      \"column\": \"time\",\n      \"properties\": {\n        \"dtype\": \"string\",\n        \"num_unique_values\": 2,\n        \"samples\": [\n          \"Lunch\",\n          \"Dinner\"\n        ],\n        \"semantic_type\": \"\",\n        \"description\": \"\"\n      }\n    },\n    {\n      \"column\": \"time_mapped\",\n      \"properties\": {\n        \"dtype\": \"string\",\n        \"num_unique_values\": 2,\n        \"samples\": [\n          \"L\",\n          \"D\"\n        ],\n        \"semantic_type\": \"\",\n        \"description\": \"\"\n      }\n    }\n  ]\n}"
            }
          },
          "metadata": {}
        }
      ],
      "execution_count": 12,
      "id": "n9cuV85u06WH"
    },
    {
      "cell_type": "markdown",
      "metadata": {
        "id": "GtTHQyl406WH"
      },
      "source": [
        "### ✍️ Analysis (Grouping & Merging) — 3–5 sentences\n",
        "- Translate one grouped table into a business insight.\n",
        "- How does `tip_pct` vs `tip` change ranking?\n",
        "- What join-key assumptions are you making?\n",
        "\n",
        "### 🔎 Quick checks\n",
        "- Show index/columns of grouped result.\n",
        "- Check row counts before/after a merge.\n",
        "\n",
        "### ➕ Extension (pick one)\n",
        "- Add `avg_tip_pp` and re-rank groups.\n",
        "- Outer join with `_indicator` and explain one mismatch.\n",
        "\n",
        "**Rubric (10 pts):** Correctness 3 • Evidence 2 • Clarity 2 • Reproducibility 2 • Exploration 1"
      ],
      "id": "GtTHQyl406WH"
    },
    {
      "cell_type": "markdown",
      "metadata": {
        "id": "XU0MyD1806WH"
      },
      "source": [
        "## 6) Reshaping & Pivoting (15m)"
      ],
      "id": "XU0MyD1806WH"
    },
    {
      "cell_type": "code",
      "metadata": {
        "id": "1Fim0Fst06WH"
      },
      "source": [
        "piv = tips.pivot_table(index='day', columns='time', values='tip_pct', aggfunc='mean'); piv"
      ],
      "outputs": [],
      "execution_count": null,
      "id": "1Fim0Fst06WH"
    },
    {
      "cell_type": "code",
      "metadata": {
        "id": "dlJsOFyg06WH"
      },
      "source": [
        "long = tips[['day','time','total_bill','tip']].melt(id_vars=['day','time'], var_name='metric', value_name='value'); long.head()"
      ],
      "outputs": [],
      "execution_count": null,
      "id": "dlJsOFyg06WH"
    },
    {
      "cell_type": "markdown",
      "metadata": {
        "id": "IEZBSyje06WH"
      },
      "source": [
        "### ✅ Exercise 6\n",
        "1) Pivot mean `total_bill` by `size`×`day`. 2) Melt back to long with `size` as id."
      ],
      "id": "IEZBSyje06WH"
    },
    {
      "cell_type": "markdown",
      "metadata": {
        "id": "clVSewyy06WH"
      },
      "source": [
        "**Hints:**\n",
        "- Concept: reshape wide↔long.\n",
        "- API: `pivot_table`, `melt`.\n"
      ],
      "id": "clVSewyy06WH"
    },
    {
      "cell_type": "code",
      "metadata": {
        "colab": {
          "base_uri": "https://localhost:8080/",
          "height": 510
        },
        "id": "sF8Ldtck06WH",
        "outputId": "c868de3d-7725-4c41-ab95-63a5989f7c38"
      },
      "source": [
        "# YOUR WORK: Exercise 6\n",
        "\n",
        "# 1. Pivot mean total_bill by size x day\n",
        "pivot_table_result = tips.pivot_table(index='size', columns='day', values='total_bill', aggfunc='mean')\n",
        "print(\"Pivot table (mean total_bill by size x day):\")\n",
        "display(pivot_table_result)\n",
        "\n",
        "# 2. Melt back to long with size as id\n",
        "melted_data = pivot_table_result.reset_index().melt(id_vars='size', var_name='day', value_name='mean_total_bill')\n",
        "print(\"\\nMelted data (long format with size as id):\")\n",
        "display(melted_data.head())"
      ],
      "outputs": [
        {
          "output_type": "stream",
          "name": "stdout",
          "text": [
            "Pivot table (mean total_bill by size x day):\n"
          ]
        },
        {
          "output_type": "display_data",
          "data": {
            "text/plain": [
              "day         Fri        Sat        Sun       Thur\n",
              "size                                            \n",
              "1      8.580000   5.160000        NaN  10.070000\n",
              "2     16.321875  16.837170  17.560000  15.156875\n",
              "3     15.980000  25.509444  22.184000  19.160000\n",
              "4     40.170000  29.876154  26.688333  29.950000\n",
              "5           NaN  28.150000  27.000000  41.190000\n",
              "6           NaN        NaN  48.170000  30.383333"
            ],
            "text/html": [
              "\n",
              "  <div id=\"df-6919896a-238f-4ead-ac3c-f970bc4c95af\" class=\"colab-df-container\">\n",
              "    <div>\n",
              "<style scoped>\n",
              "    .dataframe tbody tr th:only-of-type {\n",
              "        vertical-align: middle;\n",
              "    }\n",
              "\n",
              "    .dataframe tbody tr th {\n",
              "        vertical-align: top;\n",
              "    }\n",
              "\n",
              "    .dataframe thead th {\n",
              "        text-align: right;\n",
              "    }\n",
              "</style>\n",
              "<table border=\"1\" class=\"dataframe\">\n",
              "  <thead>\n",
              "    <tr style=\"text-align: right;\">\n",
              "      <th>day</th>\n",
              "      <th>Fri</th>\n",
              "      <th>Sat</th>\n",
              "      <th>Sun</th>\n",
              "      <th>Thur</th>\n",
              "    </tr>\n",
              "    <tr>\n",
              "      <th>size</th>\n",
              "      <th></th>\n",
              "      <th></th>\n",
              "      <th></th>\n",
              "      <th></th>\n",
              "    </tr>\n",
              "  </thead>\n",
              "  <tbody>\n",
              "    <tr>\n",
              "      <th>1</th>\n",
              "      <td>8.580000</td>\n",
              "      <td>5.160000</td>\n",
              "      <td>NaN</td>\n",
              "      <td>10.070000</td>\n",
              "    </tr>\n",
              "    <tr>\n",
              "      <th>2</th>\n",
              "      <td>16.321875</td>\n",
              "      <td>16.837170</td>\n",
              "      <td>17.560000</td>\n",
              "      <td>15.156875</td>\n",
              "    </tr>\n",
              "    <tr>\n",
              "      <th>3</th>\n",
              "      <td>15.980000</td>\n",
              "      <td>25.509444</td>\n",
              "      <td>22.184000</td>\n",
              "      <td>19.160000</td>\n",
              "    </tr>\n",
              "    <tr>\n",
              "      <th>4</th>\n",
              "      <td>40.170000</td>\n",
              "      <td>29.876154</td>\n",
              "      <td>26.688333</td>\n",
              "      <td>29.950000</td>\n",
              "    </tr>\n",
              "    <tr>\n",
              "      <th>5</th>\n",
              "      <td>NaN</td>\n",
              "      <td>28.150000</td>\n",
              "      <td>27.000000</td>\n",
              "      <td>41.190000</td>\n",
              "    </tr>\n",
              "    <tr>\n",
              "      <th>6</th>\n",
              "      <td>NaN</td>\n",
              "      <td>NaN</td>\n",
              "      <td>48.170000</td>\n",
              "      <td>30.383333</td>\n",
              "    </tr>\n",
              "  </tbody>\n",
              "</table>\n",
              "</div>\n",
              "    <div class=\"colab-df-buttons\">\n",
              "\n",
              "  <div class=\"colab-df-container\">\n",
              "    <button class=\"colab-df-convert\" onclick=\"convertToInteractive('df-6919896a-238f-4ead-ac3c-f970bc4c95af')\"\n",
              "            title=\"Convert this dataframe to an interactive table.\"\n",
              "            style=\"display:none;\">\n",
              "\n",
              "  <svg xmlns=\"http://www.w3.org/2000/svg\" height=\"24px\" viewBox=\"0 -960 960 960\">\n",
              "    <path d=\"M120-120v-720h720v720H120Zm60-500h600v-160H180v160Zm220 220h160v-160H400v160Zm0 220h160v-160H400v160ZM180-400h160v-160H180v160Zm440 0h160v-160H620v160ZM180-180h160v-160H180v160Zm440 0h160v-160H620v160Z\"/>\n",
              "  </svg>\n",
              "    </button>\n",
              "\n",
              "  <style>\n",
              "    .colab-df-container {\n",
              "      display:flex;\n",
              "      gap: 12px;\n",
              "    }\n",
              "\n",
              "    .colab-df-convert {\n",
              "      background-color: #E8F0FE;\n",
              "      border: none;\n",
              "      border-radius: 50%;\n",
              "      cursor: pointer;\n",
              "      display: none;\n",
              "      fill: #1967D2;\n",
              "      height: 32px;\n",
              "      padding: 0 0 0 0;\n",
              "      width: 32px;\n",
              "    }\n",
              "\n",
              "    .colab-df-convert:hover {\n",
              "      background-color: #E2EBFA;\n",
              "      box-shadow: 0px 1px 2px rgba(60, 64, 67, 0.3), 0px 1px 3px 1px rgba(60, 64, 67, 0.15);\n",
              "      fill: #174EA6;\n",
              "    }\n",
              "\n",
              "    .colab-df-buttons div {\n",
              "      margin-bottom: 4px;\n",
              "    }\n",
              "\n",
              "    [theme=dark] .colab-df-convert {\n",
              "      background-color: #3B4455;\n",
              "      fill: #D2E3FC;\n",
              "    }\n",
              "\n",
              "    [theme=dark] .colab-df-convert:hover {\n",
              "      background-color: #434B5C;\n",
              "      box-shadow: 0px 1px 3px 1px rgba(0, 0, 0, 0.15);\n",
              "      filter: drop-shadow(0px 1px 2px rgba(0, 0, 0, 0.3));\n",
              "      fill: #FFFFFF;\n",
              "    }\n",
              "  </style>\n",
              "\n",
              "    <script>\n",
              "      const buttonEl =\n",
              "        document.querySelector('#df-6919896a-238f-4ead-ac3c-f970bc4c95af button.colab-df-convert');\n",
              "      buttonEl.style.display =\n",
              "        google.colab.kernel.accessAllowed ? 'block' : 'none';\n",
              "\n",
              "      async function convertToInteractive(key) {\n",
              "        const element = document.querySelector('#df-6919896a-238f-4ead-ac3c-f970bc4c95af');\n",
              "        const dataTable =\n",
              "          await google.colab.kernel.invokeFunction('convertToInteractive',\n",
              "                                                    [key], {});\n",
              "        if (!dataTable) return;\n",
              "\n",
              "        const docLinkHtml = 'Like what you see? Visit the ' +\n",
              "          '<a target=\"_blank\" href=https://colab.research.google.com/notebooks/data_table.ipynb>data table notebook</a>'\n",
              "          + ' to learn more about interactive tables.';\n",
              "        element.innerHTML = '';\n",
              "        dataTable['output_type'] = 'display_data';\n",
              "        await google.colab.output.renderOutput(dataTable, element);\n",
              "        const docLink = document.createElement('div');\n",
              "        docLink.innerHTML = docLinkHtml;\n",
              "        element.appendChild(docLink);\n",
              "      }\n",
              "    </script>\n",
              "  </div>\n",
              "\n",
              "\n",
              "    <div id=\"df-13c5e592-556b-44c0-a3c6-44963144740d\">\n",
              "      <button class=\"colab-df-quickchart\" onclick=\"quickchart('df-13c5e592-556b-44c0-a3c6-44963144740d')\"\n",
              "                title=\"Suggest charts\"\n",
              "                style=\"display:none;\">\n",
              "\n",
              "<svg xmlns=\"http://www.w3.org/2000/svg\" height=\"24px\"viewBox=\"0 0 24 24\"\n",
              "     width=\"24px\">\n",
              "    <g>\n",
              "        <path d=\"M19 3H5c-1.1 0-2 .9-2 2v14c0 1.1.9 2 2 2h14c1.1 0 2-.9 2-2V5c0-1.1-.9-2-2-2zM9 17H7v-7h2v7zm4 0h-2V7h2v10zm4 0h-2v-4h2v4z\"/>\n",
              "    </g>\n",
              "</svg>\n",
              "      </button>\n",
              "\n",
              "<style>\n",
              "  .colab-df-quickchart {\n",
              "      --bg-color: #E8F0FE;\n",
              "      --fill-color: #1967D2;\n",
              "      --hover-bg-color: #E2EBFA;\n",
              "      --hover-fill-color: #174EA6;\n",
              "      --disabled-fill-color: #AAA;\n",
              "      --disabled-bg-color: #DDD;\n",
              "  }\n",
              "\n",
              "  [theme=dark] .colab-df-quickchart {\n",
              "      --bg-color: #3B4455;\n",
              "      --fill-color: #D2E3FC;\n",
              "      --hover-bg-color: #434B5C;\n",
              "      --hover-fill-color: #FFFFFF;\n",
              "      --disabled-bg-color: #3B4455;\n",
              "      --disabled-fill-color: #666;\n",
              "  }\n",
              "\n",
              "  .colab-df-quickchart {\n",
              "    background-color: var(--bg-color);\n",
              "    border: none;\n",
              "    border-radius: 50%;\n",
              "    cursor: pointer;\n",
              "    display: none;\n",
              "    fill: var(--fill-color);\n",
              "    height: 32px;\n",
              "    padding: 0;\n",
              "    width: 32px;\n",
              "  }\n",
              "\n",
              "  .colab-df-quickchart:hover {\n",
              "    background-color: var(--hover-bg-color);\n",
              "    box-shadow: 0 1px 2px rgba(60, 64, 67, 0.3), 0 1px 3px 1px rgba(60, 64, 67, 0.15);\n",
              "    fill: var(--button-hover-fill-color);\n",
              "  }\n",
              "\n",
              "  .colab-df-quickchart-complete:disabled,\n",
              "  .colab-df-quickchart-complete:disabled:hover {\n",
              "    background-color: var(--disabled-bg-color);\n",
              "    fill: var(--disabled-fill-color);\n",
              "    box-shadow: none;\n",
              "  }\n",
              "\n",
              "  .colab-df-spinner {\n",
              "    border: 2px solid var(--fill-color);\n",
              "    border-color: transparent;\n",
              "    border-bottom-color: var(--fill-color);\n",
              "    animation:\n",
              "      spin 1s steps(1) infinite;\n",
              "  }\n",
              "\n",
              "  @keyframes spin {\n",
              "    0% {\n",
              "      border-color: transparent;\n",
              "      border-bottom-color: var(--fill-color);\n",
              "      border-left-color: var(--fill-color);\n",
              "    }\n",
              "    20% {\n",
              "      border-color: transparent;\n",
              "      border-left-color: var(--fill-color);\n",
              "      border-top-color: var(--fill-color);\n",
              "    }\n",
              "    30% {\n",
              "      border-color: transparent;\n",
              "      border-left-color: var(--fill-color);\n",
              "      border-top-color: var(--fill-color);\n",
              "      border-right-color: var(--fill-color);\n",
              "    }\n",
              "    40% {\n",
              "      border-color: transparent;\n",
              "      border-right-color: var(--fill-color);\n",
              "      border-top-color: var(--fill-color);\n",
              "    }\n",
              "    60% {\n",
              "      border-color: transparent;\n",
              "      border-right-color: var(--fill-color);\n",
              "    }\n",
              "    80% {\n",
              "      border-color: transparent;\n",
              "      border-right-color: var(--fill-color);\n",
              "      border-bottom-color: var(--fill-color);\n",
              "    }\n",
              "    90% {\n",
              "      border-color: transparent;\n",
              "      border-bottom-color: var(--fill-color);\n",
              "    }\n",
              "  }\n",
              "</style>\n",
              "\n",
              "      <script>\n",
              "        async function quickchart(key) {\n",
              "          const quickchartButtonEl =\n",
              "            document.querySelector('#' + key + ' button');\n",
              "          quickchartButtonEl.disabled = true;  // To prevent multiple clicks.\n",
              "          quickchartButtonEl.classList.add('colab-df-spinner');\n",
              "          try {\n",
              "            const charts = await google.colab.kernel.invokeFunction(\n",
              "                'suggestCharts', [key], {});\n",
              "          } catch (error) {\n",
              "            console.error('Error during call to suggestCharts:', error);\n",
              "          }\n",
              "          quickchartButtonEl.classList.remove('colab-df-spinner');\n",
              "          quickchartButtonEl.classList.add('colab-df-quickchart-complete');\n",
              "        }\n",
              "        (() => {\n",
              "          let quickchartButtonEl =\n",
              "            document.querySelector('#df-13c5e592-556b-44c0-a3c6-44963144740d button');\n",
              "          quickchartButtonEl.style.display =\n",
              "            google.colab.kernel.accessAllowed ? 'block' : 'none';\n",
              "        })();\n",
              "      </script>\n",
              "    </div>\n",
              "\n",
              "  <div id=\"id_0151ca10-ca26-4bcb-8918-5a51b7a08404\">\n",
              "    <style>\n",
              "      .colab-df-generate {\n",
              "        background-color: #E8F0FE;\n",
              "        border: none;\n",
              "        border-radius: 50%;\n",
              "        cursor: pointer;\n",
              "        display: none;\n",
              "        fill: #1967D2;\n",
              "        height: 32px;\n",
              "        padding: 0 0 0 0;\n",
              "        width: 32px;\n",
              "      }\n",
              "\n",
              "      .colab-df-generate:hover {\n",
              "        background-color: #E2EBFA;\n",
              "        box-shadow: 0px 1px 2px rgba(60, 64, 67, 0.3), 0px 1px 3px 1px rgba(60, 64, 67, 0.15);\n",
              "        fill: #174EA6;\n",
              "      }\n",
              "\n",
              "      [theme=dark] .colab-df-generate {\n",
              "        background-color: #3B4455;\n",
              "        fill: #D2E3FC;\n",
              "      }\n",
              "\n",
              "      [theme=dark] .colab-df-generate:hover {\n",
              "        background-color: #434B5C;\n",
              "        box-shadow: 0px 1px 3px 1px rgba(0, 0, 0, 0.15);\n",
              "        filter: drop-shadow(0px 1px 2px rgba(0, 0, 0, 0.3));\n",
              "        fill: #FFFFFF;\n",
              "      }\n",
              "    </style>\n",
              "    <button class=\"colab-df-generate\" onclick=\"generateWithVariable('pivot_table_result')\"\n",
              "            title=\"Generate code using this dataframe.\"\n",
              "            style=\"display:none;\">\n",
              "\n",
              "  <svg xmlns=\"http://www.w3.org/2000/svg\" height=\"24px\"viewBox=\"0 0 24 24\"\n",
              "       width=\"24px\">\n",
              "    <path d=\"M7,19H8.4L18.45,9,17,7.55,7,17.6ZM5,21V16.75L18.45,3.32a2,2,0,0,1,2.83,0l1.4,1.43a1.91,1.91,0,0,1,.58,1.4,1.91,1.91,0,0,1-.58,1.4L9.25,21ZM18.45,9,17,7.55Zm-12,3A5.31,5.31,0,0,0,4.9,8.1,5.31,5.31,0,0,0,1,6.5,5.31,5.31,0,0,0,4.9,4.9,5.31,5.31,0,0,0,6.5,1,5.31,5.31,0,0,0,8.1,4.9,5.31,5.31,0,0,0,12,6.5,5.46,5.46,0,0,0,6.5,12Z\"/>\n",
              "  </svg>\n",
              "    </button>\n",
              "    <script>\n",
              "      (() => {\n",
              "      const buttonEl =\n",
              "        document.querySelector('#id_0151ca10-ca26-4bcb-8918-5a51b7a08404 button.colab-df-generate');\n",
              "      buttonEl.style.display =\n",
              "        google.colab.kernel.accessAllowed ? 'block' : 'none';\n",
              "\n",
              "      buttonEl.onclick = () => {\n",
              "        google.colab.notebook.generateWithVariable('pivot_table_result');\n",
              "      }\n",
              "      })();\n",
              "    </script>\n",
              "  </div>\n",
              "\n",
              "    </div>\n",
              "  </div>\n"
            ],
            "application/vnd.google.colaboratory.intrinsic+json": {
              "type": "dataframe",
              "variable_name": "pivot_table_result",
              "summary": "{\n  \"name\": \"pivot_table_result\",\n  \"rows\": 6,\n  \"fields\": [\n    {\n      \"column\": \"size\",\n      \"properties\": {\n        \"dtype\": \"number\",\n        \"std\": 1,\n        \"min\": 1,\n        \"max\": 6,\n        \"num_unique_values\": 6,\n        \"samples\": [\n          1,\n          2,\n          6\n        ],\n        \"semantic_type\": \"\",\n        \"description\": \"\"\n      }\n    },\n    {\n      \"column\": \"Fri\",\n      \"properties\": {\n        \"dtype\": \"number\",\n        \"std\": 13.74357659977585,\n        \"min\": 8.58,\n        \"max\": 40.17,\n        \"num_unique_values\": 4,\n        \"samples\": [\n          16.321875,\n          40.17,\n          8.58\n        ],\n        \"semantic_type\": \"\",\n        \"description\": \"\"\n      }\n    },\n    {\n      \"column\": \"Sat\",\n      \"properties\": {\n        \"dtype\": \"number\",\n        \"std\": 10.22767914910095,\n        \"min\": 5.16,\n        \"max\": 29.876153846153844,\n        \"num_unique_values\": 5,\n        \"samples\": [\n          16.837169811320756,\n          28.15,\n          25.509444444444444\n        ],\n        \"semantic_type\": \"\",\n        \"description\": \"\"\n      }\n    },\n    {\n      \"column\": \"Sun\",\n      \"properties\": {\n        \"dtype\": \"number\",\n        \"std\": 11.74580064344511,\n        \"min\": 17.560000000000002,\n        \"max\": 48.17,\n        \"num_unique_values\": 5,\n        \"samples\": [\n          22.184,\n          48.17,\n          26.688333333333333\n        ],\n        \"semantic_type\": \"\",\n        \"description\": \"\"\n      }\n    },\n    {\n      \"column\": \"Thur\",\n      \"properties\": {\n        \"dtype\": \"number\",\n        \"std\": 11.547369872808959,\n        \"min\": 10.07,\n        \"max\": 41.19,\n        \"num_unique_values\": 6,\n        \"samples\": [\n          10.07,\n          15.156875,\n          30.38333333333333\n        ],\n        \"semantic_type\": \"\",\n        \"description\": \"\"\n      }\n    }\n  ]\n}"
            }
          },
          "metadata": {}
        },
        {
          "output_type": "stream",
          "name": "stdout",
          "text": [
            "\n",
            "Melted data (long format with size as id):\n"
          ]
        },
        {
          "output_type": "display_data",
          "data": {
            "text/plain": [
              "   size  day  mean_total_bill\n",
              "0     1  Fri         8.580000\n",
              "1     2  Fri        16.321875\n",
              "2     3  Fri        15.980000\n",
              "3     4  Fri        40.170000\n",
              "4     5  Fri              NaN"
            ],
            "text/html": [
              "\n",
              "  <div id=\"df-12d6673c-25b0-405c-b9e2-831585bbc292\" class=\"colab-df-container\">\n",
              "    <div>\n",
              "<style scoped>\n",
              "    .dataframe tbody tr th:only-of-type {\n",
              "        vertical-align: middle;\n",
              "    }\n",
              "\n",
              "    .dataframe tbody tr th {\n",
              "        vertical-align: top;\n",
              "    }\n",
              "\n",
              "    .dataframe thead th {\n",
              "        text-align: right;\n",
              "    }\n",
              "</style>\n",
              "<table border=\"1\" class=\"dataframe\">\n",
              "  <thead>\n",
              "    <tr style=\"text-align: right;\">\n",
              "      <th></th>\n",
              "      <th>size</th>\n",
              "      <th>day</th>\n",
              "      <th>mean_total_bill</th>\n",
              "    </tr>\n",
              "  </thead>\n",
              "  <tbody>\n",
              "    <tr>\n",
              "      <th>0</th>\n",
              "      <td>1</td>\n",
              "      <td>Fri</td>\n",
              "      <td>8.580000</td>\n",
              "    </tr>\n",
              "    <tr>\n",
              "      <th>1</th>\n",
              "      <td>2</td>\n",
              "      <td>Fri</td>\n",
              "      <td>16.321875</td>\n",
              "    </tr>\n",
              "    <tr>\n",
              "      <th>2</th>\n",
              "      <td>3</td>\n",
              "      <td>Fri</td>\n",
              "      <td>15.980000</td>\n",
              "    </tr>\n",
              "    <tr>\n",
              "      <th>3</th>\n",
              "      <td>4</td>\n",
              "      <td>Fri</td>\n",
              "      <td>40.170000</td>\n",
              "    </tr>\n",
              "    <tr>\n",
              "      <th>4</th>\n",
              "      <td>5</td>\n",
              "      <td>Fri</td>\n",
              "      <td>NaN</td>\n",
              "    </tr>\n",
              "  </tbody>\n",
              "</table>\n",
              "</div>\n",
              "    <div class=\"colab-df-buttons\">\n",
              "\n",
              "  <div class=\"colab-df-container\">\n",
              "    <button class=\"colab-df-convert\" onclick=\"convertToInteractive('df-12d6673c-25b0-405c-b9e2-831585bbc292')\"\n",
              "            title=\"Convert this dataframe to an interactive table.\"\n",
              "            style=\"display:none;\">\n",
              "\n",
              "  <svg xmlns=\"http://www.w3.org/2000/svg\" height=\"24px\" viewBox=\"0 -960 960 960\">\n",
              "    <path d=\"M120-120v-720h720v720H120Zm60-500h600v-160H180v160Zm220 220h160v-160H400v160Zm0 220h160v-160H400v160ZM180-400h160v-160H180v160Zm440 0h160v-160H620v160ZM180-180h160v-160H180v160Zm440 0h160v-160H620v160Z\"/>\n",
              "  </svg>\n",
              "    </button>\n",
              "\n",
              "  <style>\n",
              "    .colab-df-container {\n",
              "      display:flex;\n",
              "      gap: 12px;\n",
              "    }\n",
              "\n",
              "    .colab-df-convert {\n",
              "      background-color: #E8F0FE;\n",
              "      border: none;\n",
              "      border-radius: 50%;\n",
              "      cursor: pointer;\n",
              "      display: none;\n",
              "      fill: #1967D2;\n",
              "      height: 32px;\n",
              "      padding: 0 0 0 0;\n",
              "      width: 32px;\n",
              "    }\n",
              "\n",
              "    .colab-df-convert:hover {\n",
              "      background-color: #E2EBFA;\n",
              "      box-shadow: 0px 1px 2px rgba(60, 64, 67, 0.3), 0px 1px 3px 1px rgba(60, 64, 67, 0.15);\n",
              "      fill: #174EA6;\n",
              "    }\n",
              "\n",
              "    .colab-df-buttons div {\n",
              "      margin-bottom: 4px;\n",
              "    }\n",
              "\n",
              "    [theme=dark] .colab-df-convert {\n",
              "      background-color: #3B4455;\n",
              "      fill: #D2E3FC;\n",
              "    }\n",
              "\n",
              "    [theme=dark] .colab-df-convert:hover {\n",
              "      background-color: #434B5C;\n",
              "      box-shadow: 0px 1px 3px 1px rgba(0, 0, 0, 0.15);\n",
              "      filter: drop-shadow(0px 1px 2px rgba(0, 0, 0, 0.3));\n",
              "      fill: #FFFFFF;\n",
              "    }\n",
              "  </style>\n",
              "\n",
              "    <script>\n",
              "      const buttonEl =\n",
              "        document.querySelector('#df-12d6673c-25b0-405c-b9e2-831585bbc292 button.colab-df-convert');\n",
              "      buttonEl.style.display =\n",
              "        google.colab.kernel.accessAllowed ? 'block' : 'none';\n",
              "\n",
              "      async function convertToInteractive(key) {\n",
              "        const element = document.querySelector('#df-12d6673c-25b0-405c-b9e2-831585bbc292');\n",
              "        const dataTable =\n",
              "          await google.colab.kernel.invokeFunction('convertToInteractive',\n",
              "                                                    [key], {});\n",
              "        if (!dataTable) return;\n",
              "\n",
              "        const docLinkHtml = 'Like what you see? Visit the ' +\n",
              "          '<a target=\"_blank\" href=https://colab.research.google.com/notebooks/data_table.ipynb>data table notebook</a>'\n",
              "          + ' to learn more about interactive tables.';\n",
              "        element.innerHTML = '';\n",
              "        dataTable['output_type'] = 'display_data';\n",
              "        await google.colab.output.renderOutput(dataTable, element);\n",
              "        const docLink = document.createElement('div');\n",
              "        docLink.innerHTML = docLinkHtml;\n",
              "        element.appendChild(docLink);\n",
              "      }\n",
              "    </script>\n",
              "  </div>\n",
              "\n",
              "\n",
              "    <div id=\"df-b07cf4eb-3c5c-4e6a-a303-f6815bfe34d5\">\n",
              "      <button class=\"colab-df-quickchart\" onclick=\"quickchart('df-b07cf4eb-3c5c-4e6a-a303-f6815bfe34d5')\"\n",
              "                title=\"Suggest charts\"\n",
              "                style=\"display:none;\">\n",
              "\n",
              "<svg xmlns=\"http://www.w3.org/2000/svg\" height=\"24px\"viewBox=\"0 0 24 24\"\n",
              "     width=\"24px\">\n",
              "    <g>\n",
              "        <path d=\"M19 3H5c-1.1 0-2 .9-2 2v14c0 1.1.9 2 2 2h14c1.1 0 2-.9 2-2V5c0-1.1-.9-2-2-2zM9 17H7v-7h2v7zm4 0h-2V7h2v10zm4 0h-2v-4h2v4z\"/>\n",
              "    </g>\n",
              "</svg>\n",
              "      </button>\n",
              "\n",
              "<style>\n",
              "  .colab-df-quickchart {\n",
              "      --bg-color: #E8F0FE;\n",
              "      --fill-color: #1967D2;\n",
              "      --hover-bg-color: #E2EBFA;\n",
              "      --hover-fill-color: #174EA6;\n",
              "      --disabled-fill-color: #AAA;\n",
              "      --disabled-bg-color: #DDD;\n",
              "  }\n",
              "\n",
              "  [theme=dark] .colab-df-quickchart {\n",
              "      --bg-color: #3B4455;\n",
              "      --fill-color: #D2E3FC;\n",
              "      --hover-bg-color: #434B5C;\n",
              "      --hover-fill-color: #FFFFFF;\n",
              "      --disabled-bg-color: #3B4455;\n",
              "      --disabled-fill-color: #666;\n",
              "  }\n",
              "\n",
              "  .colab-df-quickchart {\n",
              "    background-color: var(--bg-color);\n",
              "    border: none;\n",
              "    border-radius: 50%;\n",
              "    cursor: pointer;\n",
              "    display: none;\n",
              "    fill: var(--fill-color);\n",
              "    height: 32px;\n",
              "    padding: 0;\n",
              "    width: 32px;\n",
              "  }\n",
              "\n",
              "  .colab-df-quickchart:hover {\n",
              "    background-color: var(--hover-bg-color);\n",
              "    box-shadow: 0 1px 2px rgba(60, 64, 67, 0.3), 0 1px 3px 1px rgba(60, 64, 67, 0.15);\n",
              "    fill: var(--button-hover-fill-color);\n",
              "  }\n",
              "\n",
              "  .colab-df-quickchart-complete:disabled,\n",
              "  .colab-df-quickchart-complete:disabled:hover {\n",
              "    background-color: var(--disabled-bg-color);\n",
              "    fill: var(--disabled-fill-color);\n",
              "    box-shadow: none;\n",
              "  }\n",
              "\n",
              "  .colab-df-spinner {\n",
              "    border: 2px solid var(--fill-color);\n",
              "    border-color: transparent;\n",
              "    border-bottom-color: var(--fill-color);\n",
              "    animation:\n",
              "      spin 1s steps(1) infinite;\n",
              "  }\n",
              "\n",
              "  @keyframes spin {\n",
              "    0% {\n",
              "      border-color: transparent;\n",
              "      border-bottom-color: var(--fill-color);\n",
              "      border-left-color: var(--fill-color);\n",
              "    }\n",
              "    20% {\n",
              "      border-color: transparent;\n",
              "      border-left-color: var(--fill-color);\n",
              "      border-top-color: var(--fill-color);\n",
              "    }\n",
              "    30% {\n",
              "      border-color: transparent;\n",
              "      border-left-color: var(--fill-color);\n",
              "      border-top-color: var(--fill-color);\n",
              "      border-right-color: var(--fill-color);\n",
              "    }\n",
              "    40% {\n",
              "      border-color: transparent;\n",
              "      border-right-color: var(--fill-color);\n",
              "      border-top-color: var(--fill-color);\n",
              "    }\n",
              "    60% {\n",
              "      border-color: transparent;\n",
              "      border-right-color: var(--fill-color);\n",
              "    }\n",
              "    80% {\n",
              "      border-color: transparent;\n",
              "      border-right-color: var(--fill-color);\n",
              "      border-bottom-color: var(--fill-color);\n",
              "    }\n",
              "    90% {\n",
              "      border-color: transparent;\n",
              "      border-bottom-color: var(--fill-color);\n",
              "    }\n",
              "  }\n",
              "</style>\n",
              "\n",
              "      <script>\n",
              "        async function quickchart(key) {\n",
              "          const quickchartButtonEl =\n",
              "            document.querySelector('#' + key + ' button');\n",
              "          quickchartButtonEl.disabled = true;  // To prevent multiple clicks.\n",
              "          quickchartButtonEl.classList.add('colab-df-spinner');\n",
              "          try {\n",
              "            const charts = await google.colab.kernel.invokeFunction(\n",
              "                'suggestCharts', [key], {});\n",
              "          } catch (error) {\n",
              "            console.error('Error during call to suggestCharts:', error);\n",
              "          }\n",
              "          quickchartButtonEl.classList.remove('colab-df-spinner');\n",
              "          quickchartButtonEl.classList.add('colab-df-quickchart-complete');\n",
              "        }\n",
              "        (() => {\n",
              "          let quickchartButtonEl =\n",
              "            document.querySelector('#df-b07cf4eb-3c5c-4e6a-a303-f6815bfe34d5 button');\n",
              "          quickchartButtonEl.style.display =\n",
              "            google.colab.kernel.accessAllowed ? 'block' : 'none';\n",
              "        })();\n",
              "      </script>\n",
              "    </div>\n",
              "\n",
              "    </div>\n",
              "  </div>\n"
            ],
            "application/vnd.google.colaboratory.intrinsic+json": {
              "type": "dataframe",
              "summary": "{\n  \"name\": \"display(melted_data\",\n  \"rows\": 5,\n  \"fields\": [\n    {\n      \"column\": \"size\",\n      \"properties\": {\n        \"dtype\": \"number\",\n        \"std\": 1,\n        \"min\": 1,\n        \"max\": 5,\n        \"num_unique_values\": 5,\n        \"samples\": [\n          2,\n          5,\n          3\n        ],\n        \"semantic_type\": \"\",\n        \"description\": \"\"\n      }\n    },\n    {\n      \"column\": \"day\",\n      \"properties\": {\n        \"dtype\": \"category\",\n        \"num_unique_values\": 1,\n        \"samples\": [\n          \"Fri\"\n        ],\n        \"semantic_type\": \"\",\n        \"description\": \"\"\n      }\n    },\n    {\n      \"column\": \"mean_total_bill\",\n      \"properties\": {\n        \"dtype\": \"number\",\n        \"std\": 13.74357659977585,\n        \"min\": 8.58,\n        \"max\": 40.17,\n        \"num_unique_values\": 4,\n        \"samples\": [\n          16.321875\n        ],\n        \"semantic_type\": \"\",\n        \"description\": \"\"\n      }\n    }\n  ]\n}"
            }
          },
          "metadata": {}
        }
      ],
      "execution_count": 13,
      "id": "sF8Ldtck06WH"
    },
    {
      "cell_type": "markdown",
      "metadata": {
        "id": "7Pl974Ue06WH"
      },
      "source": [
        "### ✍️ Analysis (Reshaping & Pivoting) — 3–5 sentences\n",
        "- When did `pivot_table` drop rows/cols vs `melt`?\n",
        "- Explain wide↔long trade-offs here.\n",
        "- Which format suits your chosen chart and why?\n",
        "\n",
        "### 🔎 Quick checks\n",
        "- Confirm shapes of pivot vs long tables.\n",
        "- List index/columns used in your pivot.\n",
        "\n",
        "### ➕ Extension (pick one)\n",
        "- Change `aggfunc` and compare results.\n",
        "- Add a second dimension in pivot.\n",
        "\n",
        "**Rubric (10 pts):** Correctness 3 • Evidence 2 • Clarity 2 • Reproducibility 2 • Exploration 1"
      ],
      "id": "7Pl974Ue06WH"
    },
    {
      "cell_type": "markdown",
      "metadata": {
        "id": "PUNGYiUH06WH"
      },
      "source": [
        "## 7) Mini-Project: When are tips the most generous? (5–10m)"
      ],
      "id": "PUNGYiUH06WH"
    },
    {
      "cell_type": "code",
      "metadata": {
        "id": "lErc6p-A06WI"
      },
      "source": [
        "piv = tips.pivot_table(index='day', columns='time', values='tip_pct', aggfunc='mean')\n",
        "print(piv.stack().sort_values(ascending=False).head(5))\n",
        "plt.figure(); plt.imshow(piv.values, aspect='auto')\n",
        "plt.title('Mean tip_pct by day & time'); plt.xlabel('time'); plt.ylabel('day')\n",
        "plt.xticks(range(len(piv.columns)), piv.columns.astype(str))\n",
        "plt.yticks(range(len(piv.index)), piv.index.astype(str))\n",
        "plt.colorbar(); plt.show()"
      ],
      "outputs": [],
      "execution_count": null,
      "id": "lErc6p-A06WI"
    },
    {
      "cell_type": "markdown",
      "metadata": {
        "id": "34cMvx0i06WI"
      },
      "source": [
        "### ✍️ Analysis (Mini-Project (Tips Generosity)) — 3–5 sentences\n",
        "- State your top day×time combo with mean `tip_pct`.\n",
        "- Is it robust to outliers? How to check?\n",
        "- One follow-up action for a restaurant.\n",
        "\n",
        "### 🔎 Quick checks\n",
        "- Show top 3 combos and their counts.\n",
        "- Confirm sample size for top combo.\n",
        "\n",
        "### ➕ Extension (pick one)\n",
        "- Recompute using median `tip_pct`.\n",
        "- Exclude size<2 and compare ranking.\n",
        "\n",
        "**Rubric (10 pts):** Correctness 3 • Evidence 2 • Clarity 2 • Reproducibility 2 • Exploration 1"
      ],
      "id": "34cMvx0i06WI"
    },
    {
      "cell_type": "markdown",
      "metadata": {
        "id": "6TpgnKtk06WI"
      },
      "source": [
        "# Advanced Module — Daily Operations Coverage (~60–75m)"
      ],
      "id": "6TpgnKtk06WI"
    },
    {
      "cell_type": "markdown",
      "metadata": {
        "id": "d8UHJgZB06WI"
      },
      "source": [
        "## 8) Indexes & MultiIndex (10m)"
      ],
      "id": "d8UHJgZB06WI"
    },
    {
      "cell_type": "code",
      "metadata": {
        "id": "A3Z2hdYV06WI"
      },
      "source": [
        "ti = tips.set_index(['day','time']).sort_index()\n",
        "ti.loc[('Sat','Dinner')].head()"
      ],
      "outputs": [],
      "execution_count": null,
      "id": "A3Z2hdYV06WI"
    },
    {
      "cell_type": "code",
      "metadata": {
        "id": "uoHEHkV606WI"
      },
      "source": [
        "ti.groupby(level=['day','time'])['tip_pct'].mean().reset_index(name='mean_tip_pct').head()"
      ],
      "outputs": [],
      "execution_count": null,
      "id": "uoHEHkV606WI"
    },
    {
      "cell_type": "markdown",
      "metadata": {
        "id": "9ceJvscw06WI"
      },
      "source": [
        "### ✍️ Analysis (Indexes & MultiIndex) — 3–5 sentences\n",
        "- What did a MultiIndex buy you over flat columns?\n",
        "- Give one easier slice enabled by the index.\n",
        "- Any pitfalls when saving/loading with MultiIndex?\n",
        "\n",
        "### 🔎 Quick checks\n",
        "- Print `.index.names` and level dtypes.\n",
        "- Show one `.loc` label slice on multi-level.\n",
        "\n",
        "### ➕ Extension (pick one)\n",
        "- Swap levels and explain slicing change.\n",
        "- Reset index and compare to original columns.\n",
        "\n",
        "**Rubric (10 pts):** Correctness 3 • Evidence 2 • Clarity 2 • Reproducibility 2 • Exploration 1"
      ],
      "id": "9ceJvscw06WI"
    },
    {
      "cell_type": "markdown",
      "metadata": {
        "id": "1ZVt-g0H06WI"
      },
      "source": [
        "## 9) Time Series & Resampling (15m)"
      ],
      "id": "1ZVt-g0H06WI"
    },
    {
      "cell_type": "code",
      "metadata": {
        "id": "NZyjeh9X06WI"
      },
      "source": [
        "tips_ts = tips.copy()\n",
        "tips_ts['date'] = pd.to_datetime('2024-01-01') + pd.to_timedelta(np.arange(len(tips_ts)), unit='D')\n",
        "tips_ts = tips_ts.set_index('date').sort_index()\n",
        "weekly = tips_ts.resample('W')[['total_bill','tip']].sum()\n",
        "weekly['tip_pct'] = weekly['tip']/weekly['total_bill']\n",
        "weekly['tip_pct_roll4'] = weekly['tip_pct'].rolling(4, min_periods=1).mean()\n",
        "weekly.head()"
      ],
      "outputs": [],
      "execution_count": null,
      "id": "NZyjeh9X06WI"
    },
    {
      "cell_type": "markdown",
      "metadata": {
        "id": "8YnolKUk06WI"
      },
      "source": [
        "### ✍️ Analysis (Time Series & Resampling) — 3–5 sentences\n",
        "- What trend do you see weekly vs monthly?\n",
        "- Interpret divergence between raw and rolling series.\n",
        "- Why pick `W` vs `MS`?\n",
        "\n",
        "### 🔎 Quick checks\n",
        "- Report min/max dates in your index.\n",
        "- State the rolling window used and its effect.\n",
        "\n",
        "### ➕ Extension (pick one)\n",
        "- Try a different window size and compare.\n",
        "- Plot both resampled and rolling series; note one change.\n",
        "\n",
        "**Rubric (10 pts):** Correctness 3 • Evidence 2 • Clarity 2 • Reproducibility 2 • Exploration 1"
      ],
      "id": "8YnolKUk06WI"
    },
    {
      "cell_type": "markdown",
      "metadata": {
        "id": "lhC3XxHu06WI"
      },
      "source": [
        "## 10) Rolling & Window Ops (10m)"
      ],
      "id": "lhC3XxHu06WI"
    },
    {
      "cell_type": "code",
      "metadata": {
        "id": "ielmBP1u06WI"
      },
      "source": [
        "daily = tips_ts.resample('D')[['total_bill']].sum()\n",
        "daily['roll14_med'] = daily['total_bill'].rolling(14, min_periods=1).median()\n",
        "daily[['total_bill','roll14_med']].head()"
      ],
      "outputs": [],
      "execution_count": null,
      "id": "ielmBP1u06WI"
    },
    {
      "cell_type": "markdown",
      "metadata": {
        "id": "uzdqg7TI06WI"
      },
      "source": [
        "### ✍️ Analysis (Rolling & Window Ops) — 3–5 sentences\n",
        "- Why is median sometimes preferable to mean in rolling stats?\n",
        "- What happens at the edges for rolling windows?\n",
        "- When is `expanding` more suitable than `rolling`?\n",
        "\n",
        "### 🔎 Quick checks\n",
        "- Show first 5 non-NaN rolling results.\n",
        "- Report `min_periods` and justify it.\n",
        "\n",
        "### ➕ Extension (pick one)\n",
        "- Compute an additional rolling metric (std/min) and interpret.\n",
        "- Compare 7 vs 14-day windows with one sentence.\n",
        "\n",
        "**Rubric (10 pts):** Correctness 3 • Evidence 2 • Clarity 2 • Reproducibility 2 • Exploration 1"
      ],
      "id": "uzdqg7TI06WI"
    },
    {
      "cell_type": "markdown",
      "metadata": {
        "id": "q6-gxc9006WI"
      },
      "source": [
        "## 11) Text Data: vectorized & regex (10m)"
      ],
      "id": "q6-gxc9006WI"
    },
    {
      "cell_type": "code",
      "metadata": {
        "id": "gD-6CmqN06WI"
      },
      "source": [
        "notes = np.array(['VIP table','Late night','Allergic: nuts','Birthday','Family','vip guest'])\n",
        "tips_txt = tips.copy()\n",
        "tips_txt['note'] = np.resize(notes, len(tips_txt)).astype('string')\n",
        "tips_txt['is_vip'] = tips_txt['note'].str.contains('vip', case=False)\n",
        "tips_txt['allergy'] = tips_txt['note'].str.extract(r'Allergic:\\s*(\\w+)', expand=False)\n",
        "tips_txt[['note','is_vip','allergy']].head()"
      ],
      "outputs": [],
      "execution_count": null,
      "id": "gD-6CmqN06WI"
    },
    {
      "cell_type": "markdown",
      "metadata": {
        "id": "5cQMjpev06WJ"
      },
      "source": [
        "### ✍️ Analysis (Text / Regex) — 3–5 sentences\n",
        "- Which regex or string op gave most value here?\n",
        "- How sensitive are your results to case/spacing?\n",
        "- One potential false positive in your pattern.\n",
        "\n",
        "### 🔎 Quick checks\n",
        "- Print counts of a detected flag (e.g., VIP).\n",
        "- Show unique extracted tokens (e.g., allergies).\n",
        "\n",
        "### ➕ Extension (pick one)\n",
        "- Add a refined regex (word boundaries) and compare counts.\n",
        "- Normalize text further and re-check.\n",
        "\n",
        "**Rubric (10 pts):** Correctness 3 • Evidence 2 • Clarity 2 • Reproducibility 2 • Exploration 1"
      ],
      "id": "5cQMjpev06WJ"
    },
    {
      "cell_type": "markdown",
      "metadata": {
        "id": "17Q3gawX06WJ"
      },
      "source": [
        "## 12) Nullable dtypes & Memory (5m)"
      ],
      "id": "17Q3gawX06WJ"
    },
    {
      "cell_type": "code",
      "metadata": {
        "id": "JObENkO-06WJ"
      },
      "source": [
        "tips_mem = tips.copy()\n",
        "tips_mem['size_N'] = tips_mem['size'].astype('Int64')\n",
        "tips_mem['sex_S']  = tips_mem['sex'].astype('string')\n",
        "tips_mem['day_C']  = tips_mem['day'].astype('category')\n",
        "tips_mem.memory_usage(deep=True)"
      ],
      "outputs": [],
      "execution_count": null,
      "id": "JObENkO-06WJ"
    },
    {
      "cell_type": "markdown",
      "metadata": {
        "id": "WW1qg7X706WJ"
      },
      "source": [
        "### ✍️ Analysis (Dtypes & Memory) — 3–5 sentences\n",
        "- What memory savings did `category` or `string` yield?\n",
        "- When would you avoid `category`?\n",
        "- Any effect on joins/groupbys?\n",
        "\n",
        "### 🔎 Quick checks\n",
        "- Show `memory_usage(deep=True)` before/after one cast.\n",
        "- List `.cat.categories` for one column.\n",
        "\n",
        "### ➕ Extension (pick one)\n",
        "- Downcast numerics where safe and report delta.\n",
        "- Switch one feature to `Int64` and explain why.\n",
        "\n",
        "**Rubric (10 pts):** Correctness 3 • Evidence 2 • Clarity 2 • Reproducibility 2 • Exploration 1"
      ],
      "id": "WW1qg7X706WJ"
    },
    {
      "cell_type": "markdown",
      "metadata": {
        "id": "j5vWDl_Z06WJ"
      },
      "source": [
        "## 13) I/O: CSV, Parquet, JSON, SQL (10m)"
      ],
      "id": "j5vWDl_Z06WJ"
    },
    {
      "cell_type": "code",
      "metadata": {
        "id": "5g_gQGf906WJ"
      },
      "source": [
        "subset = tips[['total_bill','tip','day','time','size']].head(20)\n",
        "subset.to_csv('tips_sample.csv', index=False)\n",
        "subset.to_parquet('tips_sample.parquet', index=False)\n",
        "subset.to_json('tips_sample.json', orient='records', lines=True)\n",
        "import sqlite3\n",
        "con = sqlite3.connect(':memory:')\n",
        "subset.to_sql('tips_tbl', con, index=False, if_exists='replace')\n",
        "sql_df = pd.read_sql('SELECT day, time, AVG(total_bill) AS avg_bill FROM tips_tbl GROUP BY day,time', con)\n",
        "con.close(); sql_df.head()"
      ],
      "outputs": [],
      "execution_count": null,
      "id": "5g_gQGf906WJ"
    },
    {
      "cell_type": "markdown",
      "metadata": {
        "id": "yr-LO1Z906WJ"
      },
      "source": [
        "### ✍️ Analysis (I/O) — 3–5 sentences\n",
        "- Which format is best for speed vs size for this table? Why?\n",
        "- Did any dtype change after round-trip?\n",
        "- When to use line-delimited JSON?\n",
        "\n",
        "### 🔎 Quick checks\n",
        "- Compare shapes from CSV/Parquet/JSON loads.\n",
        "- Show one dtype discrepancy and fix it.\n",
        "\n",
        "### ➕ Extension (pick one)\n",
        "- Compress CSV (gzip) and note file size.\n",
        "- Do a small SQL query and validate results match a groupby.\n",
        "\n",
        "**Rubric (10 pts):** Correctness 3 • Evidence 2 • Clarity 2 • Reproducibility 2 • Exploration 1"
      ],
      "id": "yr-LO1Z906WJ"
    },
    {
      "cell_type": "markdown",
      "metadata": {
        "id": "hEtVqH1v06WJ"
      },
      "source": [
        "## 14) Join Patterns (10–15m)"
      ],
      "id": "hEtVqH1v06WJ"
    },
    {
      "cell_type": "code",
      "metadata": {
        "id": "Wmp9rNUL06WJ"
      },
      "source": [
        "left = tips[['day','time','size']].drop_duplicates().copy()\n",
        "right = tips[['day','time','tip']].groupby(['day','time']).mean().reset_index().rename(columns={'tip':'avg_tip'})\n",
        "joined = left.merge(right, on=['day','time'], how='outer', indicator=True)\n",
        "joined.head()"
      ],
      "outputs": [],
      "execution_count": null,
      "id": "Wmp9rNUL06WJ"
    },
    {
      "cell_type": "code",
      "metadata": {
        "id": "sAqspiAh06WJ"
      },
      "source": [
        "# Right-only and inner (semi-join-style)\n",
        "right_only = joined.loc[joined['_merge']=='right_only', right.columns]\n",
        "inner_rows = joined.loc[joined['_merge']=='both', left.columns].drop_duplicates()\n",
        "len(inner_rows)"
      ],
      "outputs": [],
      "execution_count": null,
      "id": "sAqspiAh06WJ"
    },
    {
      "cell_type": "code",
      "metadata": {
        "id": "bUFKphBm06WJ"
      },
      "source": [
        "# merge_ordered and merge_asof demos\n",
        "a = pd.DataFrame({'day':['Fri','Sat','Sun'], 'rank':[1,2,3]})\n",
        "b = pd.DataFrame({'day':['Thur','Sat','Sun'], 'score':[70,80,90]})\n",
        "ordered = pd.merge_ordered(a, b, on='day', how='outer')\n",
        "events = pd.DataFrame({'when': pd.to_datetime(['2024-01-01 10:00','2024-01-02 12:30','2024-01-04 09:00']),'event':['A','B','C']}).sort_values('when')\n",
        "measures = pd.DataFrame({'when': pd.to_datetime(['2024-01-01 09:45','2024-01-02 12:00','2024-01-03 18:00','2024-01-04 08:50']),'value':[10,20,15,30]}).sort_values('when')\n",
        "asof_join = pd.merge_asof(events, measures, on='when', direction='nearest', tolerance=pd.Timedelta('1H'))\n",
        "ordered.head(), asof_join.head()"
      ],
      "outputs": [],
      "execution_count": null,
      "id": "bUFKphBm06WJ"
    },
    {
      "cell_type": "markdown",
      "metadata": {
        "id": "QMRwKQpE06WJ"
      },
      "source": [
        "### ✍️ Analysis (Joins) — 3–5 sentences\n",
        "- Read `_indicator` results—what mismatches did you find?\n",
        "- Where would `merge_asof` fit in a real pipeline?\n",
        "- Any ordering assumptions for `merge_ordered`?\n",
        "\n",
        "### 🔎 Quick checks\n",
        "- Report counts for left/right/inner.\n",
        "- Show 2 sample rows from an anti-join.\n",
        "\n",
        "### ➕ Extension (pick one)\n",
        "- Perform a semi-join and explain the use-case.\n",
        "- Add a composite key and re-merge.\n",
        "\n",
        "**Rubric (10 pts):** Correctness 3 • Evidence 2 • Clarity 2 • Reproducibility 2 • Exploration 1"
      ],
      "id": "QMRwKQpE06WJ"
    },
    {
      "cell_type": "markdown",
      "metadata": {
        "id": "nlL14FDG06WJ"
      },
      "source": [
        "## 15) Method Chaining & `.pipe`, `.query`, `.eval` (10m)"
      ],
      "id": "nlL14FDG06WJ"
    },
    {
      "cell_type": "code",
      "metadata": {
        "id": "xR-YmTxi06WJ"
      },
      "source": [
        "def add_bill_per_person(df): return df.assign(bill_per_person = df['total_bill']/df['size'])\n",
        "pipe_demo = (tips.query(\"time=='Dinner'\").pipe(add_bill_per_person)\n",
        "             .groupby('day').agg(mean_bill_pp=('bill_per_person','mean'),\n",
        "                                 mean_tip_pct=('tip_pct','mean'))\n",
        "             .sort_values('mean_bill_pp', ascending=False))\n",
        "eval_demo = tips.eval('bill_pp = total_bill / size')\n",
        "pipe_demo.head(), eval_demo[['total_bill','size','bill_pp']].head()"
      ],
      "outputs": [],
      "execution_count": null,
      "id": "xR-YmTxi06WJ"
    },
    {
      "cell_type": "markdown",
      "metadata": {
        "id": "0RBr6ilN06WJ"
      },
      "source": [
        "### ✍️ Analysis (Method Chaining) — 3–5 sentences\n",
        "- What made the chained pipeline clearer or riskier?\n",
        "- Where would you break the chain for debugging?\n",
        "- When is `.eval` useful vs risky?\n",
        "\n",
        "### 🔎 Quick checks\n",
        "- Show final columns of your pipeline result.\n",
        "- Confirm idempotency by re-running.\n",
        "\n",
        "### ➕ Extension (pick one)\n",
        "- Refactor an earlier analysis into a chain; compare readability.\n",
        "- Encapsulate a step into `.pipe` and reuse it.\n",
        "\n",
        "**Rubric (10 pts):** Correctness 3 • Evidence 2 • Clarity 2 • Reproducibility 2 • Exploration 1"
      ],
      "id": "0RBr6ilN06WJ"
    },
    {
      "cell_type": "markdown",
      "metadata": {
        "id": "BwkrZDLh06WJ"
      },
      "source": [
        "## 16) Crosstab, `cut/qcut`, `where/mask` (5–10m)"
      ],
      "id": "BwkrZDLh06WJ"
    },
    {
      "cell_type": "code",
      "metadata": {
        "id": "4K__vSCz06WJ"
      },
      "source": [
        "ct = pd.crosstab(tips['smoker'], tips['day'])\n",
        "tips_bins = tips.copy()\n",
        "tips_bins['bill_bucket'] = pd.cut(tips_bins['total_bill'], bins=[0,10,20,30,50])\n",
        "bucket_mean = tips_bins.groupby('bill_bucket')['tip'].mean()\n",
        "tips_q = tips.assign(q = pd.qcut(tips['tip_pct'], 4, duplicates='drop'))\n",
        "ct, bucket_mean, tips_q.groupby('q')['total_bill'].mean()"
      ],
      "outputs": [],
      "execution_count": null,
      "id": "4K__vSCz06WJ"
    },
    {
      "cell_type": "markdown",
      "metadata": {
        "id": "5nOrUbOY06WK"
      },
      "source": [
        "### ✍️ Analysis (Crosstab / Bucketing) — 3–5 sentences\n",
        "- What story does your crosstab tell in one sentence?\n",
        "- How did `cut` vs `qcut` change bucket sizes?\n",
        "- When is `where` preferable to boolean indexing?\n",
        "\n",
        "### 🔎 Quick checks\n",
        "- Show bucket edges and counts.\n",
        "- Verify monotonicity of bucket means if expected.\n",
        "\n",
        "### ➕ Extension (pick one)\n",
        "- Swap `qcut`/`cut` and compare stats.\n",
        "- Mask outliers and re-summarize.\n",
        "\n",
        "**Rubric (10 pts):** Correctness 3 • Evidence 2 • Clarity 2 • Reproducibility 2 • Exploration 1"
      ],
      "id": "5nOrUbOY06WK"
    },
    {
      "cell_type": "markdown",
      "metadata": {
        "id": "XbwpFH3j06WK"
      },
      "source": [
        "## 17) Styling & Export (5m)"
      ],
      "id": "XbwpFH3j06WK"
    },
    {
      "cell_type": "code",
      "metadata": {
        "id": "6Pl0ZYFo06WK"
      },
      "source": [
        "sty = (tips.groupby('day')[['total_bill','tip','tip_pct']].mean().round(2)\n",
        "         .style.format({'tip_pct':'{:.2%}'}).background_gradient(axis=None))\n",
        "html = sty.to_html()\n",
        "open('tips_report.html','w',encoding='utf-8').write(html)\n",
        "'Wrote tips_report.html'"
      ],
      "outputs": [],
      "execution_count": null,
      "id": "6Pl0ZYFo06WK"
    },
    {
      "cell_type": "markdown",
      "metadata": {
        "id": "C4OIbVmG06WK"
      },
      "source": [
        "### ✍️ Analysis (Styling & Export) — 3–5 sentences\n",
        "- What formatting improved readability most?\n",
        "- How would a stakeholder use this HTML report?\n",
        "- One caution about styled HTML vs raw data files.\n",
        "\n",
        "### 🔎 Quick checks\n",
        "- Open the HTML to spot issues (NA/odd values).\n",
        "- Confirm underlying numbers (pre-style) are correct.\n",
        "\n",
        "### ➕ Extension (pick one)\n",
        "- Add one more style and explain choice.\n",
        "- Export both styled HTML and CSV for same table.\n",
        "\n",
        "**Rubric (10 pts):** Correctness 3 • Evidence 2 • Clarity 2 • Reproducibility 2 • Exploration 1"
      ],
      "id": "C4OIbVmG06WK"
    },
    {
      "cell_type": "markdown",
      "metadata": {
        "id": "btj6QwlH06WK"
      },
      "source": [
        "# Capstone Mini-Project (Free Dataset): **Titanic Survival Analysis** (30–45m)"
      ],
      "id": "btj6QwlH06WK"
    },
    {
      "cell_type": "markdown",
      "metadata": {
        "id": "NkmTI0n206WK"
      },
      "source": [
        "**Source:** https://raw.githubusercontent.com/mwaskom/seaborn-data/master/titanic.csv"
      ],
      "id": "NkmTI0n206WK"
    },
    {
      "cell_type": "code",
      "metadata": {
        "id": "Mc8oPcLs06WK"
      },
      "source": [
        "import pandas as pd, numpy as np, matplotlib.pyplot as plt"
      ],
      "outputs": [],
      "execution_count": null,
      "id": "Mc8oPcLs06WK"
    },
    {
      "cell_type": "code",
      "metadata": {
        "id": "5YEma_mS06WK"
      },
      "source": [
        "tit_url = \"https://raw.githubusercontent.com/mwaskom/seaborn-data/master/titanic.csv\"\n",
        "titanic = pd.read_csv(tit_url)\n",
        "titanic.head()"
      ],
      "outputs": [],
      "execution_count": null,
      "id": "5YEma_mS06WK"
    },
    {
      "cell_type": "code",
      "metadata": {
        "id": "9FXnQ2Qc06WK"
      },
      "source": [
        "print(\"Shape:\", titanic.shape)\n",
        "print(\"\\nInfo:\"); print(titanic.info())\n",
        "print(\"\\nMissing values per column:\"); print(titanic.isna().sum().sort_values(ascending=False).head(12))"
      ],
      "outputs": [],
      "execution_count": null,
      "id": "9FXnQ2Qc06WK"
    },
    {
      "cell_type": "markdown",
      "metadata": {
        "id": "6t8gLdM_06WK"
      },
      "source": [
        "## A) Data Cleaning & Feature Engineering"
      ],
      "id": "6t8gLdM_06WK"
    },
    {
      "cell_type": "code",
      "metadata": {
        "id": "cUDQ2bdi06WK"
      },
      "source": [
        "df = titanic.copy()\n",
        "for col in ['sex','class','embarked','embark_town','alive','who','deck','alone','adult_male']:\n",
        "    if col in df.columns: df[col] = df[col].astype('category')\n",
        "age_med = df.groupby(['sex','class'])['age'].transform('median')\n",
        "df['age'] = df['age'].fillna(age_med)\n",
        "if df['embark_town'].isna().any():\n",
        "    mode_town = df['embark_town'].mode(dropna=True)\n",
        "    if not mode_town.empty: df['embark_town'] = df['embark_town'].fillna(mode_town.iloc[0])\n",
        "df['family_size'] = df['sibsp'].fillna(0) + df['parch'].fillna(0) + 1\n",
        "df['fare_pp'] = df['fare'] / df['family_size']\n",
        "df['deck'] = df['deck'].cat.add_categories(['Unknown']).fillna('Unknown')\n",
        "bins = [0,12,18,35,50,80]; labels = ['Child','Teen','YoungAdult','MidAge','Senior']\n",
        "df['age_group'] = pd.cut(df['age'], bins=bins, labels=labels, include_lowest=True)\n",
        "df.head()"
      ],
      "outputs": [],
      "execution_count": null,
      "id": "cUDQ2bdi06WK"
    },
    {
      "cell_type": "markdown",
      "metadata": {
        "id": "Rk8Z8Z2g06WK"
      },
      "source": [
        "### ✅ Exercise A\n",
        "Check NaNs in `age`/`embark_town`, top `family_size`, % with `fare_pp>20`."
      ],
      "id": "Rk8Z8Z2g06WK"
    },
    {
      "cell_type": "markdown",
      "metadata": {
        "id": "VjnHp2oi06WK"
      },
      "source": [
        "**Hints:**\n",
        "- Concept: impute & feature engineer.\n",
        "- API: `groupby().transform('median')`, `.mode()`, `.cut`.\n"
      ],
      "id": "VjnHp2oi06WK"
    },
    {
      "cell_type": "code",
      "metadata": {
        "colab": {
          "base_uri": "https://localhost:8080/"
        },
        "id": "vOTQ4XyS06WK",
        "outputId": "53350aa3-f52d-4a62-e99c-38728f78cd23"
      },
      "source": [
        "# YOUR WORK: Exercise A\n",
        "\n",
        "import pandas as pd\n",
        "import numpy as np\n",
        "\n",
        "# Load the dataset\n",
        "tit_url = \"https://raw.githubusercontent.com/mwaskom/seaborn-data/master/titanic.csv\"\n",
        "titanic = pd.read_csv(tit_url)\n",
        "\n",
        "# Code from previous cell to define and clean df\n",
        "df = titanic.copy()\n",
        "for col in ['sex','class','embarked','embark_town','alive','who','deck','alone','adult_male']:\n",
        "    if col in df.columns: df[col] = df[col].astype('category')\n",
        "age_med = df.groupby(['sex','class'])['age'].transform('median')\n",
        "df['age'] = df['age'].fillna(age_med)\n",
        "if df['embark_town'].isna().any():\n",
        "    mode_town = df['embark_town'].mode(dropna=True)\n",
        "    if not mode_town.empty: df['embark_town'] = df['embark_town'].fillna(mode_town.iloc[0])\n",
        "df['family_size'] = df['sibsp'].fillna(0) + df['parch'].fillna(0) + 1\n",
        "df['fare_pp'] = df['fare'] / df['family_size']\n",
        "df['deck'] = df['deck'].cat.add_categories(['Unknown']).fillna('Unknown')\n",
        "bins = [0,12,18,35,50,80]; labels = ['Child','Teen','YoungAdult','MidAge','Senior']\n",
        "df['age_group'] = pd.cut(df['age'], bins=bins, labels=labels, include_lowest=True)\n",
        "\n",
        "\n",
        "# Check NaNs in age and embark_town\n",
        "print(\"NaN counts after cleaning age and embark_town:\")\n",
        "print(df[['age', 'embark_town']].isna().sum())\n",
        "\n",
        "# Top family_size\n",
        "top_family_size = df['family_size'].value_counts().head(1)\n",
        "print(\"\\nTop family size and its count:\")\n",
        "print(top_family_size)\n",
        "\n",
        "# Percentage with fare_pp > 20\n",
        "percentage_fare_pp_greater_than_20 = (df['fare_pp'] > 20).mean() * 100\n",
        "print(f\"\\nPercentage of rows with fare_pp > 20: {percentage_fare_pp_greater_than_20:.2f}%\")"
      ],
      "outputs": [
        {
          "output_type": "stream",
          "name": "stdout",
          "text": [
            "NaN counts after cleaning age and embark_town:\n",
            "age            0\n",
            "embark_town    0\n",
            "dtype: int64\n",
            "\n",
            "Top family size and its count:\n",
            "family_size\n",
            "1    537\n",
            "Name: count, dtype: int64\n",
            "\n",
            "Percentage of rows with fare_pp > 20: 25.36%\n"
          ]
        },
        {
          "output_type": "stream",
          "name": "stderr",
          "text": [
            "/tmp/ipython-input-119167666.py:14: FutureWarning: The default of observed=False is deprecated and will be changed to True in a future version of pandas. Pass observed=False to retain current behavior or observed=True to adopt the future default and silence this warning.\n",
            "  age_med = df.groupby(['sex','class'])['age'].transform('median')\n"
          ]
        }
      ],
      "execution_count": 16,
      "id": "vOTQ4XyS06WK"
    },
    {
      "cell_type": "markdown",
      "metadata": {
        "id": "2KRPpaSx06WK"
      },
      "source": [
        "## B) Survival Patterns"
      ],
      "id": "2KRPpaSx06WK"
    },
    {
      "cell_type": "code",
      "metadata": {
        "id": "SABDPGYt06WK"
      },
      "source": [
        "overall_survival = df['survived'].mean(); print('Overall survival rate:', round(overall_survival,3))"
      ],
      "outputs": [],
      "execution_count": null,
      "id": "SABDPGYt06WK"
    },
    {
      "cell_type": "code",
      "metadata": {
        "id": "njhu_pon06WK"
      },
      "source": [
        "surv_by_class = df.groupby('class')['survived'].mean().reindex(['First','Second','Third'])\n",
        "plt.figure(); plt.bar(surv_by_class.index.astype(str), surv_by_class.values)\n",
        "plt.title('Survival Rate by Class'); plt.xlabel('class'); plt.ylabel('survival rate'); plt.show()"
      ],
      "outputs": [],
      "execution_count": null,
      "id": "njhu_pon06WK"
    },
    {
      "cell_type": "code",
      "metadata": {
        "id": "8S8OdBJr06WL"
      },
      "source": [
        "piv = df.pivot_table(index='sex', columns='class', values='survived', aggfunc='mean')\n",
        "plt.figure(); plt.imshow(piv.values, aspect='auto')\n",
        "plt.title('Survival Rate by Sex × Class'); plt.xlabel('class'); plt.ylabel('sex')\n",
        "plt.xticks(range(len(piv.columns)), piv.columns.astype(str))\n",
        "plt.yticks(range(len(piv.index)), piv.index.astype(str))\n",
        "plt.colorbar(); plt.show(); piv"
      ],
      "outputs": [],
      "execution_count": null,
      "id": "8S8OdBJr06WL"
    },
    {
      "cell_type": "markdown",
      "metadata": {
        "id": "xRjgkNpI06WL"
      },
      "source": [
        "### ✅ Exercise B\n",
        "1) Histogram of age. 2) Boxplot fare by class. 3) Bar of survival by age_group."
      ],
      "id": "xRjgkNpI06WL"
    },
    {
      "cell_type": "markdown",
      "metadata": {
        "id": "SZLo9hI_06WL"
      },
      "source": [
        "**Hints:**\n",
        "- Concept: univariate + grouped visuals.\n",
        "- API: `plt.hist`, `plt.boxplot`, `groupby().mean` + `plt.bar`.\n"
      ],
      "id": "SZLo9hI_06WL"
    },
    {
      "cell_type": "code",
      "metadata": {
        "colab": {
          "base_uri": "https://localhost:8080/",
          "height": 1000
        },
        "id": "XtvlTjZq06WL",
        "outputId": "885edaf5-d8b2-48d8-93e2-481acd026456"
      },
      "source": [
        "# YOUR WORK: Exercise B\n",
        "\n",
        "import matplotlib.pyplot as plt\n",
        "import pandas as pd # Import pandas as it's needed for df operations\n",
        "import numpy as np  # Import numpy as it might be needed for df operations\n",
        "\n",
        "# Code from previous cell to define and clean df\n",
        "tit_url = \"https://raw.githubusercontent.com/mwaskom/seaborn-data/master/titanic.csv\"\n",
        "titanic = pd.read_csv(tit_url)\n",
        "df = titanic.copy()\n",
        "for col in ['sex','class','embarked','embark_town','alive','who','deck','alone','adult_male']:\n",
        "    if col in df.columns: df[col] = df[col].astype('category')\n",
        "age_med = df.groupby(['sex','class'])['age'].transform('median')\n",
        "df['age'] = df['age'].fillna(age_med)\n",
        "if df['embark_town'].isna().any():\n",
        "    mode_town = df['embark_town'].mode(dropna=True)\n",
        "    if not mode_town.empty: df['embark_town'] = df['embark_town'].fillna(mode_town.iloc[0])\n",
        "df['family_size'] = df['sibsp'].fillna(0) + df['parch'].fillna(0) + 1\n",
        "df['fare_pp'] = df['fare'] / df['family_size']\n",
        "df['deck'] = df['deck'].cat.add_categories(['Unknown']).fillna('Unknown')\n",
        "bins = [0,12,18,35,50,80]; labels = ['Child','Teen','YoungAdult','MidAge','Senior']\n",
        "df['age_group'] = pd.cut(df['age'], bins=bins, labels=labels, include_lowest=True)\n",
        "\n",
        "\n",
        "# 1. Histogram of age\n",
        "plt.figure()\n",
        "plt.hist(df['age'].dropna(), bins=20)\n",
        "plt.title('Histogram of Age')\n",
        "plt.xlabel('Age')\n",
        "plt.ylabel('Frequency')\n",
        "plt.show()\n",
        "\n",
        "# 2. Boxplot fare by class\n",
        "plt.figure()\n",
        "df['class'] = df['class'].astype(str) # Convert to string for plotting if necessary\n",
        "data = [df.loc[df['class']==c, 'fare'].dropna().values for c in df['class'].unique()]\n",
        "plt.boxplot(data, labels=df['class'].unique())\n",
        "plt.title('Boxplot of Fare by Class')\n",
        "plt.xlabel('Class')\n",
        "plt.ylabel('Fare')\n",
        "plt.show()\n",
        "\n",
        "# 3. Bar of survival by age_group\n",
        "survival_by_age_group = df.groupby('age_group')['survived'].mean()\n",
        "plt.figure()\n",
        "plt.bar(survival_by_age_group.index.astype(str), survival_by_age_group.values)\n",
        "plt.title('Survival Rate by Age Group')\n",
        "plt.xlabel('Age Group')\n",
        "plt.ylabel('Survival Rate')\n",
        "plt.show()"
      ],
      "outputs": [
        {
          "output_type": "stream",
          "name": "stderr",
          "text": [
            "/tmp/ipython-input-107491278.py:13: FutureWarning: The default of observed=False is deprecated and will be changed to True in a future version of pandas. Pass observed=False to retain current behavior or observed=True to adopt the future default and silence this warning.\n",
            "  age_med = df.groupby(['sex','class'])['age'].transform('median')\n"
          ]
        },
        {
          "output_type": "display_data",
          "data": {
            "text/plain": [
              "<Figure size 640x480 with 1 Axes>"
            ],
            "image/png": "[encoded data removed]"
          },
          "metadata": {}
        },
        {
          "output_type": "stream",
          "name": "stderr",
          "text": [
            "/tmp/ipython-input-107491278.py:37: MatplotlibDeprecationWarning: The 'labels' parameter of boxplot() has been renamed 'tick_labels' since Matplotlib 3.9; support for the old name will be dropped in 3.11.\n",
            "  plt.boxplot(data, labels=df['class'].unique())\n"
          ]
        },
        {
          "output_type": "display_data",
          "data": {
            "text/plain": [
              "<Figure size 640x480 with 1 Axes>"
            ],
            "image/png": "[encoded data removed]"
          },
          "metadata": {}
        },
        {
          "output_type": "stream",
          "name": "stderr",
          "text": [
            "/tmp/ipython-input-107491278.py:44: FutureWarning: The default of observed=False is deprecated and will be changed to True in a future version of pandas. Pass observed=False to retain current behavior or observed=True to adopt the future default and silence this warning.\n",
            "  survival_by_age_group = df.groupby('age_group')['survived'].mean()\n"
          ]
        },
        {
          "output_type": "display_data",
          "data": {
            "text/plain": [
              "<Figure size 640x480 with 1 Axes>"
            ],
            "image/png": "[encoded data removed]"
          },
          "metadata": {}
        }
      ],
      "execution_count": 19,
      "id": "XtvlTjZq06WL"
    },
    {
      "cell_type": "markdown",
      "metadata": {
        "id": "nhdVQJZk06WL"
      },
      "source": [
        "## C) Subgroup Discovery"
      ],
      "id": "nhdVQJZk06WL"
    },
    {
      "cell_type": "code",
      "metadata": {
        "id": "k1j39ZkO06WL"
      },
      "source": [
        "grp = (df.groupby(['sex','class','embark_town'])\n",
        "         .agg(n=('survived','size'), surv_rate=('survived','mean'))\n",
        "         .query('n >= 25')\n",
        "         .sort_values('surv_rate', ascending=False))\n",
        "grp.head(10)"
      ],
      "outputs": [],
      "execution_count": null,
      "id": "k1j39ZkO06WL"
    },
    {
      "cell_type": "markdown",
      "metadata": {
        "id": "vg-TKNGp06WL"
      },
      "source": [
        "### ✅ Exercise C\n",
        "Families with `family_size≥4`: survival by `sex` & `class` (n + rate). Bucket `fare_pp` and compute survival per bucket."
      ],
      "id": "vg-TKNGp06WL"
    },
    {
      "cell_type": "markdown",
      "metadata": {
        "id": "Yb2gerVc06WL"
      },
      "source": [
        "**Hints:**\n",
        "- Concept: subgroup analysis with thresholds.\n",
        "- API: `groupby().agg`, `query`, `cut`.\n"
      ],
      "id": "Yb2gerVc06WL"
    },
    {
      "cell_type": "code",
      "metadata": {
        "colab": {
          "base_uri": "https://localhost:8080/",
          "height": 700
        },
        "id": "8RoLXguH06WL",
        "outputId": "0e9747da-9ee7-46e3-a94a-c3b78da252f7"
      },
      "source": [
        "# YOUR WORK: Exercise C\n",
        "\n",
        "# Code from previous cell to define and clean df\n",
        "tit_url = \"https://raw.githubusercontent.com/mwaskom/seaborn-data/master/titanic.csv\"\n",
        "titanic = pd.read_csv(tit_url)\n",
        "df = titanic.copy()\n",
        "for col in ['sex','class','embarked','embark_town','alive','who','deck','alone','adult_male']:\n",
        "    if col in df.columns: df[col] = df[col].astype('category')\n",
        "age_med = df.groupby(['sex','class'])['age'].transform('median')\n",
        "df['age'] = df['age'].fillna(age_med)\n",
        "if df['embark_town'].isna().any():\n",
        "    mode_town = df['embark_town'].mode(dropna=True)\n",
        "    if not mode_town.empty: df['embark_town'] = df['embark_town'].fillna(mode_town.iloc[0])\n",
        "df['family_size'] = df['sibsp'].fillna(0) + df['parch'].fillna(0) + 1\n",
        "df['fare_pp'] = df['fare'] / df['family_size']\n",
        "df['deck'] = df['deck'].cat.add_categories(['Unknown']).fillna('Unknown')\n",
        "bins = [0,12,18,35,50,80]; labels = ['Child','Teen','YoungAdult','MidAge','Senior']\n",
        "df['age_group'] = pd.cut(df['age'], bins=bins, labels=labels, include_lowest=True)\n",
        "\n",
        "# Families with family_size >= 4: survival by sex & class (n + rate)\n",
        "large_families = df.query('family_size >= 4')\n",
        "survival_by_large_family_group = large_families.groupby(['sex', 'class']).agg(\n",
        "    n=('survived', 'size'),\n",
        "    surv_rate=('survived', 'mean')\n",
        ")\n",
        "print(\"Survival analysis for families with size >= 4:\")\n",
        "display(survival_by_large_family_group)\n",
        "\n",
        "# Bucket fare_pp and compute survival per bucket\n",
        "df['fare_pp_bucket'] = pd.cut(df['fare_pp'], bins=5) # Using 5 default bins\n",
        "survival_by_fare_pp_bucket = df.groupby('fare_pp_bucket')['survived'].mean()\n",
        "print(\"\\nSurvival rate by fare_pp bucket:\")\n",
        "display(survival_by_fare_pp_bucket)"
      ],
      "outputs": [
        {
          "output_type": "stream",
          "name": "stdout",
          "text": [
            "Survival analysis for families with size >= 4:\n"
          ]
        },
        {
          "output_type": "stream",
          "name": "stderr",
          "text": [
            "/tmp/ipython-input-566675749.py:9: FutureWarning: The default of observed=False is deprecated and will be changed to True in a future version of pandas. Pass observed=False to retain current behavior or observed=True to adopt the future default and silence this warning.\n",
            "  age_med = df.groupby(['sex','class'])['age'].transform('median')\n",
            "/tmp/ipython-input-566675749.py:22: FutureWarning: The default of observed=False is deprecated and will be changed to True in a future version of pandas. Pass observed=False to retain current behavior or observed=True to adopt the future default and silence this warning.\n",
            "  survival_by_large_family_group = large_families.groupby(['sex', 'class']).agg(\n"
          ]
        },
        {
          "output_type": "display_data",
          "data": {
            "text/plain": [
              "                n  surv_rate\n",
              "sex    class                \n",
              "female First    8   0.750000\n",
              "       Second  11   1.000000\n",
              "       Third   33   0.242424\n",
              "male   First    5   0.600000\n",
              "       Second   4   0.250000\n",
              "       Third   30   0.066667"
            ],
            "text/html": [
              "\n",
              "  <div id=\"df-8b9442f7-2635-43a0-8e5a-fa9746a449fc\" class=\"colab-df-container\">\n",
              "    <div>\n",
              "<style scoped>\n",
              "    .dataframe tbody tr th:only-of-type {\n",
              "        vertical-align: middle;\n",
              "    }\n",
              "\n",
              "    .dataframe tbody tr th {\n",
              "        vertical-align: top;\n",
              "    }\n",
              "\n",
              "    .dataframe thead th {\n",
              "        text-align: right;\n",
              "    }\n",
              "</style>\n",
              "<table border=\"1\" class=\"dataframe\">\n",
              "  <thead>\n",
              "    <tr style=\"text-align: right;\">\n",
              "      <th></th>\n",
              "      <th></th>\n",
              "      <th>n</th>\n",
              "      <th>surv_rate</th>\n",
              "    </tr>\n",
              "    <tr>\n",
              "      <th>sex</th>\n",
              "      <th>class</th>\n",
              "      <th></th>\n",
              "      <th></th>\n",
              "    </tr>\n",
              "  </thead>\n",
              "  <tbody>\n",
              "    <tr>\n",
              "      <th rowspan=\"3\" valign=\"top\">female</th>\n",
              "      <th>First</th>\n",
              "      <td>8</td>\n",
              "      <td>0.750000</td>\n",
              "    </tr>\n",
              "    <tr>\n",
              "      <th>Second</th>\n",
              "      <td>11</td>\n",
              "      <td>1.000000</td>\n",
              "    </tr>\n",
              "    <tr>\n",
              "      <th>Third</th>\n",
              "      <td>33</td>\n",
              "      <td>0.242424</td>\n",
              "    </tr>\n",
              "    <tr>\n",
              "      <th rowspan=\"3\" valign=\"top\">male</th>\n",
              "      <th>First</th>\n",
              "      <td>5</td>\n",
              "      <td>0.600000</td>\n",
              "    </tr>\n",
              "    <tr>\n",
              "      <th>Second</th>\n",
              "      <td>4</td>\n",
              "      <td>0.250000</td>\n",
              "    </tr>\n",
              "    <tr>\n",
              "      <th>Third</th>\n",
              "      <td>30</td>\n",
              "      <td>0.066667</td>\n",
              "    </tr>\n",
              "  </tbody>\n",
              "</table>\n",
              "</div>\n",
              "    <div class=\"colab-df-buttons\">\n",
              "\n",
              "  <div class=\"colab-df-container\">\n",
              "    <button class=\"colab-df-convert\" onclick=\"convertToInteractive('df-8b9442f7-2635-43a0-8e5a-fa9746a449fc')\"\n",
              "            title=\"Convert this dataframe to an interactive table.\"\n",
              "            style=\"display:none;\">\n",
              "\n",
              "  <svg xmlns=\"http://www.w3.org/2000/svg\" height=\"24px\" viewBox=\"0 -960 960 960\">\n",
              "    <path d=\"M120-120v-720h720v720H120Zm60-500h600v-160H180v160Zm220 220h160v-160H400v160Zm0 220h160v-160H400v160ZM180-400h160v-160H180v160Zm440 0h160v-160H620v160ZM180-180h160v-160H180v160Zm440 0h160v-160H620v160Z\"/>\n",
              "  </svg>\n",
              "    </button>\n",
              "\n",
              "  <style>\n",
              "    .colab-df-container {\n",
              "      display:flex;\n",
              "      gap: 12px;\n",
              "    }\n",
              "\n",
              "    .colab-df-convert {\n",
              "      background-color: #E8F0FE;\n",
              "      border: none;\n",
              "      border-radius: 50%;\n",
              "      cursor: pointer;\n",
              "      display: none;\n",
              "      fill: #1967D2;\n",
              "      height: 32px;\n",
              "      padding: 0 0 0 0;\n",
              "      width: 32px;\n",
              "    }\n",
              "\n",
              "    .colab-df-convert:hover {\n",
              "      background-color: #E2EBFA;\n",
              "      box-shadow: 0px 1px 2px rgba(60, 64, 67, 0.3), 0px 1px 3px 1px rgba(60, 64, 67, 0.15);\n",
              "      fill: #174EA6;\n",
              "    }\n",
              "\n",
              "    .colab-df-buttons div {\n",
              "      margin-bottom: 4px;\n",
              "    }\n",
              "\n",
              "    [theme=dark] .colab-df-convert {\n",
              "      background-color: #3B4455;\n",
              "      fill: #D2E3FC;\n",
              "    }\n",
              "\n",
              "    [theme=dark] .colab-df-convert:hover {\n",
              "      background-color: #434B5C;\n",
              "      box-shadow: 0px 1px 3px 1px rgba(0, 0, 0, 0.15);\n",
              "      filter: drop-shadow(0px 1px 2px rgba(0, 0, 0, 0.3));\n",
              "      fill: #FFFFFF;\n",
              "    }\n",
              "  </style>\n",
              "\n",
              "    <script>\n",
              "      const buttonEl =\n",
              "        document.querySelector('#df-8b9442f7-2635-43a0-8e5a-fa9746a449fc button.colab-df-convert');\n",
              "      buttonEl.style.display =\n",
              "        google.colab.kernel.accessAllowed ? 'block' : 'none';\n",
              "\n",
              "      async function convertToInteractive(key) {\n",
              "        const element = document.querySelector('#df-8b9442f7-2635-43a0-8e5a-fa9746a449fc');\n",
              "        const dataTable =\n",
              "          await google.colab.kernel.invokeFunction('convertToInteractive',\n",
              "                                                    [key], {});\n",
              "        if (!dataTable) return;\n",
              "\n",
              "        const docLinkHtml = 'Like what you see? Visit the ' +\n",
              "          '<a target=\"_blank\" href=https://colab.research.google.com/notebooks/data_table.ipynb>data table notebook</a>'\n",
              "          + ' to learn more about interactive tables.';\n",
              "        element.innerHTML = '';\n",
              "        dataTable['output_type'] = 'display_data';\n",
              "        await google.colab.output.renderOutput(dataTable, element);\n",
              "        const docLink = document.createElement('div');\n",
              "        docLink.innerHTML = docLinkHtml;\n",
              "        element.appendChild(docLink);\n",
              "      }\n",
              "    </script>\n",
              "  </div>\n",
              "\n",
              "\n",
              "    <div id=\"df-f6dd675d-7da0-473b-8caf-eedd5f8108fb\">\n",
              "      <button class=\"colab-df-quickchart\" onclick=\"quickchart('df-f6dd675d-7da0-473b-8caf-eedd5f8108fb')\"\n",
              "                title=\"Suggest charts\"\n",
              "                style=\"display:none;\">\n",
              "\n",
              "<svg xmlns=\"http://www.w3.org/2000/svg\" height=\"24px\"viewBox=\"0 0 24 24\"\n",
              "     width=\"24px\">\n",
              "    <g>\n",
              "        <path d=\"M19 3H5c-1.1 0-2 .9-2 2v14c0 1.1.9 2 2 2h14c1.1 0 2-.9 2-2V5c0-1.1-.9-2-2-2zM9 17H7v-7h2v7zm4 0h-2V7h2v10zm4 0h-2v-4h2v4z\"/>\n",
              "    </g>\n",
              "</svg>\n",
              "      </button>\n",
              "\n",
              "<style>\n",
              "  .colab-df-quickchart {\n",
              "      --bg-color: #E8F0FE;\n",
              "      --fill-color: #1967D2;\n",
              "      --hover-bg-color: #E2EBFA;\n",
              "      --hover-fill-color: #174EA6;\n",
              "      --disabled-fill-color: #AAA;\n",
              "      --disabled-bg-color: #DDD;\n",
              "  }\n",
              "\n",
              "  [theme=dark] .colab-df-quickchart {\n",
              "      --bg-color: #3B4455;\n",
              "      --fill-color: #D2E3FC;\n",
              "      --hover-bg-color: #434B5C;\n",
              "      --hover-fill-color: #FFFFFF;\n",
              "      --disabled-bg-color: #3B4455;\n",
              "      --disabled-fill-color: #666;\n",
              "  }\n",
              "\n",
              "  .colab-df-quickchart {\n",
              "    background-color: var(--bg-color);\n",
              "    border: none;\n",
              "    border-radius: 50%;\n",
              "    cursor: pointer;\n",
              "    display: none;\n",
              "    fill: var(--fill-color);\n",
              "    height: 32px;\n",
              "    padding: 0;\n",
              "    width: 32px;\n",
              "  }\n",
              "\n",
              "  .colab-df-quickchart:hover {\n",
              "    background-color: var(--hover-bg-color);\n",
              "    box-shadow: 0 1px 2px rgba(60, 64, 67, 0.3), 0 1px 3px 1px rgba(60, 64, 67, 0.15);\n",
              "    fill: var(--button-hover-fill-color);\n",
              "  }\n",
              "\n",
              "  .colab-df-quickchart-complete:disabled,\n",
              "  .colab-df-quickchart-complete:disabled:hover {\n",
              "    background-color: var(--disabled-bg-color);\n",
              "    fill: var(--disabled-fill-color);\n",
              "    box-shadow: none;\n",
              "  }\n",
              "\n",
              "  .colab-df-spinner {\n",
              "    border: 2px solid var(--fill-color);\n",
              "    border-color: transparent;\n",
              "    border-bottom-color: var(--fill-color);\n",
              "    animation:\n",
              "      spin 1s steps(1) infinite;\n",
              "  }\n",
              "\n",
              "  @keyframes spin {\n",
              "    0% {\n",
              "      border-color: transparent;\n",
              "      border-bottom-color: var(--fill-color);\n",
              "      border-left-color: var(--fill-color);\n",
              "    }\n",
              "    20% {\n",
              "      border-color: transparent;\n",
              "      border-left-color: var(--fill-color);\n",
              "      border-top-color: var(--fill-color);\n",
              "    }\n",
              "    30% {\n",
              "      border-color: transparent;\n",
              "      border-left-color: var(--fill-color);\n",
              "      border-top-color: var(--fill-color);\n",
              "      border-right-color: var(--fill-color);\n",
              "    }\n",
              "    40% {\n",
              "      border-color: transparent;\n",
              "      border-right-color: var(--fill-color);\n",
              "      border-top-color: var(--fill-color);\n",
              "    }\n",
              "    60% {\n",
              "      border-color: transparent;\n",
              "      border-right-color: var(--fill-color);\n",
              "    }\n",
              "    80% {\n",
              "      border-color: transparent;\n",
              "      border-right-color: var(--fill-color);\n",
              "      border-bottom-color: var(--fill-color);\n",
              "    }\n",
              "    90% {\n",
              "      border-color: transparent;\n",
              "      border-bottom-color: var(--fill-color);\n",
              "    }\n",
              "  }\n",
              "</style>\n",
              "\n",
              "      <script>\n",
              "        async function quickchart(key) {\n",
              "          const quickchartButtonEl =\n",
              "            document.querySelector('#' + key + ' button');\n",
              "          quickchartButtonEl.disabled = true;  // To prevent multiple clicks.\n",
              "          quickchartButtonEl.classList.add('colab-df-spinner');\n",
              "          try {\n",
              "            const charts = await google.colab.kernel.invokeFunction(\n",
              "                'suggestCharts', [key], {});\n",
              "          } catch (error) {\n",
              "            console.error('Error during call to suggestCharts:', error);\n",
              "          }\n",
              "          quickchartButtonEl.classList.remove('colab-df-spinner');\n",
              "          quickchartButtonEl.classList.add('colab-df-quickchart-complete');\n",
              "        }\n",
              "        (() => {\n",
              "          let quickchartButtonEl =\n",
              "            document.querySelector('#df-f6dd675d-7da0-473b-8caf-eedd5f8108fb button');\n",
              "          quickchartButtonEl.style.display =\n",
              "            google.colab.kernel.accessAllowed ? 'block' : 'none';\n",
              "        })();\n",
              "      </script>\n",
              "    </div>\n",
              "\n",
              "  <div id=\"id_45614e1e-740e-4fae-afc4-897a112d513f\">\n",
              "    <style>\n",
              "      .colab-df-generate {\n",
              "        background-color: #E8F0FE;\n",
              "        border: none;\n",
              "        border-radius: 50%;\n",
              "        cursor: pointer;\n",
              "        display: none;\n",
              "        fill: #1967D2;\n",
              "        height: 32px;\n",
              "        padding: 0 0 0 0;\n",
              "        width: 32px;\n",
              "      }\n",
              "\n",
              "      .colab-df-generate:hover {\n",
              "        background-color: #E2EBFA;\n",
              "        box-shadow: 0px 1px 2px rgba(60, 64, 67, 0.3), 0px 1px 3px 1px rgba(60, 64, 67, 0.15);\n",
              "        fill: #174EA6;\n",
              "      }\n",
              "\n",
              "      [theme=dark] .colab-df-generate {\n",
              "        background-color: #3B4455;\n",
              "        fill: #D2E3FC;\n",
              "      }\n",
              "\n",
              "      [theme=dark] .colab-df-generate:hover {\n",
              "        background-color: #434B5C;\n",
              "        box-shadow: 0px 1px 3px 1px rgba(0, 0, 0, 0.15);\n",
              "        filter: drop-shadow(0px 1px 2px rgba(0, 0, 0, 0.3));\n",
              "        fill: #FFFFFF;\n",
              "      }\n",
              "    </style>\n",
              "    <button class=\"colab-df-generate\" onclick=\"generateWithVariable('survival_by_large_family_group')\"\n",
              "            title=\"Generate code using this dataframe.\"\n",
              "            style=\"display:none;\">\n",
              "\n",
              "  <svg xmlns=\"http://www.w3.org/2000/svg\" height=\"24px\"viewBox=\"0 0 24 24\"\n",
              "       width=\"24px\">\n",
              "    <path d=\"M7,19H8.4L18.45,9,17,7.55,7,17.6ZM5,21V16.75L18.45,3.32a2,2,0,0,1,2.83,0l1.4,1.43a1.91,1.91,0,0,1,.58,1.4,1.91,1.91,0,0,1-.58,1.4L9.25,21ZM18.45,9,17,7.55Zm-12,3A5.31,5.31,0,0,0,4.9,8.1,5.31,5.31,0,0,0,1,6.5,5.31,5.31,0,0,0,4.9,4.9,5.31,5.31,0,0,0,6.5,1,5.31,5.31,0,0,0,8.1,4.9,5.31,5.31,0,0,0,12,6.5,5.46,5.46,0,0,0,6.5,12Z\"/>\n",
              "  </svg>\n",
              "    </button>\n",
              "    <script>\n",
              "      (() => {\n",
              "      const buttonEl =\n",
              "        document.querySelector('#id_45614e1e-740e-4fae-afc4-897a112d513f button.colab-df-generate');\n",
              "      buttonEl.style.display =\n",
              "        google.colab.kernel.accessAllowed ? 'block' : 'none';\n",
              "\n",
              "      buttonEl.onclick = () => {\n",
              "        google.colab.notebook.generateWithVariable('survival_by_large_family_group');\n",
              "      }\n",
              "      })();\n",
              "    </script>\n",
              "  </div>\n",
              "\n",
              "    </div>\n",
              "  </div>\n"
            ],
            "application/vnd.google.colaboratory.intrinsic+json": {
              "type": "dataframe",
              "variable_name": "survival_by_large_family_group",
              "summary": "{\n  \"name\": \"survival_by_large_family_group\",\n  \"rows\": 6,\n  \"fields\": [\n    {\n      \"column\": \"n\",\n      \"properties\": {\n        \"dtype\": \"number\",\n        \"std\": 12,\n        \"min\": 4,\n        \"max\": 33,\n        \"num_unique_values\": 6,\n        \"samples\": [\n          8,\n          11,\n          30\n        ],\n        \"semantic_type\": \"\",\n        \"description\": \"\"\n      }\n    },\n    {\n      \"column\": \"surv_rate\",\n      \"properties\": {\n        \"dtype\": \"number\",\n        \"std\": 0.35714020725764933,\n        \"min\": 0.06666666666666667,\n        \"max\": 1.0,\n        \"num_unique_values\": 6,\n        \"samples\": [\n          0.75,\n          1.0,\n          0.06666666666666667\n        ],\n        \"semantic_type\": \"\",\n        \"description\": \"\"\n      }\n    }\n  ]\n}"
            }
          },
          "metadata": {}
        },
        {
          "output_type": "stream",
          "name": "stdout",
          "text": [
            "\n",
            "Survival rate by fare_pp bucket:\n"
          ]
        },
        {
          "output_type": "stream",
          "name": "stderr",
          "text": [
            "/tmp/ipython-input-566675749.py:31: FutureWarning: The default of observed=False is deprecated and will be changed to True in a future version of pandas. Pass observed=False to retain current behavior or observed=True to adopt the future default and silence this warning.\n",
            "  survival_by_fare_pp_bucket = df.groupby('fare_pp_bucket')['survived'].mean()\n"
          ]
        },
        {
          "output_type": "display_data",
          "data": {
            "text/plain": [
              "fare_pp_bucket\n",
              "(-0.512, 102.466]     0.372842\n",
              "(102.466, 204.932]    0.857143\n",
              "(204.932, 307.398]    0.666667\n",
              "(307.398, 409.863]         NaN\n",
              "(409.863, 512.329]    1.000000\n",
              "Name: survived, dtype: float64"
            ],
            "text/html": [
              "<div>\n",
              "<style scoped>\n",
              "    .dataframe tbody tr th:only-of-type {\n",
              "        vertical-align: middle;\n",
              "    }\n",
              "\n",
              "    .dataframe tbody tr th {\n",
              "        vertical-align: top;\n",
              "    }\n",
              "\n",
              "    .dataframe thead th {\n",
              "        text-align: right;\n",
              "    }\n",
              "</style>\n",
              "<table border=\"1\" class=\"dataframe\">\n",
              "  <thead>\n",
              "    <tr style=\"text-align: right;\">\n",
              "      <th></th>\n",
              "      <th>survived</th>\n",
              "    </tr>\n",
              "    <tr>\n",
              "      <th>fare_pp_bucket</th>\n",
              "      <th></th>\n",
              "    </tr>\n",
              "  </thead>\n",
              "  <tbody>\n",
              "    <tr>\n",
              "      <th>(-0.512, 102.466]</th>\n",
              "      <td>0.372842</td>\n",
              "    </tr>\n",
              "    <tr>\n",
              "      <th>(102.466, 204.932]</th>\n",
              "      <td>0.857143</td>\n",
              "    </tr>\n",
              "    <tr>\n",
              "      <th>(204.932, 307.398]</th>\n",
              "      <td>0.666667</td>\n",
              "    </tr>\n",
              "    <tr>\n",
              "      <th>(307.398, 409.863]</th>\n",
              "      <td>NaN</td>\n",
              "    </tr>\n",
              "    <tr>\n",
              "      <th>(409.863, 512.329]</th>\n",
              "      <td>1.000000</td>\n",
              "    </tr>\n",
              "  </tbody>\n",
              "</table>\n",
              "</div><br><label><b>dtype:</b> float64</label>"
            ]
          },
          "metadata": {}
        }
      ],
      "execution_count": 21,
      "id": "8RoLXguH06WL"
    },
    {
      "cell_type": "markdown",
      "metadata": {
        "id": "CX7Y-TcI06WL"
      },
      "source": [
        "## D) Deliverables"
      ],
      "id": "CX7Y-TcI06WL"
    },
    {
      "cell_type": "code",
      "metadata": {
        "colab": {
          "base_uri": "https://localhost:8080/",
          "height": 125
        },
        "id": "iduZGpVx06WL",
        "outputId": "001a88d9-afec-4510-b68f-46374e1fd7c9"
      },
      "source": [
        "# Code from previous cell to define and clean df\n",
        "tit_url = \"https://raw.githubusercontent.com/mwaskom/seaborn-data/master/titanic.csv\"\n",
        "titanic = pd.read_csv(tit_url)\n",
        "df = titanic.copy()\n",
        "for col in ['sex','class','embarked','embark_town','alive','who','deck','alone','adult_male']:\n",
        "    if col in df.columns: df[col] = df[col].astype('category')\n",
        "age_med = df.groupby(['sex','class'])['age'].transform('median')\n",
        "df['age'] = df['age'].fillna(age_med)\n",
        "if df['embark_town'].isna().any():\n",
        "    mode_town = df['embark_town'].mode(dropna=True)\n",
        "    if not mode_town.empty: df['embark_town'] = df['embark_town'].fillna(mode_town.iloc[0])\n",
        "df['family_size'] = df['sibsp'].fillna(0) + df['parch'].fillna(0) + 1\n",
        "df['fare_pp'] = df['fare'] / df['family_size']\n",
        "df['deck'] = df['deck'].cat.add_categories(['Unknown']).fillna('Unknown')\n",
        "bins = [0,12,18,35,50,80]; labels = ['Child','Teen','YoungAdult','MidAge','Senior']\n",
        "df['age_group'] = pd.cut(df['age'], bins=bins, labels=labels, include_lowest=True)\n",
        "\n",
        "\n",
        "# Code from previous cell to define grp\n",
        "grp = (df.groupby(['sex','class','embark_town'])\n",
        "         .agg(n=('survived','size'), surv_rate=('survived','mean'))\n",
        "         .query('n >= 25')\n",
        "         .sort_values('surv_rate', ascending=False))\n",
        "\n",
        "top10 = grp.head(10).reset_index()\n",
        "sty = (top10.style.format({'surv_rate':'{:.2%}'}).hide(axis='index'))\n",
        "html = sty.to_html()\n",
        "open('titanic_top10_survival.html','w',encoding='utf-8').write(html)\n",
        "top10.to_csv('titanic_top10_survival.csv', index=False)\n",
        "\"Saved titanic_top10_survival.html and titanic_top10_survival.csv\""
      ],
      "outputs": [
        {
          "output_type": "stream",
          "name": "stderr",
          "text": [
            "/tmp/ipython-input-2467044276.py:7: FutureWarning: The default of observed=False is deprecated and will be changed to True in a future version of pandas. Pass observed=False to retain current behavior or observed=True to adopt the future default and silence this warning.\n",
            "  age_med = df.groupby(['sex','class'])['age'].transform('median')\n",
            "/tmp/ipython-input-2467044276.py:20: FutureWarning: The default of observed=False is deprecated and will be changed to True in a future version of pandas. Pass observed=False to retain current behavior or observed=True to adopt the future default and silence this warning.\n",
            "  grp = (df.groupby(['sex','class','embark_town'])\n"
          ]
        },
        {
          "output_type": "execute_result",
          "data": {
            "text/plain": [
              "'Saved titanic_top10_survival.html and titanic_top10_survival.csv'"
            ],
            "application/vnd.google.colaboratory.intrinsic+json": {
              "type": "string"
            }
          },
          "metadata": {},
          "execution_count": 24
        }
      ],
      "execution_count": 24,
      "id": "iduZGpVx06WL"
    },
    {
      "cell_type": "markdown",
      "metadata": {
        "id": "SNoIBtZW06WL"
      },
      "source": [
        "### ✍️ Analysis (Capstone — Titanic) — 3–5 sentences\n",
        "- State your main finding (who/when/context) with one number and one plot reference.\n",
        "- Name one limitation in your approach (bias, leakage, imputation).\n",
        "- Suggest a next step or feature to add.\n",
        "\n",
        "### 🔎 Quick checks\n",
        "- Link the exact cell/table backing your claim.\n",
        "- Confirm deliverables (HTML + CSV) were written.\n",
        "\n",
        "### ➕ Extension (pick one)\n",
        "- Add an extra feature (e.g., `is_child`, z-scored fare) and see if subgroup ranking changes.\n",
        "- Try a different minimum group size and discuss stability.\n",
        "\n",
        "**Rubric (10 pts):** Correctness 3 • Evidence 2 • Clarity 2 • Reproducibility 2 • Exploration 1"
      ],
      "id": "SNoIBtZW06WL"
    },
    {
      "cell_type": "markdown",
      "source": [],
      "metadata": {
        "id": "ZV8Xa7J3p1cm"
      },
      "id": "ZV8Xa7J3p1cm"
    },
    {
      "cell_type": "markdown",
      "metadata": {
        "id": "186b5e23"
      },
      "source": [
        "### ✍️ Analysis (Capstone — Titanic) — 3–5 sentences\n",
        "- State your main finding (who/when/context) with one number and one plot reference.\n",
        "- Name one limitation in your approach (bias, leakage, imputation).\n",
        "- Suggest a next step or feature to add.\n",
        "\n",
        "**Analysis:**\n",
        "\n",
        "From my analysis of the Titanic dataset, I found that a significant factor in survival was the combination of sex and class, and even the embarkation point for certain groups. Specifically, I observed that **females in First class who embarked from Cherbourg ('C') had a remarkably high survival rate, nearly 98% (0.976)**, as shown in the `grp` table from my subgroup analysis.\n",
        "\n",
        "One limitation I encountered was the **handling of missing age data**. While I used the median age based on sex and class to fill these gaps, this imputation might not perfectly represent the actual ages and could potentially influence the results for certain groups.\n",
        "\n",
        "For a next step, I would like to **further investigate the impact of fare per person (`fare_pp`) on survival**. I could explore different ways of bucketing this feature or visualize its relationship with survival using a scatter plot to see if there are clearer patterns beyond the initial buckets I created."
      ],
      "id": "186b5e23"
    },
    {
      "cell_type": "markdown",
      "metadata": {
        "id": "482888db"
      },
      "source": [
        "### ✍️ Analysis (Capstone — Titanic) — 3–5 sentences\n",
        "**Analysis:**\n",
        "\n",
        "From my analysis of the Titanic dataset, I found that a significant factor in survival was the combination of sex and class, and even the embarkation point for certain groups. Specifically, I observed that **females in First class who embarked from Cherbourg ('C') had a remarkably high survival rate, nearly 98% (0.976)**, as shown in the `grp` table from my subgroup analysis.\n",
        "\n",
        "One limitation I encountered was the **handling of missing age data**. While I used the median age based on sex and class to fill these gaps, this imputation might not perfectly represent the actual ages and could potentially influence the results for certain groups.\n",
        "\n",
        "For a next step, I would like to **further investigate the impact of fare per person (`fare_pp`) on survival**. I could explore different ways of bucketing this feature or visualize its relationship with survival using a scatter plot to see if there are clearer patterns beyond the initial buckets I created."
      ],
      "id": "482888db"
    }
  ],
  "metadata": {
    "colab": {
      "provenance": [],
      "collapsed_sections": [
        "6TpgnKtk06WI"
      ]
    },
    "kernelspec": {
      "display_name": "Python 3",
      "language": "python",
      "name": "python3"
    },
    "language_info": {
      "name": "python",
      "pygments_lexer": "ipython3"
    }
  },
  "nbformat": 4,
  "nbformat_minor": 5
}